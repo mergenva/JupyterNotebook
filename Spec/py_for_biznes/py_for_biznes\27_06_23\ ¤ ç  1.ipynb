{
 "cells": [
  {
   "cell_type": "markdown",
   "id": "38d82c76",
   "metadata": {},
   "source": [
    "Задача 1\n",
    "\n",
    "Записать в файл Excel Метеостанции, которые находятся ниже уровня моря (Высота менише нуля, но не -999.9)\n",
    "\n",
    "Нужны колонки широта, долгота, высота и название населённого пункта\n",
    "\n",
    "Добавить шапку таблицы в первой строке"
   ]
  },
  {
   "cell_type": "code",
   "execution_count": 16,
   "id": "1639f17f",
   "metadata": {},
   "outputs": [],
   "source": [
    "import math\n",
    "import openpyxl\n",
    "from openpyxl.styles import Font, Alignment"
   ]
  },
  {
   "cell_type": "markdown",
   "id": "b6604d1e",
   "metadata": {},
   "source": [
    "Обработаем входной файл и соберём интересующие нас данные как список кортежей (один кортеж - одна строка будущей таблицы)"
   ]
  },
  {
   "cell_type": "code",
   "execution_count": 5,
   "id": "e3ed2ca1",
   "metadata": {},
   "outputs": [],
   "source": [
    "f = open(r\"Z:\\Python-BI июнь 2023\\Датасеты\\Метеостанции.txt\", 'rt')\n",
    "\n",
    "rows = []\n",
    "\n",
    "for line in f:  # обходим сам объект f\n",
    "    latitude = float(line[11:20])\n",
    "    longitude = float(line[21:30])\n",
    "    altitude = float(line[31:38])\n",
    "    name = line[41:72].rstrip()\n",
    "    \n",
    "    if altitude == -999.9:\n",
    "       altitude = math.nan\n",
    "\n",
    "    if altitude < 0:\n",
    "        rows.append((latitude, longitude, altitude, name))  # две пары скобок потому что кортеж\n"
   ]
  },
  {
   "cell_type": "markdown",
   "id": "d225b811",
   "metadata": {},
   "source": [
    "Теперь запишем полученные данные в Excel"
   ]
  },
  {
   "cell_type": "code",
   "execution_count": 24,
   "id": "4d2bcadd",
   "metadata": {},
   "outputs": [],
   "source": [
    "wb = openpyxl.Workbook()\n",
    "ws = wb.active\n",
    "\n",
    "ws.column_dimensions['D'].width = 50  # ширина колонки\n",
    "\n",
    "ws['A1'] = 'Широта'\n",
    "ws['B1'] = 'Долгота'\n",
    "ws['C1'] = 'Высота над уровнем моря'\n",
    "ws['D1'] = 'Название'\n",
    "\n",
    "title_font = Font(color='000088', bold=True)\n",
    "title_alignment = Alignment(horizontal='center', vertical='center')\n",
    "for col_n in range(1, 5):\n",
    "    ws.cell(1, col_n).font = title_font\n",
    "    ws.cell(1, col_n).alignment = title_alignment\n",
    "\n",
    "# row_n = 2  # Первая строка - шапка таблицы\n",
    "# for latitude, longitude, altitude, name in rows:  # rows - составленный список метеостанций\n",
    "#     ws.cell(row_n, 1).value = latitude\n",
    "#     ws.cell(row_n, 2).value = longitude\n",
    "#     ws.cell(row_n, 3).value = altitude\n",
    "#     ws.cell(row_n, 4).value = name\n",
    "#     row_n += 1\n",
    "\n",
    "for row_n, row in enumerate(rows, start=2):  # rows - составленный список метеостанций\n",
    "    latitude, longitude, altitude, name = row\n",
    "    ws.cell(row_n, 1).value = latitude\n",
    "    ws.cell(row_n, 2).value = longitude\n",
    "    ws.cell(row_n, 3).value = altitude\n",
    "    ws.cell(row_n, 4).value = name\n",
    "\n",
    "wb.save('Meteo.xlsx')"
   ]
  }
 ],
 "metadata": {
  "kernelspec": {
   "display_name": "Python 3 (ipykernel)",
   "language": "python",
   "name": "python3"
  },
  "language_info": {
   "codemirror_mode": {
    "name": "ipython",
    "version": 3
   },
   "file_extension": ".py",
   "mimetype": "text/x-python",
   "name": "python",
   "nbconvert_exporter": "python",
   "pygments_lexer": "ipython3",
   "version": "3.11.4"
  }
 },
 "nbformat": 4,
 "nbformat_minor": 5
}
