{
 "cells": [
  {
   "cell_type": "markdown",
   "id": "59d99cc4",
   "metadata": {},
   "source": [
    "Задача 3\n",
    "\n",
    "1. Прочитать Скатерти.**xlsx**\n",
    "2. Собрать в список все значения из первой колонки\n",
    "3. Найти размер и артикул там где они есть, вывести на экран\n",
    "4. Вывести одтельно длину и ширину каждого товара. Длина - это больший из двух размеров.\n",
    "\n",
    "```\n",
    "[0-9]{2,3}[*xх][0-9]{2,3} - размер скатерти\n",
    "арт\\.[0-9\\-А-Я]{5,15} - артикул\n",
    "```"
   ]
  }
 ],
 "metadata": {
  "kernelspec": {
   "display_name": "Python 3 (ipykernel)",
   "language": "python",
   "name": "python3"
  },
  "language_info": {
   "codemirror_mode": {
    "name": "ipython",
    "version": 3
   },
   "file_extension": ".py",
   "mimetype": "text/x-python",
   "name": "python",
   "nbconvert_exporter": "python",
   "pygments_lexer": "ipython3",
   "version": "3.11.4"
  }
 },
 "nbformat": 4,
 "nbformat_minor": 5
}
