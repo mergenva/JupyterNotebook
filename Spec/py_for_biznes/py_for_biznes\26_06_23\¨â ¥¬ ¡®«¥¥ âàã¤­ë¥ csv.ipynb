{
 "cells": [
  {
   "cell_type": "code",
   "execution_count": 3,
   "id": "0ef68fb4",
   "metadata": {},
   "outputs": [],
   "source": [
    "import csv"
   ]
  },
  {
   "cell_type": "code",
   "execution_count": 10,
   "id": "f2340d2b",
   "metadata": {},
   "outputs": [
    {
     "name": "stdout",
     "output_type": "stream",
     "text": [
      "['a', 'b', 'c', 'd']\n",
      "['123', '234', '345', '26.июн', 'text123']\n",
      "['5464', '2,14', '27.июн', 'dfasd']\n",
      "['789', '345', '65', '28.июн', 'привет, \"Специалист\"']\n",
      "['46', '', '29.июн', 'sdfas']\n",
      "['123', '56', '30.июн', 'fas']\n"
     ]
    }
   ],
   "source": [
    "f = open(\"Книга1 с запятыми.csv\", 'rt', encoding='utf-8-sig')\n",
    "data = csv.reader(f)  # вместо readlines(). Здесь иногда нужно указывать delimiter (разделитель), если это не запятая\n",
    "\n",
    "for cells in data:  # cells - список строк\n",
    "    print(cells)  # csv делает \"умный\" split"
   ]
  }
 ],
 "metadata": {
  "kernelspec": {
   "display_name": "Python 3 (ipykernel)",
   "language": "python",
   "name": "python3"
  },
  "language_info": {
   "codemirror_mode": {
    "name": "ipython",
    "version": 3
   },
   "file_extension": ".py",
   "mimetype": "text/x-python",
   "name": "python",
   "nbconvert_exporter": "python",
   "pygments_lexer": "ipython3",
   "version": "3.11.4"
  }
 },
 "nbformat": 4,
 "nbformat_minor": 5
}
