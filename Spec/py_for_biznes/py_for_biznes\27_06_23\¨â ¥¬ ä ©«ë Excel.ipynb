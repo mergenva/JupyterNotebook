{
 "cells": [
  {
   "cell_type": "code",
   "execution_count": 1,
   "id": "0ca30fa4",
   "metadata": {},
   "outputs": [],
   "source": [
    "import openpyxl"
   ]
  },
  {
   "cell_type": "markdown",
   "id": "aaa345aa",
   "metadata": {},
   "source": [
    "openpyxl работает с xlsx. Для более старого формата xls нужны другие библиотеки - xlrd, xlwt."
   ]
  },
  {
   "cell_type": "code",
   "execution_count": 8,
   "id": "0de2e0bf",
   "metadata": {},
   "outputs": [
    {
     "data": {
      "text/plain": [
       "'ОСНОВНЫЕ ПОКАЗАТЕЛИ РЕЗУЛЬТАТИВНОСТИ ИССЛЕДОВАНИЙ И РАЗРАБОТОК, КАДРОВОГО ПОТЕНЦИАЛА  ПО ГРУППАМ НАУЧНЫХ СПЕЦИАЛЬНОСТЕЙ  В 2022 ГОДУ'"
      ]
     },
     "execution_count": 8,
     "metadata": {},
     "output_type": "execute_result"
    }
   ],
   "source": [
    "wb = openpyxl.load_workbook(r\"Z:\\Python-BI июнь 2023\\Датасеты\\Отчет_2022(Тарасов_Р.).xlsx\")\n",
    "ws = wb['Табл.23']  # вместо активного можно просто вписать название\n",
    "ws['A1'].value"
   ]
  },
  {
   "cell_type": "code",
   "execution_count": 12,
   "id": "a385ed78",
   "metadata": {},
   "outputs": [
    {
     "name": "stdout",
     "output_type": "stream",
     "text": [
      "Всего\n",
      "Группа научных специальностей\n",
      "None\n",
      "РИНЦ\n",
      "None\n"
     ]
    }
   ],
   "source": [
    "print(ws['A5'].value)\n",
    "\n",
    "print(ws['A2'].value)\n",
    "print(ws['A3'].value)\n",
    "\n",
    "print(ws['D2'].value)\n",
    "print(ws['E2'].value)"
   ]
  },
  {
   "cell_type": "code",
   "execution_count": 15,
   "id": "5a347891",
   "metadata": {},
   "outputs": [
    {
     "name": "stdout",
     "output_type": "stream",
     "text": [
      "Группа научных специальностей\n",
      "Код строки\n",
      "Шифр\n",
      "РИНЦ\n",
      "None\n",
      "Результативность исследований и разработок, ед.\n",
      "None\n",
      "None\n",
      "Работники, выполнявшие научные исследования и разработки, чел.\n",
      "None\n",
      "None\n",
      "None\n",
      "None\n"
     ]
    }
   ],
   "source": [
    "for cell in ws[2]:  # 2я строка\n",
    "    print(cell.value)"
   ]
  },
  {
   "cell_type": "code",
   "execution_count": 16,
   "id": "1de45391",
   "metadata": {},
   "outputs": [
    {
     "name": "stdout",
     "output_type": "stream",
     "text": [
      "ОСНОВНЫЕ ПОКАЗАТЕЛИ РЕЗУЛЬТАТИВНОСТИ ИССЛЕДОВАНИЙ И РАЗРАБОТОК, КАДРОВОГО ПОТЕНЦИАЛА  ПО ГРУППАМ НАУЧНЫХ СПЕЦИАЛЬНОСТЕЙ  В 2022 ГОДУ\n",
      "Группа научных специальностей\n",
      "None\n",
      "1\n",
      "Всего\n",
      "Всего по группам научных специальностей\n",
      "Математика и механика\n",
      "Компьютерные науки и информатика\n",
      "Физические науки\n",
      "Химические науки\n",
      "Биологические науки\n",
      "Науки о Земле и окружающей среде\n",
      "Строительство и архитектура\n",
      "Электроника, фотоника, приборостроение и связь\n",
      "Информационные технологии и телекоммуникации\n",
      "Энергетика и электротехника\n",
      "Машиностроение\n",
      "Химические технологии, науки о материалах, металлургия\n",
      "Биотехнологии\n",
      "Недропользование и горные науки\n",
      "Транспортные системы\n",
      "Техносферная безопасность\n",
      "Клиническая медицина\n",
      "Профилактическая медицина\n",
      "Медико-биологические науки\n",
      "Фармацевтические науки\n",
      "Агрономия, лесное и водное хозяйство\n",
      "Зоотехния и ветеринария\n",
      "Агроинженерия и пищевые технологии\n",
      "Право\n",
      "Экономика\n",
      "Психология\n",
      "Социология\n",
      "Политические науки\n",
      "Исторические науки\n",
      "Философия\n",
      "Педагогика\n",
      "Филология\n",
      "Искусствоведение и культурология\n",
      "Теология\n",
      "Когнитивные науки\n",
      "None\n",
      "None\n"
     ]
    }
   ],
   "source": [
    "for cell in ws['A']:  # колонка A\n",
    "    print(cell.value)"
   ]
  },
  {
   "cell_type": "code",
   "execution_count": 17,
   "id": "84f20b26",
   "metadata": {},
   "outputs": [
    {
     "name": "stdout",
     "output_type": "stream",
     "text": [
      "Всего 1\n",
      "Всего по группам научных специальностей 2\n",
      "Математика и механика 3\n",
      "Компьютерные науки и информатика 4\n",
      "Физические науки 5\n"
     ]
    }
   ],
   "source": [
    "for row in ws['A5':'B9']:  # row - кортеж из 2-х ячеек в строке\n",
    "    group = row[0].value\n",
    "    code = row[1].value\n",
    "    print(group, code)"
   ]
  }
 ],
 "metadata": {
  "kernelspec": {
   "display_name": "Python 3 (ipykernel)",
   "language": "python",
   "name": "python3"
  },
  "language_info": {
   "codemirror_mode": {
    "name": "ipython",
    "version": 3
   },
   "file_extension": ".py",
   "mimetype": "text/x-python",
   "name": "python",
   "nbconvert_exporter": "python",
   "pygments_lexer": "ipython3",
   "version": "3.11.4"
  }
 },
 "nbformat": 4,
 "nbformat_minor": 5
}
