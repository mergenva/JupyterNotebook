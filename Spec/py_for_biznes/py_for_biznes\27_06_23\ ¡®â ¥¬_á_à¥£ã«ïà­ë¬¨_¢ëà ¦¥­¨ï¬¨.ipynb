{
 "cells": [
  {
   "cell_type": "code",
   "execution_count": 20,
   "id": "a6889d32",
   "metadata": {},
   "outputs": [],
   "source": [
    "s1 = \"\"\"Добрый день!\n",
    "\n",
    "Ниже приведены пять адресов электронной почты, которые могут пригодиться для связи:\n",
    "\n",
    "1. johndoe@example.com\n",
    "2. sarah_223@hotmail.com\n",
    "3. mike.smith@mail.ru\n",
    "4. anna.stefanova@gmail.com\n",
    "5. peter.eckhardt@outlook.com\n",
    "\n",
    "Будьте уверены, что все эти адреса точны и действительны для использования.\n",
    "\n",
    "С наилучшими пожеланиями,\n",
    "Ваш [Ваше имя]\"\"\"\n",
    "\n",
    "s2 = \"mike.smith@mail.ru\"\n",
    "s3 = \"не почта\"\n",
    "\n",
    "email_regex1 = r'[\\w\\.]+@[\\w\\.]+\\.[a-z]{2,20}'\n",
    "email_regex2 = r'([\\w\\.]+)@[\\w\\.]+(\\.[a-z]{2,20})'  # с группами (фрагментами)"
   ]
  },
  {
   "cell_type": "code",
   "execution_count": 3,
   "id": "ec44b549",
   "metadata": {},
   "outputs": [],
   "source": [
    "import re  # Встроенная: https://docs.python.org/3/library/re.html"
   ]
  },
  {
   "cell_type": "markdown",
   "id": "bc945505",
   "metadata": {},
   "source": [
    "## Хотим понять, является ли строка целиком почтой"
   ]
  },
  {
   "cell_type": "code",
   "execution_count": 11,
   "id": "8c31872c",
   "metadata": {},
   "outputs": [
    {
     "name": "stdout",
     "output_type": "stream",
     "text": [
      "None\n",
      "<re.Match object; span=(0, 18), match='mike.smith@mail.ru'>\n",
      "s1 это не почта\n",
      "mike.smith@mail.ru это почта\n"
     ]
    }
   ],
   "source": [
    "m1 = re.match(email_regex1, s1)\n",
    "print(m1)  # если совпадения нет, то получаем None\n",
    "\n",
    "m2 = re.match(email_regex1, s2)\n",
    "print(m2)  # Объект match\n",
    "\n",
    "if m1 is None:  # либо if not m1:\n",
    "    print('s1 это не почта')\n",
    "\n",
    "if m2 is not None:  # либо if m2:\n",
    "    print(s2, 'это почта')"
   ]
  },
  {
   "cell_type": "markdown",
   "id": "6115cb46",
   "metadata": {},
   "source": [
    "Теперь то же самое, но с группами (фрагментами)"
   ]
  },
  {
   "cell_type": "code",
   "execution_count": 14,
   "id": "cf44edb0",
   "metadata": {},
   "outputs": [
    {
     "name": "stdout",
     "output_type": "stream",
     "text": [
      "<re.Match object; span=(0, 18), match='mike.smith@mail.ru'>\n",
      "mike.smith@mail.ru это почта\n",
      "mike.smith@mail.ru\n",
      "mike.smith\n",
      ".ru\n"
     ]
    }
   ],
   "source": [
    "m2 = re.match(email_regex2, s2)  # другое регулярное выражение\n",
    "print(m2)  # Объект match\n",
    "\n",
    "if m2 is not None:  # либо if m2:\n",
    "    print(s2, 'это почта')\n",
    "    \n",
    "    print(m2.group(0))  # вся строка целиком\n",
    "    print(m2.group(1))  # первая пара скобок\n",
    "    print(m2.group(2))  # вторая пара скобок в выражении"
   ]
  },
  {
   "cell_type": "markdown",
   "id": "ba1fc260",
   "metadata": {},
   "source": [
    "## Хотим найти первую почту в тексте"
   ]
  },
  {
   "cell_type": "code",
   "execution_count": 15,
   "id": "942e82b3",
   "metadata": {},
   "outputs": [
    {
     "name": "stdout",
     "output_type": "stream",
     "text": [
      "<re.Match object; span=(102, 121), match='johndoe@example.com'>\n",
      "johndoe@example.com\n"
     ]
    }
   ],
   "source": [
    "m5 = re.search(email_regex1, s1)\n",
    "\n",
    "if m5 is not None:\n",
    "    print(m5)\n",
    "    print(m5.group(0))"
   ]
  },
  {
   "cell_type": "markdown",
   "id": "a5396c92",
   "metadata": {},
   "source": [
    "## Хотим найти все совпадения в тексте"
   ]
  },
  {
   "cell_type": "code",
   "execution_count": 16,
   "id": "13eed52f",
   "metadata": {},
   "outputs": [
    {
     "name": "stdout",
     "output_type": "stream",
     "text": [
      "['johndoe@example.com', 'sarah_223@hotmail.com', 'mike.smith@mail.ru', 'anna.stefanova@gmail.com', 'peter.eckhardt@outlook.com']\n"
     ]
    }
   ],
   "source": [
    "emails1 = re.findall(email_regex1, s1)\n",
    "\n",
    "print(emails1)  # просто список строк"
   ]
  },
  {
   "cell_type": "code",
   "execution_count": 21,
   "id": "114f9e9e",
   "metadata": {},
   "outputs": [
    {
     "name": "stdout",
     "output_type": "stream",
     "text": [
      "[('johndoe', '.com'), ('sarah_223', '.com'), ('mike.smith', '.ru'), ('anna.stefanova', '.com'), ('peter.eckhardt', '.com')]\n"
     ]
    }
   ],
   "source": [
    "emails2 = re.findall(email_regex2, s1)\n",
    "print(emails2)  # список кортежей строк"
   ]
  },
  {
   "cell_type": "markdown",
   "id": "b501e2cf",
   "metadata": {},
   "source": [
    "## Хотим заменить все имейлы в тексте на ***"
   ]
  },
  {
   "cell_type": "code",
   "execution_count": 23,
   "id": "8cff6cb0",
   "metadata": {},
   "outputs": [
    {
     "name": "stdout",
     "output_type": "stream",
     "text": [
      "Добрый день!\n",
      "\n",
      "Ниже приведены пять адресов электронной почты, которые могут пригодиться для связи:\n",
      "\n",
      "1. ***\n",
      "2. ***\n",
      "3. ***\n",
      "4. ***\n",
      "5. ***\n",
      "\n",
      "Будьте уверены, что все эти адреса точны и действительны для использования.\n",
      "\n",
      "С наилучшими пожеланиями,\n",
      "Ваш [Ваше имя]\n"
     ]
    }
   ],
   "source": [
    "s3_censored = re.sub(email_regex1, '***', s1)  # str.replace(), но с регулярками\n",
    "print(s3_censored)"
   ]
  },
  {
   "cell_type": "markdown",
   "id": "641a63f6",
   "metadata": {},
   "source": [
    "## Хотим разделить строку наподобие split, но не по конкретному символу"
   ]
  },
  {
   "cell_type": "code",
   "execution_count": 26,
   "id": "e0b6a580",
   "metadata": {},
   "outputs": [
    {
     "name": "stdout",
     "output_type": "stream",
     "text": [
      "['123', 'name', '234523', '54634.234', '4563']\n"
     ]
    }
   ],
   "source": [
    "s4 = '123|name;234523,54634.234;4563'\n",
    "cells = re.split(r'[|,;]', s4)\n",
    "print(cells)"
   ]
  },
  {
   "cell_type": "markdown",
   "id": "7a8c0b9d",
   "metadata": {},
   "source": [
    "## Про флаги"
   ]
  },
  {
   "cell_type": "code",
   "execution_count": 31,
   "id": "3e9a45f8",
   "metadata": {},
   "outputs": [],
   "source": [
    "s5 = \"\"\"Добрый день!\n",
    "\n",
    "Ниже приведены пять адресов электронной почты, которые могут пригодиться для связи:\n",
    "\n",
    "1. johndoe@example.com\n",
    "2. sarah_223@hotmail.com\n",
    "3. mike.smith@mail.RU\n",
    "4. anna.stefanova@gmail.com\n",
    "5. peter.eckhardt@outlook.com\n",
    "6. User@gmail.com\n",
    "7. менеджер@специалист.рф\n",
    "\n",
    "Будьте уверены, что все эти адреса точны и действительны для использования.\n",
    "\n",
    "С наилучшими пожеланиями,\n",
    "Ваш [Ваше имя]\"\"\"\n",
    "\n",
    "email_regex3 = r'[\\w\\.]+@[\\w\\.]+\\.[\\w]{2,20}'\n",
    "email_regex4 = r'[a-z_\\.]+@[a-z_\\.]+\\.[a-z]{2,20}'"
   ]
  },
  {
   "cell_type": "code",
   "execution_count": 39,
   "id": "7c4dc43a",
   "metadata": {},
   "outputs": [
    {
     "name": "stdout",
     "output_type": "stream",
     "text": [
      "['johndoe@example.com', 'sarah_223@hotmail.com', 'mike.smith@mail.ru', 'anna.stefanova@gmail.com', 'peter.eckhardt@outlook.com', 'user@gmail.com']\n",
      "['johndoe@example.com', 'sarah_223@hotmail.com', 'mike.smith@mail.RU', 'anna.stefanova@gmail.com', 'peter.eckhardt@outlook.com', 'User@gmail.com']\n",
      "['johndoe@example.com', 'sarah_223@hotmail.com', 'mike.smith@mail.RU', 'anna.stefanova@gmail.com', 'peter.eckhardt@outlook.com', 'User@gmail.com', 'менеджер@специалист.рф']\n",
      "['johndoe@example.com', 'anna.stefanova@gmail.com', 'peter.eckhardt@outlook.com', 'ser@gmail.com', 'менеджер@специалист.рф']\n"
     ]
    }
   ],
   "source": [
    "emails3 = re.findall(email_regex1, s5.lower())\n",
    "print(emails3)\n",
    "emails3 = re.findall(email_regex1, s5, flags=re.I)  # re.IGNORECASE\n",
    "print(emails3)\n",
    "emails4 = re.findall(email_regex3, s5, flags=re.U)  # re.UNICODE\n",
    "print(emails4)\n",
    "emails4 = re.findall(r'[a-zа-я_\\.]+@[a-zа-я_\\.]+\\.[a-zа-я]{2,20}', s5)\n",
    "print(emails4)"
   ]
  }
 ],
 "metadata": {
  "kernelspec": {
   "display_name": "Python 3 (ipykernel)",
   "language": "python",
   "name": "python3"
  },
  "language_info": {
   "codemirror_mode": {
    "name": "ipython",
    "version": 3
   },
   "file_extension": ".py",
   "mimetype": "text/x-python",
   "name": "python",
   "nbconvert_exporter": "python",
   "pygments_lexer": "ipython3",
   "version": "3.11.4"
  }
 },
 "nbformat": 4,
 "nbformat_minor": 5
}
