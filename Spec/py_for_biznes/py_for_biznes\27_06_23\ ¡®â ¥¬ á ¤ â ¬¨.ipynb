{
 "cells": [
  {
   "cell_type": "code",
   "execution_count": 1,
   "id": "1e474620",
   "metadata": {},
   "outputs": [],
   "source": [
    "import datetime  # стандартная библиотека"
   ]
  },
  {
   "cell_type": "code",
   "execution_count": 4,
   "id": "0771602c",
   "metadata": {},
   "outputs": [
    {
     "name": "stdout",
     "output_type": "stream",
     "text": [
      "2023-06-27 2023-07-01\n"
     ]
    }
   ],
   "source": [
    "d1 = datetime.date.today()\n",
    "d2 = datetime.date(2023, 7, 1)  # 1 июля\n",
    "print(d1, d2)"
   ]
  },
  {
   "cell_type": "code",
   "execution_count": 10,
   "id": "02f41057",
   "metadata": {},
   "outputs": [
    {
     "data": {
      "text/plain": [
       "datetime.datetime(2023, 6, 27, 10, 35, 47, 161087)"
      ]
     },
     "execution_count": 10,
     "metadata": {},
     "output_type": "execute_result"
    }
   ],
   "source": [
    "t1 = datetime.datetime.now()\n",
    "t1"
   ]
  },
  {
   "cell_type": "code",
   "execution_count": 6,
   "id": "8b81f9d3",
   "metadata": {},
   "outputs": [
    {
     "name": "stdout",
     "output_type": "stream",
     "text": [
      "False\n",
      "4 days, 0:00:00\n",
      "2023-07-12\n"
     ]
    }
   ],
   "source": [
    "print(d1 > d2)\n",
    "print(d2 - d1)\n",
    "print(d1 + datetime.timedelta(days=15))"
   ]
  },
  {
   "cell_type": "code",
   "execution_count": 9,
   "id": "e3d292d1",
   "metadata": {},
   "outputs": [
    {
     "name": "stdout",
     "output_type": "stream",
     "text": [
      "2023-06-27\n",
      "06.27.2023\n",
      "27/06/23\n"
     ]
    }
   ],
   "source": [
    "print(d1)\n",
    "print(d1.strftime(\"%m.%d.%Y\"))\n",
    "print(d1.strftime(\"%d/%m/%y\"))"
   ]
  }
 ],
 "metadata": {
  "kernelspec": {
   "display_name": "Python 3 (ipykernel)",
   "language": "python",
   "name": "python3"
  },
  "language_info": {
   "codemirror_mode": {
    "name": "ipython",
    "version": 3
   },
   "file_extension": ".py",
   "mimetype": "text/x-python",
   "name": "python",
   "nbconvert_exporter": "python",
   "pygments_lexer": "ipython3",
   "version": "3.11.4"
  }
 },
 "nbformat": 4,
 "nbformat_minor": 5
}
