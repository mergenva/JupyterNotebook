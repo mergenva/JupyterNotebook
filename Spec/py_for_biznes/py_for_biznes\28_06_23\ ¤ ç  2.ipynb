{
 "cells": [
  {
   "cell_type": "markdown",
   "id": "2db505f0",
   "metadata": {},
   "source": [
    "Задача 2\n",
    "\n",
    "а)\n",
    "Узнать курсы доллара, евро и юаня за 100 последних календарных дней\n",
    "\n",
    "R01235 - доллар, R01239 - евро, R01375 - юань\n",
    "\n",
    "Даты должны отсчитываться от даты запуска программы (формат даты ```%d/%m/%Y```)\n",
    "\n",
    "date_req1 - дата начала, date_req2 - дата конца\n",
    "\n",
    "б)\n",
    "Выгрузить курсы валют в виде таблицы с 4 колонками: дата, доллар, евро, юань\n",
    "(В любом формате)\n",
    "\n",
    "в*) (сделаем вместе) Изменить в таблице формат дат на дату вида \"08 июн 2023\"\n"
   ]
  },
  {
   "cell_type": "code",
   "execution_count": 1,
   "id": "bd7eaaa8",
   "metadata": {},
   "outputs": [
    {
     "data": {
      "text/plain": [
       "'https://www.cbr.ru/scripts/XML_dynamic.asp?date_req1=02/03/2001&date_req2=14/03/2001&VAL_NM_RQ=R01235'"
      ]
     },
     "execution_count": 1,
     "metadata": {},
     "output_type": "execute_result"
    }
   ],
   "source": [
    "'https://www.cbr.ru/scripts/XML_dynamic.asp?date_req1=02/03/2001&date_req2=14/03/2001&VAL_NM_RQ=R01235'"
   ]
  },
  {
   "cell_type": "code",
   "execution_count": 3,
   "id": "135e5502",
   "metadata": {},
   "outputs": [],
   "source": [
    "from xml.etree import ElementTree\n",
    "import datetime\n",
    "import requests"
   ]
  },
  {
   "cell_type": "code",
   "execution_count": 7,
   "id": "27ff0f9e",
   "metadata": {},
   "outputs": [
    {
     "name": "stdout",
     "output_type": "stream",
     "text": [
      "20/03/2023\n"
     ]
    }
   ],
   "source": [
    "d2 = datetime.date.today()\n",
    "d2_ddmmyyyy  =d2.strftime('%d/%m/%Y')\n",
    "\n",
    "d1 = d2 - datetime.timedelta(days=100)\n",
    "d1_ddmmyyyy  =d1.strftime('%d/%m/%Y')\n",
    "\n",
    "print(d1_ddmmyyyy)"
   ]
  },
  {
   "cell_type": "code",
   "execution_count": 9,
   "id": "4d9c9212",
   "metadata": {},
   "outputs": [],
   "source": [
    "currencies = {\n",
    "    \"доллар\": \"R01235\",\n",
    "    \"евро\": \"R01239\",\n",
    "    \"юань\": \"R01375\"\n",
    "}"
   ]
  },
  {
   "cell_type": "markdown",
   "id": "bd651cd9",
   "metadata": {},
   "source": [
    "Запрос - 1й способ: вписываем переменные в строку"
   ]
  },
  {
   "cell_type": "code",
   "execution_count": 12,
   "id": "1a5329ec",
   "metadata": {
    "collapsed": true
   },
   "outputs": [
    {
     "data": {
      "text/plain": [
       "'<?xml version=\"1.0\" encoding=\"windows-1251\"?><ValCurs ID=\"R01235\" DateRange1=\"20.03.2023\" DateRange2=\"28.06.2023\" name=\"Foreign Currency Market Dynamic\"><Record Date=\"21.03.2023\" Id=\"R01235\"><Nominal>1</Nominal><Value>77,2422</Value></Record><Record Date=\"22.03.2023\" Id=\"R01235\"><Nominal>1</Nominal><Value>76,8373</Value></Record><Record Date=\"23.03.2023\" Id=\"R01235\"><Nominal>1</Nominal><Value>76,9561</Value></Record><Record Date=\"24.03.2023\" Id=\"R01235\"><Nominal>1</Nominal><Value>76,3072</Value></Record><Record Date=\"25.03.2023\" Id=\"R01235\"><Nominal>1</Nominal><Value>76,4479</Value></Record><Record Date=\"28.03.2023\" Id=\"R01235\"><Nominal>1</Nominal><Value>76,5662</Value></Record><Record Date=\"29.03.2023\" Id=\"R01235\"><Nominal>1</Nominal><Value>76,5939</Value></Record><Record Date=\"30.03.2023\" Id=\"R01235\"><Nominal>1</Nominal><Value>76,9781</Value></Record><Record Date=\"31.03.2023\" Id=\"R01235\"><Nominal>1</Nominal><Value>77,0863</Value></Record><Record Date=\"01.04.2023\" Id=\"R01235\"><Nominal>1</Nominal><Value>77,3233</Value></Record><Record Date=\"04.04.2023\" Id=\"R01235\"><Nominal>1</Nominal><Value>77,9510</Value></Record><Record Date=\"05.04.2023\" Id=\"R01235\"><Nominal>1</Nominal><Value>79,3563</Value></Record><Record Date=\"06.04.2023\" Id=\"R01235\"><Nominal>1</Nominal><Value>79,4961</Value></Record><Record Date=\"07.04.2023\" Id=\"R01235\"><Nominal>1</Nominal><Value>80,6713</Value></Record><Record Date=\"08.04.2023\" Id=\"R01235\"><Nominal>1</Nominal><Value>82,3988</Value></Record><Record Date=\"11.04.2023\" Id=\"R01235\"><Nominal>1</Nominal><Value>81,7441</Value></Record><Record Date=\"12.04.2023\" Id=\"R01235\"><Nominal>1</Nominal><Value>82,1799</Value></Record><Record Date=\"13.04.2023\" Id=\"R01235\"><Nominal>1</Nominal><Value>82,0934</Value></Record><Record Date=\"14.04.2023\" Id=\"R01235\"><Nominal>1</Nominal><Value>81,6758</Value></Record><Record Date=\"15.04.2023\" Id=\"R01235\"><Nominal>1</Nominal><Value>81,5045</Value></Record><Record Date=\"18.04.2023\" Id=\"R01235\"><Nominal>1</Nominal><Value>81,6279</Value></Record><Record Date=\"19.04.2023\" Id=\"R01235\"><Nominal>1</Nominal><Value>81,6028</Value></Record><Record Date=\"20.04.2023\" Id=\"R01235\"><Nominal>1</Nominal><Value>81,6549</Value></Record><Record Date=\"21.04.2023\" Id=\"R01235\"><Nominal>1</Nominal><Value>81,6188</Value></Record><Record Date=\"22.04.2023\" Id=\"R01235\"><Nominal>1</Nominal><Value>81,4863</Value></Record><Record Date=\"25.04.2023\" Id=\"R01235\"><Nominal>1</Nominal><Value>81,2745</Value></Record><Record Date=\"26.04.2023\" Id=\"R01235\"><Nominal>1</Nominal><Value>81,5499</Value></Record><Record Date=\"27.04.2023\" Id=\"R01235\"><Nominal>1</Nominal><Value>81,6274</Value></Record><Record Date=\"28.04.2023\" Id=\"R01235\"><Nominal>1</Nominal><Value>81,5601</Value></Record><Record Date=\"29.04.2023\" Id=\"R01235\"><Nominal>1</Nominal><Value>80,5093</Value></Record><Record Date=\"03.05.2023\" Id=\"R01235\"><Nominal>1</Nominal><Value>79,9609</Value></Record><Record Date=\"04.05.2023\" Id=\"R01235\"><Nominal>1</Nominal><Value>79,3071</Value></Record><Record Date=\"05.05.2023\" Id=\"R01235\"><Nominal>1</Nominal><Value>78,6139</Value></Record><Record Date=\"06.05.2023\" Id=\"R01235\"><Nominal>1</Nominal><Value>76,8207</Value></Record><Record Date=\"11.05.2023\" Id=\"R01235\"><Nominal>1</Nominal><Value>76,6929</Value></Record><Record Date=\"12.05.2023\" Id=\"R01235\"><Nominal>1</Nominal><Value>75,8846</Value></Record><Record Date=\"13.05.2023\" Id=\"R01235\"><Nominal>1</Nominal><Value>77,2041</Value></Record><Record Date=\"16.05.2023\" Id=\"R01235\"><Nominal>1</Nominal><Value>79,1004</Value></Record><Record Date=\"17.05.2023\" Id=\"R01235\"><Nominal>1</Nominal><Value>79,9798</Value></Record><Record Date=\"18.05.2023\" Id=\"R01235\"><Nominal>1</Nominal><Value>80,7642</Value></Record><Record Date=\"19.05.2023\" Id=\"R01235\"><Nominal>1</Nominal><Value>80,0366</Value></Record><Record Date=\"20.05.2023\" Id=\"R01235\"><Nominal>1</Nominal><Value>79,9093</Value></Record><Record Date=\"23.05.2023\" Id=\"R01235\"><Nominal>1</Nominal><Value>79,9379</Value></Record><Record Date=\"24.05.2023\" Id=\"R01235\"><Nominal>1</Nominal><Value>80,1665</Value></Record><Record Date=\"25.05.2023\" Id=\"R01235\"><Nominal>1</Nominal><Value>79,9669</Value></Record><Record Date=\"26.05.2023\" Id=\"R01235\"><Nominal>1</Nominal><Value>79,9841</Value></Record><Record Date=\"27.05.2023\" Id=\"R01235\"><Nominal>1</Nominal><Value>79,9667</Value></Record><Record Date=\"30.05.2023\" Id=\"R01235\"><Nominal>1</Nominal><Value>80,0555</Value></Record><Record Date=\"31.05.2023\" Id=\"R01235\"><Nominal>1</Nominal><Value>80,6872</Value></Record><Record Date=\"01.06.2023\" Id=\"R01235\"><Nominal>1</Nominal><Value>80,9942</Value></Record><Record Date=\"02.06.2023\" Id=\"R01235\"><Nominal>1</Nominal><Value>80,9657</Value></Record><Record Date=\"03.06.2023\" Id=\"R01235\"><Nominal>1</Nominal><Value>80,8756</Value></Record><Record Date=\"06.06.2023\" Id=\"R01235\"><Nominal>1</Nominal><Value>81,3294</Value></Record><Record Date=\"07.06.2023\" Id=\"R01235\"><Nominal>1</Nominal><Value>81,2502</Value></Record><Record Date=\"08.06.2023\" Id=\"R01235\"><Nominal>1</Nominal><Value>81,4581</Value></Record><Record Date=\"09.06.2023\" Id=\"R01235\"><Nominal>1</Nominal><Value>82,0930</Value></Record><Record Date=\"10.06.2023\" Id=\"R01235\"><Nominal>1</Nominal><Value>82,6417</Value></Record><Record Date=\"14.06.2023\" Id=\"R01235\"><Nominal>1</Nominal><Value>83,6405</Value></Record><Record Date=\"15.06.2023\" Id=\"R01235\"><Nominal>1</Nominal><Value>84,3249</Value></Record><Record Date=\"16.06.2023\" Id=\"R01235\"><Nominal>1</Nominal><Value>83,9611</Value></Record><Record Date=\"17.06.2023\" Id=\"R01235\"><Nominal>1</Nominal><Value>83,6498</Value></Record><Record Date=\"20.06.2023\" Id=\"R01235\"><Nominal>1</Nominal><Value>83,9866</Value></Record><Record Date=\"21.06.2023\" Id=\"R01235\"><Nominal>1</Nominal><Value>84,2336</Value></Record><Record Date=\"22.06.2023\" Id=\"R01235\"><Nominal>1</Nominal><Value>84,2467</Value></Record><Record Date=\"23.06.2023\" Id=\"R01235\"><Nominal>1</Nominal><Value>83,6077</Value></Record><Record Date=\"24.06.2023\" Id=\"R01235\"><Nominal>1</Nominal><Value>84,0793</Value></Record><Record Date=\"27.06.2023\" Id=\"R01235\"><Nominal>1</Nominal><Value>84,6642</Value></Record><Record Date=\"28.06.2023\" Id=\"R01235\"><Nominal>1</Nominal><Value>85,0504</Value></Record></ValCurs>'"
      ]
     },
     "execution_count": 12,
     "metadata": {},
     "output_type": "execute_result"
    }
   ],
   "source": [
    "url = f'https://www.cbr.ru/scripts/XML_dynamic.asp?date_req1={d1_ddmmyyyy}&date_req2={d2_ddmmyyyy}&VAL_NM_RQ={currencies[\"доллар\"]}'\n",
    "resp = requests.get(url)\n",
    "resp.text"
   ]
  },
  {
   "cell_type": "markdown",
   "id": "4def1442",
   "metadata": {},
   "source": [
    "Заспрос - 2й способ - через словарь с параметрами"
   ]
  },
  {
   "cell_type": "code",
   "execution_count": 14,
   "id": "76a1d311",
   "metadata": {
    "collapsed": true
   },
   "outputs": [
    {
     "data": {
      "text/plain": [
       "'<?xml version=\"1.0\" encoding=\"windows-1251\"?><ValCurs ID=\"R01235\" DateRange1=\"20.03.2023\" DateRange2=\"28.06.2023\" name=\"Foreign Currency Market Dynamic\"><Record Date=\"21.03.2023\" Id=\"R01235\"><Nominal>1</Nominal><Value>77,2422</Value></Record><Record Date=\"22.03.2023\" Id=\"R01235\"><Nominal>1</Nominal><Value>76,8373</Value></Record><Record Date=\"23.03.2023\" Id=\"R01235\"><Nominal>1</Nominal><Value>76,9561</Value></Record><Record Date=\"24.03.2023\" Id=\"R01235\"><Nominal>1</Nominal><Value>76,3072</Value></Record><Record Date=\"25.03.2023\" Id=\"R01235\"><Nominal>1</Nominal><Value>76,4479</Value></Record><Record Date=\"28.03.2023\" Id=\"R01235\"><Nominal>1</Nominal><Value>76,5662</Value></Record><Record Date=\"29.03.2023\" Id=\"R01235\"><Nominal>1</Nominal><Value>76,5939</Value></Record><Record Date=\"30.03.2023\" Id=\"R01235\"><Nominal>1</Nominal><Value>76,9781</Value></Record><Record Date=\"31.03.2023\" Id=\"R01235\"><Nominal>1</Nominal><Value>77,0863</Value></Record><Record Date=\"01.04.2023\" Id=\"R01235\"><Nominal>1</Nominal><Value>77,3233</Value></Record><Record Date=\"04.04.2023\" Id=\"R01235\"><Nominal>1</Nominal><Value>77,9510</Value></Record><Record Date=\"05.04.2023\" Id=\"R01235\"><Nominal>1</Nominal><Value>79,3563</Value></Record><Record Date=\"06.04.2023\" Id=\"R01235\"><Nominal>1</Nominal><Value>79,4961</Value></Record><Record Date=\"07.04.2023\" Id=\"R01235\"><Nominal>1</Nominal><Value>80,6713</Value></Record><Record Date=\"08.04.2023\" Id=\"R01235\"><Nominal>1</Nominal><Value>82,3988</Value></Record><Record Date=\"11.04.2023\" Id=\"R01235\"><Nominal>1</Nominal><Value>81,7441</Value></Record><Record Date=\"12.04.2023\" Id=\"R01235\"><Nominal>1</Nominal><Value>82,1799</Value></Record><Record Date=\"13.04.2023\" Id=\"R01235\"><Nominal>1</Nominal><Value>82,0934</Value></Record><Record Date=\"14.04.2023\" Id=\"R01235\"><Nominal>1</Nominal><Value>81,6758</Value></Record><Record Date=\"15.04.2023\" Id=\"R01235\"><Nominal>1</Nominal><Value>81,5045</Value></Record><Record Date=\"18.04.2023\" Id=\"R01235\"><Nominal>1</Nominal><Value>81,6279</Value></Record><Record Date=\"19.04.2023\" Id=\"R01235\"><Nominal>1</Nominal><Value>81,6028</Value></Record><Record Date=\"20.04.2023\" Id=\"R01235\"><Nominal>1</Nominal><Value>81,6549</Value></Record><Record Date=\"21.04.2023\" Id=\"R01235\"><Nominal>1</Nominal><Value>81,6188</Value></Record><Record Date=\"22.04.2023\" Id=\"R01235\"><Nominal>1</Nominal><Value>81,4863</Value></Record><Record Date=\"25.04.2023\" Id=\"R01235\"><Nominal>1</Nominal><Value>81,2745</Value></Record><Record Date=\"26.04.2023\" Id=\"R01235\"><Nominal>1</Nominal><Value>81,5499</Value></Record><Record Date=\"27.04.2023\" Id=\"R01235\"><Nominal>1</Nominal><Value>81,6274</Value></Record><Record Date=\"28.04.2023\" Id=\"R01235\"><Nominal>1</Nominal><Value>81,5601</Value></Record><Record Date=\"29.04.2023\" Id=\"R01235\"><Nominal>1</Nominal><Value>80,5093</Value></Record><Record Date=\"03.05.2023\" Id=\"R01235\"><Nominal>1</Nominal><Value>79,9609</Value></Record><Record Date=\"04.05.2023\" Id=\"R01235\"><Nominal>1</Nominal><Value>79,3071</Value></Record><Record Date=\"05.05.2023\" Id=\"R01235\"><Nominal>1</Nominal><Value>78,6139</Value></Record><Record Date=\"06.05.2023\" Id=\"R01235\"><Nominal>1</Nominal><Value>76,8207</Value></Record><Record Date=\"11.05.2023\" Id=\"R01235\"><Nominal>1</Nominal><Value>76,6929</Value></Record><Record Date=\"12.05.2023\" Id=\"R01235\"><Nominal>1</Nominal><Value>75,8846</Value></Record><Record Date=\"13.05.2023\" Id=\"R01235\"><Nominal>1</Nominal><Value>77,2041</Value></Record><Record Date=\"16.05.2023\" Id=\"R01235\"><Nominal>1</Nominal><Value>79,1004</Value></Record><Record Date=\"17.05.2023\" Id=\"R01235\"><Nominal>1</Nominal><Value>79,9798</Value></Record><Record Date=\"18.05.2023\" Id=\"R01235\"><Nominal>1</Nominal><Value>80,7642</Value></Record><Record Date=\"19.05.2023\" Id=\"R01235\"><Nominal>1</Nominal><Value>80,0366</Value></Record><Record Date=\"20.05.2023\" Id=\"R01235\"><Nominal>1</Nominal><Value>79,9093</Value></Record><Record Date=\"23.05.2023\" Id=\"R01235\"><Nominal>1</Nominal><Value>79,9379</Value></Record><Record Date=\"24.05.2023\" Id=\"R01235\"><Nominal>1</Nominal><Value>80,1665</Value></Record><Record Date=\"25.05.2023\" Id=\"R01235\"><Nominal>1</Nominal><Value>79,9669</Value></Record><Record Date=\"26.05.2023\" Id=\"R01235\"><Nominal>1</Nominal><Value>79,9841</Value></Record><Record Date=\"27.05.2023\" Id=\"R01235\"><Nominal>1</Nominal><Value>79,9667</Value></Record><Record Date=\"30.05.2023\" Id=\"R01235\"><Nominal>1</Nominal><Value>80,0555</Value></Record><Record Date=\"31.05.2023\" Id=\"R01235\"><Nominal>1</Nominal><Value>80,6872</Value></Record><Record Date=\"01.06.2023\" Id=\"R01235\"><Nominal>1</Nominal><Value>80,9942</Value></Record><Record Date=\"02.06.2023\" Id=\"R01235\"><Nominal>1</Nominal><Value>80,9657</Value></Record><Record Date=\"03.06.2023\" Id=\"R01235\"><Nominal>1</Nominal><Value>80,8756</Value></Record><Record Date=\"06.06.2023\" Id=\"R01235\"><Nominal>1</Nominal><Value>81,3294</Value></Record><Record Date=\"07.06.2023\" Id=\"R01235\"><Nominal>1</Nominal><Value>81,2502</Value></Record><Record Date=\"08.06.2023\" Id=\"R01235\"><Nominal>1</Nominal><Value>81,4581</Value></Record><Record Date=\"09.06.2023\" Id=\"R01235\"><Nominal>1</Nominal><Value>82,0930</Value></Record><Record Date=\"10.06.2023\" Id=\"R01235\"><Nominal>1</Nominal><Value>82,6417</Value></Record><Record Date=\"14.06.2023\" Id=\"R01235\"><Nominal>1</Nominal><Value>83,6405</Value></Record><Record Date=\"15.06.2023\" Id=\"R01235\"><Nominal>1</Nominal><Value>84,3249</Value></Record><Record Date=\"16.06.2023\" Id=\"R01235\"><Nominal>1</Nominal><Value>83,9611</Value></Record><Record Date=\"17.06.2023\" Id=\"R01235\"><Nominal>1</Nominal><Value>83,6498</Value></Record><Record Date=\"20.06.2023\" Id=\"R01235\"><Nominal>1</Nominal><Value>83,9866</Value></Record><Record Date=\"21.06.2023\" Id=\"R01235\"><Nominal>1</Nominal><Value>84,2336</Value></Record><Record Date=\"22.06.2023\" Id=\"R01235\"><Nominal>1</Nominal><Value>84,2467</Value></Record><Record Date=\"23.06.2023\" Id=\"R01235\"><Nominal>1</Nominal><Value>83,6077</Value></Record><Record Date=\"24.06.2023\" Id=\"R01235\"><Nominal>1</Nominal><Value>84,0793</Value></Record><Record Date=\"27.06.2023\" Id=\"R01235\"><Nominal>1</Nominal><Value>84,6642</Value></Record><Record Date=\"28.06.2023\" Id=\"R01235\"><Nominal>1</Nominal><Value>85,0504</Value></Record></ValCurs>'"
      ]
     },
     "execution_count": 14,
     "metadata": {},
     "output_type": "execute_result"
    }
   ],
   "source": [
    "p = {\n",
    "    'date_req1': d1_ddmmyyyy,\n",
    "    'date_req2': d2_ddmmyyyy,\n",
    "    'VAL_NM_RQ': currencies[\"доллар\"]\n",
    "}\n",
    "\n",
    "endpoint = 'https://www.cbr.ru/scripts/XML_dynamic.asp'\n",
    "resp = requests.get(endpoint, params=p)\n",
    "resp.text"
   ]
  },
  {
   "cell_type": "markdown",
   "id": "38062f1d",
   "metadata": {},
   "source": [
    "Про аутентификацию - рассказать после обеда"
   ]
  }
 ],
 "metadata": {
  "kernelspec": {
   "display_name": "Python 3 (ipykernel)",
   "language": "python",
   "name": "python3"
  },
  "language_info": {
   "codemirror_mode": {
    "name": "ipython",
    "version": 3
   },
   "file_extension": ".py",
   "mimetype": "text/x-python",
   "name": "python",
   "nbconvert_exporter": "python",
   "pygments_lexer": "ipython3",
   "version": "3.11.4"
  }
 },
 "nbformat": 4,
 "nbformat_minor": 5
}
