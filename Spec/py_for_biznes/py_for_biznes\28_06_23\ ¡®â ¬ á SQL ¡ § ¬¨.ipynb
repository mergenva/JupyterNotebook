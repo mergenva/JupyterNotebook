{
 "cells": [
  {
   "cell_type": "code",
   "execution_count": 2,
   "id": "656119c4",
   "metadata": {},
   "outputs": [],
   "source": [
    "import pymysql  # py -3 -m pip install pymysql"
   ]
  },
  {
   "cell_type": "code",
   "execution_count": 3,
   "id": "059af1af",
   "metadata": {},
   "outputs": [],
   "source": [
    "pymysql.connect?"
   ]
  },
  {
   "cell_type": "code",
   "execution_count": 11,
   "id": "19638aa2",
   "metadata": {
    "scrolled": true
   },
   "outputs": [
    {
     "name": "stdout",
     "output_type": "stream",
     "text": [
      "(('Countries',),)\n",
      "(('country', 'varchar(24)', 'YES', '', None, ''), ('year', 'int(4)', 'YES', '', None, ''), ('population', 'int(10)', 'YES', '', None, ''))\n",
      "(('Afghanistan', 2002, 25268405), ('Albania', 2002, 3508512), ('Algeria', 2002, 31287142), ('Angola', 2002, 10866106), ('Argentina', 2002, 38331121), ('Australia', 2002, 19546792), ('Austria', 2002, 8148312), ('Bahrain', 2002, 656397), ('Bangladesh', 2002, 135656790), ('Belgium', 2002, 10311970), ('Benin', 2002, 7026113), ('Bolivia', 2002, 8445134), ('Bosnia and Herzegovina', 2002, 4165416), ('Botswana', 2002, 1630347), ('Brazil', 2002, 179914212), ('Bulgaria', 2002, 7661799), ('Burkina Faso', 2002, 12251209), ('Burundi', 2002, 7021078), ('Cambodia', 2002, 12926707), ('Cameroon', 2002, 15929988), ('Canada', 2002, 31902268), ('Central African Republic', 2002, 4048013), ('Chad', 2002, 8835739), ('Chile', 2002, 15497046), ('China', 2002, 1280400000), ('Colombia', 2002, 41008227), ('Comoros', 2002, 614382), ('Congo, Dem. Rep.', 2002, 55379852), ('Congo, Rep.', 2002, 3328795), ('Costa Rica', 2002, 3834934), (\"Cote d'Ivoire\", 2002, 16252726), ('Croatia', 2002, 4481020), ('Cuba', 2002, 11226999), ('Czech Republic', 2002, 10256295), ('Denmark', 2002, 5374693), ('Djibouti', 2002, 447416), ('Dominican Republic', 2002, 8650322), ('Ecuador', 2002, 12921234), ('Egypt', 2002, 73312559), ('El Salvador', 2002, 6353681), ('Equatorial Guinea', 2002, 495627), ('Eritrea', 2002, 4414865), ('Ethiopia', 2002, 67946797), ('Finland', 2002, 5193039), ('France', 2002, 59925035), ('Gabon', 2002, 1299304), ('Gambia', 2002, 1457766), ('Germany', 2002, 82350671), ('Ghana', 2002, 20550751), ('Greece', 2002, 10603863), ('Guatemala', 2002, 11178650), ('Guinea', 2002, 8807818), ('Guinea-Bissau', 2002, 1332459), ('Haiti', 2002, 7607651), ('Honduras', 2002, 6677328), ('Hong Kong, China', 2002, 6762476), ('Hungary', 2002, 10083313), ('Iceland', 2002, 288030), ('India', 2002, 1034172547), ('Indonesia', 2002, 211060000), ('Iran', 2002, 66907826), ('Iraq', 2002, 24001816), ('Ireland', 2002, 3879155), ('Israel', 2002, 6029529), ('Italy', 2002, 57926999), ('Jamaica', 2002, 2664659), ('Japan', 2002, 127065841), ('Jordan', 2002, 5307470), ('Kenya', 2002, 31386842), ('Korea, Dem. Rep.', 2002, 22215365), ('Korea, Rep.', 2002, 47969150), ('Kuwait', 2002, 2111561), ('Lebanon', 2002, 3677780), ('Lesotho', 2002, 2046772), ('Liberia', 2002, 2814651), ('Libya', 2002, 5368585), ('Madagascar', 2002, 16473477), ('Malawi', 2002, 11824495), ('Malaysia', 2002, 22662365), ('Mali', 2002, 10580176), ('Mauritania', 2002, 2828858), ('Mauritius', 2002, 1200206), ('Mexico', 2002, 102479927), ('Mongolia', 2002, 2674234), ('Montenegro', 2002, 720230), ('Morocco', 2002, 31167783), ('Mozambique', 2002, 18473780), ('Myanmar', 2002, 45598081), ('Namibia', 2002, 1972153), ('Nepal', 2002, 25873917), ('Netherlands', 2002, 16122830), ('New Zealand', 2002, 3908037), ('Nicaragua', 2002, 5146848), ('Niger', 2002, 11140655), ('Nigeria', 2002, 119901274), ('Norway', 2002, 4535591), ('Oman', 2002, 2713462), ('Pakistan', 2002, 153403524), ('Panama', 2002, 2990875), ('Paraguay', 2002, 5884491), ('Peru', 2002, 26769436), ('Philippines', 2002, 82995088), ('Poland', 2002, 38625976), ('Portugal', 2002, 10433867), ('Puerto Rico', 2002, 3859606), ('Reunion', 2002, 743981), ('Romania', 2002, 22404337), ('Rwanda', 2002, 7852401), ('Sao Tome and Principe', 2002, 170372), ('Saudi Arabia', 2002, 24501530), ('Senegal', 2002, 10870037), ('Serbia', 2002, 10111559), ('Sierra Leone', 2002, 5359092), ('Singapore', 2002, 4197776), ('Slovak Republic', 2002, 5410052), ('Slovenia', 2002, 2011497), ('Somalia', 2002, 7753310), ('South Africa', 2002, 44433622), ('Spain', 2002, 40152517), ('Sri Lanka', 2002, 19576783), ('Sudan', 2002, 37090298), ('Swaziland', 2002, 1130269), ('Sweden', 2002, 8954175), ('Switzerland', 2002, 7361757), ('Syria', 2002, 17155814), ('Taiwan', 2002, 22454239), ('Tanzania', 2002, 34593779), ('Thailand', 2002, 62806748), ('Togo', 2002, 4977378), ('Trinidad and Tobago', 2002, 1101832), ('Tunisia', 2002, 9770575), ('Turkey', 2002, 67308928), ('Uganda', 2002, 24739869), ('United Kingdom', 2002, 59912431), ('United States', 2002, 287675526), ('Uruguay', 2002, 3363085), ('Venezuela', 2002, 24287670), ('Vietnam', 2002, 80908147), ('West Bank and Gaza', 2002, 3389578), ('Yemen, Rep.', 2002, 18701257), ('Zambia', 2002, 10595811), ('Zimbabwe', 2002, 11926563))\n"
     ]
    }
   ],
   "source": [
    "connection = pymysql.connect(\n",
    "    user='u2015135_python',\n",
    "    password='qB2gA9xZ5rkY1jW9',\n",
    "    database='u2015135_default',\n",
    "    host='37.140.192.210'  # либо url server125.hosting.reg.ru\n",
    ")\n",
    "\n",
    "cursor = connection.cursor()\n",
    "cursor.execute('SHOW TABLES')\n",
    "response = cursor.fetchall()\n",
    "print(response)\n",
    "cursor.execute('SHOW COLUMNS FROM Countries')\n",
    "response = cursor.fetchall()\n",
    "print(response)\n",
    "cursor.execute('SELECT country, year, population FROM Countries WHERE year=2002')  # Запрос на SQL\n",
    "response = cursor.fetchall()\n",
    "print(response)"
   ]
  },
  {
   "cell_type": "code",
   "execution_count": 12,
   "id": "2c37af9d",
   "metadata": {},
   "outputs": [
    {
     "ename": "SyntaxError",
     "evalue": "invalid syntax (3521733360.py, line 1)",
     "output_type": "error",
     "traceback": [
      "\u001b[1;36m  Cell \u001b[1;32mIn[12], line 1\u001b[1;36m\u001b[0m\n\u001b[1;33m    Задача 3\u001b[0m\n\u001b[1;37m           ^\u001b[0m\n\u001b[1;31mSyntaxError\u001b[0m\u001b[1;31m:\u001b[0m invalid syntax\n"
     ]
    }
   ],
   "source": [
    "Задача 3\n",
    "\n",
    "Вывести на экран население Китая за все годы, которые есть в таблице\n",
    "\n",
    "```sql\n",
    "SELECT * FROM Countries```\n",
    "Можно "
   ]
  }
 ],
 "metadata": {
  "kernelspec": {
   "display_name": "Python 3 (ipykernel)",
   "language": "python",
   "name": "python3"
  },
  "language_info": {
   "codemirror_mode": {
    "name": "ipython",
    "version": 3
   },
   "file_extension": ".py",
   "mimetype": "text/x-python",
   "name": "python",
   "nbconvert_exporter": "python",
   "pygments_lexer": "ipython3",
   "version": "3.11.4"
  }
 },
 "nbformat": 4,
 "nbformat_minor": 5
}
