{
 "cells": [
  {
   "cell_type": "markdown",
   "id": "3871d1f5",
   "metadata": {},
   "source": [
    "Задача 3\n",
    "\n",
    "Прочитать метеостанции.txt\n",
    "\n",
    "а) Вытащать оттуда широту, долготу, высоту и название населённого пункта\n",
    "б) коррдинаты преобразовать в числа, из населённых пунктов убрать лишние пробелы в конце\n",
    "в) вывести на экран координаты всех станций, которые ниже -50м под уровнем моря, но при этом не -999\n",
    "г) То же самое, но только станции в южном полушарии"
   ]
  },
  {
   "cell_type": "code",
   "execution_count": 1,
   "id": "a8a90920",
   "metadata": {},
   "outputs": [],
   "source": [
    "line = 'AGM00060419  36.2760    6.6200  690.4    MOHAMED BOUDIAF INTL                   60419'"
   ]
  },
  {
   "cell_type": "code",
   "execution_count": 3,
   "id": "9a29b515",
   "metadata": {},
   "outputs": [
    {
     "data": {
      "text/plain": [
       "['AGM00060419',\n",
       " '36.2760',\n",
       " '6.6200',\n",
       " '690.4',\n",
       " 'MOHAMED',\n",
       " 'BOUDIAF',\n",
       " 'INTL',\n",
       " '60419']"
      ]
     },
     "execution_count": 3,
     "metadata": {},
     "output_type": "execute_result"
    }
   ],
   "source": [
    "line.split()"
   ]
  },
  {
   "cell_type": "code",
   "execution_count": 6,
   "id": "124c755c",
   "metadata": {
    "scrolled": true
   },
   "outputs": [
    {
     "data": {
      "text/plain": [
       "36.276"
      ]
     },
     "execution_count": 6,
     "metadata": {},
     "output_type": "execute_result"
    }
   ],
   "source": [
    "float(line[12:20])"
   ]
  }
 ],
 "metadata": {
  "kernelspec": {
   "display_name": "Python 3 (ipykernel)",
   "language": "python",
   "name": "python3"
  },
  "language_info": {
   "codemirror_mode": {
    "name": "ipython",
    "version": 3
   },
   "file_extension": ".py",
   "mimetype": "text/x-python",
   "name": "python",
   "nbconvert_exporter": "python",
   "pygments_lexer": "ipython3",
   "version": "3.11.4"
  }
 },
 "nbformat": 4,
 "nbformat_minor": 5
}
