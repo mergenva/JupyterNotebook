{
 "cells": [
  {
   "cell_type": "code",
   "execution_count": 23,
   "id": "92f2a854",
   "metadata": {},
   "outputs": [],
   "source": [
    "import openpyxl  # Нужно установить: py -3.11 -m pip install openpyxl\n",
    "import datetime"
   ]
  },
  {
   "cell_type": "code",
   "execution_count": 27,
   "id": "c4609f26",
   "metadata": {},
   "outputs": [],
   "source": [
    "wb = openpyxl.Workbook()  # Создали книгу (объект python)\n",
    "ws = wb.active  # Мы берём активный лист\n",
    "\n",
    "ws['E6'] = 'Привет'\n",
    "ws['E7'] = 456\n",
    "ws['E8'] = 123.456\n",
    "ws['E9'] = 123 + 456  # Python посчитает и положит готовое число\n",
    "ws['E10'] = '=E8+$E$9'  # Формула Excel, считать это будет уже Excel\n",
    "ws['E11'] = '=SUM(E7:E10)'  # Функции Excel тоже можно, но на английском\n",
    "# В ячейки также можно писать даты из библиотеки datetime\n",
    "\n",
    "ws['E12'] = '2023-06-27'  # Это будет просто тект\n",
    "ws['D12'] = datetime.date(2023, 6, 27)  # Это будет реальная дата\n",
    "\n",
    "for i in range(5, 15):\n",
    "    ws.cell(i, 2).value = 10 * i  # строка, колонка\n",
    "\n",
    "wb.save('Книга2.xlsx')  # в этот момент объект превратился в файл"
   ]
  },
  {
   "cell_type": "markdown",
   "id": "028efe7c",
   "metadata": {},
   "source": [
    "Задача 1\n",
    "Записать в файл Excel Метеостанции, которые находятся ниже уровня моря (Высота менише нуля, но не -999.9)\n",
    "Нужны колонки широта, долгота, высота и название населённого пункта"
   ]
  }
 ],
 "metadata": {
  "kernelspec": {
   "display_name": "Python 3 (ipykernel)",
   "language": "python",
   "name": "python3"
  },
  "language_info": {
   "codemirror_mode": {
    "name": "ipython",
    "version": 3
   },
   "file_extension": ".py",
   "mimetype": "text/x-python",
   "name": "python",
   "nbconvert_exporter": "python",
   "pygments_lexer": "ipython3",
   "version": "3.11.4"
  }
 },
 "nbformat": 4,
 "nbformat_minor": 5
}
