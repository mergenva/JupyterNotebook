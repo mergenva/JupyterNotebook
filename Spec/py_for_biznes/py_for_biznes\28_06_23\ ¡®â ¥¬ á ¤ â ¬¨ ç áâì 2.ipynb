{
 "cells": [
  {
   "cell_type": "code",
   "execution_count": 1,
   "id": "207ee7ab",
   "metadata": {},
   "outputs": [],
   "source": [
    "import datetime"
   ]
  },
  {
   "cell_type": "code",
   "execution_count": 3,
   "id": "a339e135",
   "metadata": {},
   "outputs": [
    {
     "data": {
      "text/plain": [
       "datetime.date(2023, 6, 28)"
      ]
     },
     "execution_count": 3,
     "metadata": {},
     "output_type": "execute_result"
    }
   ],
   "source": [
    "d1 = datetime.date.today()\n",
    "d1"
   ]
  },
  {
   "cell_type": "code",
   "execution_count": 5,
   "id": "a798e682",
   "metadata": {},
   "outputs": [
    {
     "data": {
      "text/plain": [
       "datetime.date(2023, 7, 5)"
      ]
     },
     "execution_count": 5,
     "metadata": {},
     "output_type": "execute_result"
    }
   ],
   "source": [
    "d2 = d1 + datetime.timedelta(days=7)\n",
    "d2"
   ]
  },
  {
   "cell_type": "markdown",
   "id": "3d004a22",
   "metadata": {},
   "source": [
    "Макросы для формата дат: https://docs.python.org/3/library/datetime.html#strftime-strptime-behavior"
   ]
  },
  {
   "cell_type": "code",
   "execution_count": 14,
   "id": "910cf393",
   "metadata": {},
   "outputs": [
    {
     "name": "stdout",
     "output_type": "stream",
     "text": [
      "2023-06-28\n",
      "28/06/2023\n",
      "28.06.23\n",
      "Wednesday, 28 June 23\n",
      "Wed, 28 Jun 23\n",
      "Wed Jun 28 00:00:00 2023\n"
     ]
    }
   ],
   "source": [
    "print(str(d1))\n",
    "print(d1.strftime('%d/%m/%Y'))\n",
    "print(d1.strftime('%d.%m.%y'))\n",
    "\n",
    "print(d1.strftime('%A, %d %B %y'))\n",
    "print(d1.strftime('%a, %d %b %y'))\n",
    "print(d1.strftime('%c'))"
   ]
  },
  {
   "cell_type": "markdown",
   "id": "e48f4c5b",
   "metadata": {},
   "source": [
    "Если нужен русский язык, нужно поменять локаль в рамках программы"
   ]
  },
  {
   "cell_type": "code",
   "execution_count": 16,
   "id": "5e52527e",
   "metadata": {},
   "outputs": [
    {
     "data": {
      "text/plain": [
       "'RU'"
      ]
     },
     "execution_count": 16,
     "metadata": {},
     "output_type": "execute_result"
    }
   ],
   "source": [
    "# https://docs.python.org/3/library/locale.html\n",
    "import locale"
   ]
  },
  {
   "cell_type": "code",
   "execution_count": 20,
   "id": "79aa39ad",
   "metadata": {},
   "outputs": [
    {
     "name": "stdout",
     "output_type": "stream",
     "text": [
      "среда, 28 Июнь 23\n",
      "Ср, 28 июн 23\n",
      "28.06.2023 0:00:00\n"
     ]
    }
   ],
   "source": [
    "locale.setlocale(locale.LC_ALL, 'RU')\n",
    "print(d1.strftime('%A, %d %B %y'))\n",
    "print(d1.strftime('%a, %d %b %y'))\n",
    "print(d1.strftime('%c'))"
   ]
  },
  {
   "cell_type": "code",
   "execution_count": 18,
   "id": "11e91375",
   "metadata": {},
   "outputs": [
    {
     "name": "stdout",
     "output_type": "stream",
     "text": [
      "chorshanba, 28 Iyun 23\n",
      "Chor, 28 Iyn 23\n",
      "28/06/2023 00:00:00\n"
     ]
    }
   ],
   "source": [
    "\n",
    "locale.setlocale(locale.LC_ALL, 'UZ')\n",
    "\n",
    "print(d1.strftime('%A, %d %B %y'))\n",
    "print(d1.strftime('%a, %d %b %y'))\n",
    "print(d1.strftime('%c'))"
   ]
  }
 ],
 "metadata": {
  "kernelspec": {
   "display_name": "Python 3 (ipykernel)",
   "language": "python",
   "name": "python3"
  },
  "language_info": {
   "codemirror_mode": {
    "name": "ipython",
    "version": 3
   },
   "file_extension": ".py",
   "mimetype": "text/x-python",
   "name": "python",
   "nbconvert_exporter": "python",
   "pygments_lexer": "ipython3",
   "version": "3.11.4"
  }
 },
 "nbformat": 4,
 "nbformat_minor": 5
}
