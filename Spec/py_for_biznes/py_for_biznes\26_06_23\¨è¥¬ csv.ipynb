{
 "cells": [
  {
   "cell_type": "code",
   "execution_count": 1,
   "id": "e326cbf3",
   "metadata": {},
   "outputs": [],
   "source": [
    "data = [\n",
    "    (123, 24.567, 'dgldsfg'),\n",
    "    (45634, 5675.23, '5464654'),\n",
    "    (5645.45634, 645645.45645, 'привет')\n",
    "]"
   ]
  },
  {
   "cell_type": "markdown",
   "id": "ddbf60d6",
   "metadata": {},
   "source": [
    "Путь 1 - сделать список строк, в потом его разом записать в файл (обратный ```readlines()```)"
   ]
  },
  {
   "cell_type": "code",
   "execution_count": 31,
   "id": "0a1536c8",
   "metadata": {},
   "outputs": [
    {
     "name": "stdout",
     "output_type": "stream",
     "text": [
      "['x;y;z\\n', '123;24,567;dgldsfg\\n', '45634;5675,23;5464654\\n', '5645,45634;645645,45645;привет\\n']\n"
     ]
    }
   ],
   "source": [
    "lines = ['x;y;z\\n']  # список из одного элемента (шапка)\n",
    "for cells in data:  # cells - это кортеж из 3 элементов\n",
    "#     x = cells[0]\n",
    "#     y = cells[1]\n",
    "#     z = cells[-1]\n",
    "    \n",
    "    # Можно разобрать кортеж (или распаковать)\n",
    "    x, y, z = cells\n",
    "    \n",
    "    # Собираем строку\n",
    "    # Способ 1\n",
    "    # line = str(x) + ';' + str(round(y, 2)) + ';' + z + '\\n'  # складываем строки со строками\n",
    "    \n",
    "    # Способ 2 - более современный python\n",
    "    line = f'{x};{y};{z}\\n'.replace('.', ',')\n",
    "    lines.append(line)  # кладём в список\n",
    "    \n",
    "    # print(line)\n",
    "print(lines)\n",
    "\n",
    "f = open('example1.csv', 'wt')\n",
    "# wt - write text, можно просто написать 'w'\n",
    "f.writelines(lines)\n",
    "f.close()  # здесь происходит запись\n",
    "\n",
    "# либо\n",
    "# with open('example1.csv', 'wt') as f:\n",
    "#     f.writelines(lines)\n",
    "#     # f.close() тут не нужно"
   ]
  },
  {
   "cell_type": "markdown",
   "id": "04f8410f",
   "metadata": {},
   "source": [
    "Путь второй - создаём по одной строке"
   ]
  },
  {
   "cell_type": "code",
   "execution_count": 32,
   "id": "63948d47",
   "metadata": {},
   "outputs": [],
   "source": [
    "f = open('example2.csv', 'wt')\n",
    "f.write('x;y;z\\n')\n",
    "for cells in data:  # cells - это кортеж из 3 элементов\n",
    "    # Можно разобрать кортеж (или распаковать)\n",
    "    x, y, z = cells\n",
    "    \n",
    "    # Собираем строку\n",
    "    line = f'{x};{y};{z}\\n'.replace('.', ',')\n",
    "    \n",
    "    f.write(line)  # записали строку в буфер (но не физически в файл)\n",
    "    # print(line)\n",
    "f.close()  # здесь происходит запись\n"
   ]
  },
  {
   "cell_type": "markdown",
   "id": "b9b27d41",
   "metadata": {},
   "source": [
    "Путь третий - ещё хитрее"
   ]
  },
  {
   "cell_type": "code",
   "execution_count": 30,
   "id": "2fa3b822",
   "metadata": {},
   "outputs": [],
   "source": [
    "f = open('example3.csv', 'wt')\n",
    "print('x;y;z', file=f)\n",
    "for cells in data:  # cells - это кортеж из 3 элементов\n",
    "    # Можно разобрать кортеж (или распаковать)\n",
    "    x, y, z = cells\n",
    "    \n",
    "    print(x, y, z, sep=';', file=f)  # печатает не на экран, а в файл\n",
    "f.close()  # здесь происходит запись"
   ]
  },
  {
   "cell_type": "markdown",
   "id": "cce5f723",
   "metadata": {},
   "source": [
    "Задача 2 - Взять обработанные данные из Porsche.csv и создать новый csv файл с колонками:\n",
    "Модель;Цена, долл;Пробег, мили;Год;Объём двигателя, л;Мощность, л.с;Топливо\n",
    "\n",
    "Числа float пусть будут с запятыми, округлённые до 2 знаков"
   ]
  }
 ],
 "metadata": {
  "kernelspec": {
   "display_name": "Python 3 (ipykernel)",
   "language": "python",
   "name": "python3"
  },
  "language_info": {
   "codemirror_mode": {
    "name": "ipython",
    "version": 3
   },
   "file_extension": ".py",
   "mimetype": "text/x-python",
   "name": "python",
   "nbconvert_exporter": "python",
   "pygments_lexer": "ipython3",
   "version": "3.11.4"
  }
 },
 "nbformat": 4,
 "nbformat_minor": 5
}
