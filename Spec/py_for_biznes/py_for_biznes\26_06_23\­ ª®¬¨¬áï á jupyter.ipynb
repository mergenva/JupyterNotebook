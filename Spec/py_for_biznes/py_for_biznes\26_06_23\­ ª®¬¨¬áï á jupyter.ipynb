{
 "cells": [
  {
   "cell_type": "code",
   "execution_count": 20,
   "id": "bbd89d94",
   "metadata": {},
   "outputs": [],
   "source": [
    "a = 10"
   ]
  },
  {
   "cell_type": "code",
   "execution_count": 26,
   "id": "1132d388",
   "metadata": {},
   "outputs": [
    {
     "data": {
      "text/plain": [
       "'3.11.4 (tags/v3.11.4:d2340ef, Jun  7 2023, 05:45:37) [MSC v.1934 64 bit (AMD64)]'"
      ]
     },
     "execution_count": 26,
     "metadata": {},
     "output_type": "execute_result"
    }
   ],
   "source": [
    "import sys\n",
    "sys.version"
   ]
  },
  {
   "cell_type": "code",
   "execution_count": 23,
   "id": "2602c6af",
   "metadata": {
    "scrolled": true
   },
   "outputs": [
    {
     "name": "stdout",
     "output_type": "stream",
     "text": [
      "hi!\n",
      "Hello world\n",
      "123\n"
     ]
    }
   ],
   "source": [
    "print('hi!')\n",
    "print('Hello world')\n",
    "print(a)"
   ]
  },
  {
   "cell_type": "markdown",
   "id": "70631bbc",
   "metadata": {},
   "source": [
    "# Заголовок\n",
    "\n",
    "## Подзаголовок\n",
    "\n",
    "* Список\n",
    "* раз\n",
    "* два\n",
    "* три\n",
    "\n",
    "x | y\n",
    "--|--\n",
    "1|2\n",
    "3|4\n",
    "\n",
    "Какой-нибудь **текст** с *форматированием* _разными_ шрифтами.\n",
    "\n",
    "<b>HTML тоже поддерживается</b>"
   ]
  },
  {
   "cell_type": "code",
   "execution_count": 25,
   "id": "42017942",
   "metadata": {},
   "outputs": [
    {
     "data": {
      "text/plain": [
       "123"
      ]
     },
     "execution_count": 25,
     "metadata": {},
     "output_type": "execute_result"
    }
   ],
   "source": [
    "a = 123\n",
    "b = 3.14\n",
    "a"
   ]
  }
 ],
 "metadata": {
  "kernelspec": {
   "display_name": "Python 3 (ipykernel)",
   "language": "python",
   "name": "python3"
  },
  "language_info": {
   "codemirror_mode": {
    "name": "ipython",
    "version": 3
   },
   "file_extension": ".py",
   "mimetype": "text/x-python",
   "name": "python",
   "nbconvert_exporter": "python",
   "pygments_lexer": "ipython3",
   "version": "3.11.4"
  }
 },
 "nbformat": 4,
 "nbformat_minor": 5
}
