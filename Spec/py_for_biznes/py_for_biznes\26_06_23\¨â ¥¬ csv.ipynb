{
 "cells": [
  {
   "cell_type": "code",
   "execution_count": 12,
   "id": "19efbded",
   "metadata": {},
   "outputs": [
    {
     "name": "stdout",
     "output_type": "stream",
     "text": [
      "['\\ufeffa;b;c;d\\n', '123;234,345;26.июн;text123\\n', '5464;2,14;27.июн;dfasd\\n', '789;345,65;28.июн;привет\\n', '46;;29.июн;sdfas\\n', '123;56;30.июн;fas\\n', ';;;\\n']\n"
     ]
    }
   ],
   "source": [
    "f = open('Книга1.csv', 'rt', encoding='utf-8')  # указали кодировку, т.к. python не угадал\n",
    "# rt = read as text\n",
    "\n",
    "# data = f.read()\n",
    "data = f.readlines()  # список строк\n",
    "print(data)"
   ]
  },
  {
   "cell_type": "markdown",
   "id": "84bb1b19",
   "metadata": {},
   "source": [
    "Команда ```read()``` читаем всё в одну строчку, с таблицами csv это неудобно (но может быть удобно для json, xml)."
   ]
  },
  {
   "cell_type": "code",
   "execution_count": 9,
   "id": "5f22f423",
   "metadata": {},
   "outputs": [
    {
     "data": {
      "text/plain": [
       "<_io.TextIOWrapper name='Книга1.csv' mode='r' encoding='cp1251'>"
      ]
     },
     "execution_count": 9,
     "metadata": {},
     "output_type": "execute_result"
    }
   ],
   "source": [
    "f1 = open('Книга1.csv')  # Скорее всего Windows 1251 или ANSI\n",
    "f1"
   ]
  },
  {
   "cell_type": "code",
   "execution_count": 17,
   "id": "d4c54548",
   "metadata": {},
   "outputs": [
    {
     "data": {
      "text/plain": [
       "'\\ufeff'"
      ]
     },
     "execution_count": 17,
     "metadata": {},
     "output_type": "execute_result"
    }
   ],
   "source": [
    "data[0][0]  # Символ, намекающий на кодировку utf-8"
   ]
  },
  {
   "cell_type": "code",
   "execution_count": 14,
   "id": "fc9b1dd3",
   "metadata": {
    "scrolled": false
   },
   "outputs": [
    {
     "name": "stdout",
     "output_type": "stream",
     "text": [
      "﻿a;b;c;d\n",
      "\n",
      "123;234,345;26.июн;text123\n",
      "\n",
      "5464;2,14;27.июн;dfasd\n",
      "\n",
      "789;345,65;28.июн;привет\n",
      "\n",
      "46;;29.июн;sdfas\n",
      "\n",
      "123;56;30.июн;fas\n",
      "\n",
      ";;;\n",
      "\n"
     ]
    }
   ],
   "source": [
    "for line in data:\n",
    "    print(line)"
   ]
  },
  {
   "cell_type": "code",
   "execution_count": 35,
   "id": "95f20a02",
   "metadata": {
    "scrolled": true
   },
   "outputs": [
    {
     "name": "stdout",
     "output_type": "stream",
     "text": [
      "123;234,345;26.июн;text123\n",
      "\n",
      "['123', '234,345', '26.июн', 'text123\\n']\n",
      "133\n",
      "284.345\n"
     ]
    }
   ],
   "source": [
    "# https://docs.python.org/3/library/stdtypes.html#string-methods\n",
    "line = '123;234,345;26.июн;text123\\n'\n",
    "print(line)\n",
    "cells = line.split(';')\n",
    "print(cells)\n",
    "\n",
    "x = cells[0]  # ячейка в виде текста\n",
    "x2 = int(x) + 10\n",
    "print(x2)\n",
    "\n",
    "y = float(cells[1].replace(',', '.'))  # float требует точку, а не запятую в числах\n",
    "print(y + 50)"
   ]
  },
  {
   "cell_type": "markdown",
   "id": "dc5865cb",
   "metadata": {},
   "source": [
    "**Задача 1.**\n",
    "Прочитать этот файл - Porsche.csv, либо Renault.csv\n",
    "\n",
    "а) Вывести на экран пробег, год, цену (в исходном виде)\n",
    "\n",
    "б) Вывести пробег в милях, а цену - в долларах (курс доллара любой). Намёк на то, что надо их сначала превратить в числа float.\n",
    "```\n",
    "kmage = float(line[3].replace(' ', '').replace('км', ''))\n",
    "```\n",
    "\n",
    "в*) Взять колонку с двигателем и вывести отдельно мощность, объём и вид топлива"
   ]
  }
 ],
 "metadata": {
  "kernelspec": {
   "display_name": "Python 3 (ipykernel)",
   "language": "python",
   "name": "python3"
  },
  "language_info": {
   "codemirror_mode": {
    "name": "ipython",
    "version": 3
   },
   "file_extension": ".py",
   "mimetype": "text/x-python",
   "name": "python",
   "nbconvert_exporter": "python",
   "pygments_lexer": "ipython3",
   "version": "3.11.4"
  }
 },
 "nbformat": 4,
 "nbformat_minor": 5
}
