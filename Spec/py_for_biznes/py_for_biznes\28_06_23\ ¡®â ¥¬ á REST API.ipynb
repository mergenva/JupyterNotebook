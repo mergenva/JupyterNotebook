{
 "cells": [
  {
   "cell_type": "code",
   "execution_count": 1,
   "id": "a416b168",
   "metadata": {},
   "outputs": [],
   "source": [
    "import requests  # py -3.11 -m pip install requests"
   ]
  },
  {
   "cell_type": "code",
   "execution_count": 8,
   "id": "f5986543",
   "metadata": {},
   "outputs": [
    {
     "data": {
      "text/plain": [
       "<Response [200]>"
      ]
     },
     "execution_count": 8,
     "metadata": {},
     "output_type": "execute_result"
    }
   ],
   "source": [
    "response = requests.get('http://www.cbr.ru/scripts/XML_dynamic.asp?date_req1=02/03/2001&date_req2=14/03/2001&VAL_NM_RQ=R01235')\n",
    "response"
   ]
  },
  {
   "cell_type": "code",
   "execution_count": 9,
   "id": "5f88adeb",
   "metadata": {},
   "outputs": [
    {
     "data": {
      "text/plain": [
       "200"
      ]
     },
     "execution_count": 9,
     "metadata": {},
     "output_type": "execute_result"
    }
   ],
   "source": [
    "# https://developer.mozilla.org/en-US/docs/Web/HTTP/Status\n",
    "response.status_code  # хотим увидеть 200"
   ]
  },
  {
   "cell_type": "code",
   "execution_count": 11,
   "id": "f4b8de6c",
   "metadata": {},
   "outputs": [
    {
     "data": {
      "text/plain": [
       "'<?xml version=\"1.0\" encoding=\"windows-1251\"?><ValCurs ID=\"R01235\" DateRange1=\"02.03.2001\" DateRange2=\"14.03.2001\" name=\"Foreign Currency Market Dynamic\"><Record Date=\"02.03.2001\" Id=\"R01235\"><Nominal>1</Nominal><Value>28,6200</Value></Record><Record Date=\"03.03.2001\" Id=\"R01235\"><Nominal>1</Nominal><Value>28,6500</Value></Record><Record Date=\"06.03.2001\" Id=\"R01235\"><Nominal>1</Nominal><Value>28,6600</Value></Record><Record Date=\"07.03.2001\" Id=\"R01235\"><Nominal>1</Nominal><Value>28,6300</Value></Record><Record Date=\"08.03.2001\" Id=\"R01235\"><Nominal>1</Nominal><Value>28,6200</Value></Record><Record Date=\"12.03.2001\" Id=\"R01235\"><Nominal>1</Nominal><Value>28,6200</Value></Record><Record Date=\"13.03.2001\" Id=\"R01235\"><Nominal>1</Nominal><Value>28,6700</Value></Record><Record Date=\"14.03.2001\" Id=\"R01235\"><Nominal>1</Nominal><Value>28,6500</Value></Record></ValCurs>'"
      ]
     },
     "execution_count": 11,
     "metadata": {},
     "output_type": "execute_result"
    }
   ],
   "source": [
    "response.text  # это просто строка str"
   ]
  },
  {
   "cell_type": "code",
   "execution_count": 13,
   "id": "863a7105",
   "metadata": {},
   "outputs": [
    {
     "data": {
      "text/plain": [
       "b'<?xml version=\"1.0\" encoding=\"windows-1251\"?><ValCurs ID=\"R01235\" DateRange1=\"02.03.2001\" DateRange2=\"14.03.2001\" name=\"Foreign Currency Market Dynamic\"><Record Date=\"02.03.2001\" Id=\"R01235\"><Nominal>1</Nominal><Value>28,6200</Value></Record><Record Date=\"03.03.2001\" Id=\"R01235\"><Nominal>1</Nominal><Value>28,6500</Value></Record><Record Date=\"06.03.2001\" Id=\"R01235\"><Nominal>1</Nominal><Value>28,6600</Value></Record><Record Date=\"07.03.2001\" Id=\"R01235\"><Nominal>1</Nominal><Value>28,6300</Value></Record><Record Date=\"08.03.2001\" Id=\"R01235\"><Nominal>1</Nominal><Value>28,6200</Value></Record><Record Date=\"12.03.2001\" Id=\"R01235\"><Nominal>1</Nominal><Value>28,6200</Value></Record><Record Date=\"13.03.2001\" Id=\"R01235\"><Nominal>1</Nominal><Value>28,6700</Value></Record><Record Date=\"14.03.2001\" Id=\"R01235\"><Nominal>1</Nominal><Value>28,6500</Value></Record></ValCurs>'"
      ]
     },
     "execution_count": 13,
     "metadata": {},
     "output_type": "execute_result"
    }
   ],
   "source": [
    "response.content  # Если получаем не текст, либо если проблемы с кодировкой, можно получить байты"
   ]
  },
  {
   "cell_type": "code",
   "execution_count": 14,
   "id": "5728b468",
   "metadata": {},
   "outputs": [
    {
     "data": {
      "text/plain": [
       "bytes"
      ]
     },
     "execution_count": 14,
     "metadata": {},
     "output_type": "execute_result"
    }
   ],
   "source": [
    "type(response.content)"
   ]
  },
  {
   "cell_type": "code",
   "execution_count": 18,
   "id": "00a2dc84",
   "metadata": {},
   "outputs": [
    {
     "data": {
      "text/plain": [
       "61"
      ]
     },
     "execution_count": 18,
     "metadata": {},
     "output_type": "execute_result"
    }
   ],
   "source": [
    "response.content[56]"
   ]
  },
  {
   "cell_type": "code",
   "execution_count": 19,
   "id": "a948b5f2",
   "metadata": {},
   "outputs": [],
   "source": [
    "# response.json() - сразу даст словарь, если ответ в json"
   ]
  }
 ],
 "metadata": {
  "kernelspec": {
   "display_name": "Python 3 (ipykernel)",
   "language": "python",
   "name": "python3"
  },
  "language_info": {
   "codemirror_mode": {
    "name": "ipython",
    "version": 3
   },
   "file_extension": ".py",
   "mimetype": "text/x-python",
   "name": "python",
   "nbconvert_exporter": "python",
   "pygments_lexer": "ipython3",
   "version": "3.11.4"
  }
 },
 "nbformat": 4,
 "nbformat_minor": 5
}
