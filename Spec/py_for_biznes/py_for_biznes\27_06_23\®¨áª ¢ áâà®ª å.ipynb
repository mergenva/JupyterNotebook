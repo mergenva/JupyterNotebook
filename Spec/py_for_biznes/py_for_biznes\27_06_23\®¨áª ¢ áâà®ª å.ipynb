{
 "cells": [
  {
   "cell_type": "code",
   "execution_count": 1,
   "id": "89e15f63",
   "metadata": {},
   "outputs": [],
   "source": [
    "cell = 'Полотенца жаккардовые подрубленные с 4-х сторон арт.07С-39ЯК (50*70, 1 сорт, Русская зима, 0 п, 573 п, 1008073)'"
   ]
  },
  {
   "cell_type": "code",
   "execution_count": 2,
   "id": "f486e5b6",
   "metadata": {},
   "outputs": [
    {
     "data": {
      "text/plain": [
       "True"
      ]
     },
     "execution_count": 2,
     "metadata": {},
     "output_type": "execute_result"
    }
   ],
   "source": [
    "'зима' in cell"
   ]
  },
  {
   "cell_type": "code",
   "execution_count": 3,
   "id": "5d0511cd",
   "metadata": {},
   "outputs": [
    {
     "data": {
      "text/plain": [
       "False"
      ]
     },
     "execution_count": 3,
     "metadata": {},
     "output_type": "execute_result"
    }
   ],
   "source": [
    "'лето' in cell"
   ]
  },
  {
   "cell_type": "code",
   "execution_count": 6,
   "id": "1d7f65c5",
   "metadata": {},
   "outputs": [
    {
     "data": {
      "text/plain": [
       "85"
      ]
     },
     "execution_count": 6,
     "metadata": {},
     "output_type": "execute_result"
    }
   ],
   "source": [
    "cell.index('зима')  # на каком элементе начинается первое в строке слова \"зима\""
   ]
  }
 ],
 "metadata": {
  "kernelspec": {
   "display_name": "Python 3 (ipykernel)",
   "language": "python",
   "name": "python3"
  },
  "language_info": {
   "codemirror_mode": {
    "name": "ipython",
    "version": 3
   },
   "file_extension": ".py",
   "mimetype": "text/x-python",
   "name": "python",
   "nbconvert_exporter": "python",
   "pygments_lexer": "ipython3",
   "version": "3.11.4"
  }
 },
 "nbformat": 4,
 "nbformat_minor": 5
}
