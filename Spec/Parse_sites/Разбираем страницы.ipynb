{
 "cells": [
  {
   "cell_type": "code",
   "execution_count": 1,
   "id": "d8d7eb07-abbe-41ed-a0c1-e22634ba9f6b",
   "metadata": {},
   "outputs": [],
   "source": [
    "import requests"
   ]
  },
  {
   "cell_type": "code",
   "execution_count": 3,
   "id": "84440374-6cd1-4c07-ae42-1917a69aa456",
   "metadata": {},
   "outputs": [
    {
     "data": {
      "text/plain": [
       "<Response [404]>"
      ]
     },
     "execution_count": 3,
     "metadata": {},
     "output_type": "execute_result"
    }
   ],
   "source": [
    "response = requests.get('https://hh.ru')\n",
    "response"
   ]
  },
  {
   "cell_type": "markdown",
   "id": "19dd24fe-1e07-436d-a015-a0016e94dfcf",
   "metadata": {},
   "source": [
    "Здесь нужны услуги посредника, можно загуглить scraping/parsing/web crawling api"
   ]
  },
  {
   "cell_type": "code",
   "execution_count": 5,
   "id": "44b39c07-0303-45c1-9eae-c866e64a0988",
   "metadata": {},
   "outputs": [
    {
     "data": {
      "text/plain": [
       "<Response [401]>"
      ]
     },
     "execution_count": 5,
     "metadata": {},
     "output_type": "execute_result"
    }
   ],
   "source": [
    "endpoint = \"http://api.scraperapi.com\"\n",
    "p = {\n",
    "    'api_key': 'reg23erg45jjvndvgfdfkgjkji',\n",
    "    'url': 'https://hh.ru'\n",
    "}\n",
    "\n",
    "response = requests.get(endpoint, params=p)\n",
    "response"
   ]
  },
  {
   "cell_type": "code",
   "execution_count": 6,
   "id": "929ee095-83d2-4ee0-9d48-7c2af9071dec",
   "metadata": {},
   "outputs": [
    {
     "data": {
      "text/plain": [
       "'Unauthorized request, please make sure your API key is valid.'"
      ]
     },
     "execution_count": 6,
     "metadata": {},
     "output_type": "execute_result"
    }
   ],
   "source": [
    "response.text"
   ]
  }
 ],
 "metadata": {
  "kernelspec": {
   "display_name": "Python 3 (ipykernel)",
   "language": "python",
   "name": "python3"
  },
  "language_info": {
   "codemirror_mode": {
    "name": "ipython",
    "version": 3
   },
   "file_extension": ".py",
   "mimetype": "text/x-python",
   "name": "python",
   "nbconvert_exporter": "python",
   "pygments_lexer": "ipython3",
   "version": "3.11.7"
  }
 },
 "nbformat": 4,
 "nbformat_minor": 5
}
