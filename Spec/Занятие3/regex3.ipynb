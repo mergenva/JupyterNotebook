{
 "cells": [
  {
   "cell_type": "code",
   "execution_count": 47,
   "id": "6af04d15-c084-417c-bfd4-6063789e03ac",
   "metadata": {},
   "outputs": [],
   "source": [
    "s1 = \"\"\"Добрый день!\n",
    "\n",
    "Ниже приведены пять адресов электронной почты, которые могут пригодиться для связи:\n",
    "\n",
    "1. joindoe@example.com\n",
    "2. sarah_223@hotmail.com\n",
    "3. mike.smith@mail.ru\n",
    "4. anna.stefanova@gmail.com\n",
    "5. peter.eckhardt@outlook.com\n",
    "\n",
    "Будьте уверены, что все эти адреса точны и действительны для использования.\n",
    "\n",
    "С наилучшими пожеланиями,\n",
    "Ваш Мерген\"\"\"\n",
    "\n",
    "s2 = \"mike.smith@mail.ru\"\n",
    "s3 = \"не почта\"\n",
    "\n",
    "email_regex1 = r'[\\w\\.]+@[\\w\\.]+\\.[a-z]{2,20}'\n",
    "email_regex2 = r'([\\w\\.]+)@([\\w\\.]+)(\\.[a-z]{2,20})' # с группами (фрагментами)"
   ]
  },
  {
   "cell_type": "code",
   "execution_count": 32,
   "id": "f7c1b0a9-462f-4759-8605-471078c12b30",
   "metadata": {},
   "outputs": [],
   "source": [
    "import re\n"
   ]
  },
  {
   "cell_type": "markdown",
   "id": "0d448e7f-a33d-44ed-b522-8cef71677777",
   "metadata": {},
   "source": [
    "## Хотим понять, является ли строка целиком почтой"
   ]
  },
  {
   "cell_type": "code",
   "execution_count": 33,
   "id": "c3258d34-2047-4529-a99a-8dc292830885",
   "metadata": {},
   "outputs": [
    {
     "name": "stdout",
     "output_type": "stream",
     "text": [
      "None\n",
      "<re.Match object; span=(0, 18), match='mike.smith@mail.ru'>\n",
      "s1 это не почта\n",
      "mike.smith@mail.ru Это почта\n"
     ]
    }
   ],
   "source": [
    "m1 = re.match(email_regex1, s1)\n",
    "print(m1) # если совпадения нет, то получаем None\n",
    "\n",
    "m2 = re.match(email_regex1, s2)\n",
    "print(m2)\n",
    "\n",
    "if m1 is None:\n",
    "    print('s1 это не почта')\n",
    "\n",
    "if m2:\n",
    "    print(s2, 'Это почта')"
   ]
  },
  {
   "cell_type": "markdown",
   "id": "8c262d1d-8559-4f05-ad06-ee748c932ee3",
   "metadata": {},
   "source": [
    "Теперь то же самое, но с группами (фрагментами)"
   ]
  },
  {
   "cell_type": "code",
   "execution_count": 39,
   "id": "3a323bc8-e18f-407a-8f9d-0c6766aedd03",
   "metadata": {},
   "outputs": [
    {
     "name": "stdout",
     "output_type": "stream",
     "text": [
      "<re.Match object; span=(0, 18), match='mike.smith@mail.ru'>\n",
      "mike.smith@mail.ru  - это почта\n",
      "mike.smith@mail.ru\n",
      "mike.smith\n",
      "mail\n",
      ".ru\n"
     ]
    }
   ],
   "source": [
    "m2 = re.match(email_regex2, s2)\n",
    "print(m2)\n",
    "\n",
    "if m2:\n",
    "    print(s2, ' - это почта')\n",
    "\n",
    "    print(m2.group(0)) # вся строка целиком r'([\\w\\.]+)@([\\w\\.]+)(\\.[a-z]{2,20})'\n",
    "    print(m2.group(1)) # первая пара скобок\n",
    "    print(m2.group(2)) # вторая пара скобок\n",
    "    print(m2.group(3)) # третья пара скобок"
   ]
  },
  {
   "cell_type": "markdown",
   "id": "6e635218-a484-479b-b3c0-ca03cc18a8df",
   "metadata": {},
   "source": [
    "## Хотим найти первую почту в тексте"
   ]
  },
  {
   "cell_type": "code",
   "execution_count": 41,
   "id": "43ab934f-5973-4d3e-aa3e-df07b4b596c3",
   "metadata": {},
   "outputs": [
    {
     "name": "stdout",
     "output_type": "stream",
     "text": [
      "<re.Match object; span=(102, 121), match='joindoe@example.com'>\n",
      "joindoe@example.com\n"
     ]
    }
   ],
   "source": [
    "m5 = re.search(email_regex1, s1)\n",
    "\n",
    "if m5:\n",
    "    print(m5)\n",
    "    print(m5.group(0))"
   ]
  },
  {
   "cell_type": "markdown",
   "id": "c536e013-448c-4fc2-a243-84aad7e52180",
   "metadata": {},
   "source": [
    "## Хотим найти все совпадения в тексте"
   ]
  },
  {
   "cell_type": "code",
   "execution_count": 42,
   "id": "1bc8657e-b58b-426d-9393-30d3a0504a8b",
   "metadata": {},
   "outputs": [
    {
     "name": "stdout",
     "output_type": "stream",
     "text": [
      "['joindoe@example.com', 'sarah_223@hotmail.com', 'mike.smith@mail.ru', 'anna.stefanova@gmail.com', 'peter.eckhardt@outlook.com']\n"
     ]
    }
   ],
   "source": [
    "emails1 = re.findall(email_regex1, s1)\n",
    "\n",
    "print(emails1) # просто список строк"
   ]
  },
  {
   "cell_type": "code",
   "execution_count": 43,
   "id": "cebbe798-4863-41b3-8b94-6b2e4f2aa4bf",
   "metadata": {},
   "outputs": [
    {
     "name": "stdout",
     "output_type": "stream",
     "text": [
      "[('joindoe', 'example', '.com'), ('sarah_223', 'hotmail', '.com'), ('mike.smith', 'mail', '.ru'), ('anna.stefanova', 'gmail', '.com'), ('peter.eckhardt', 'outlook', '.com')]\n"
     ]
    }
   ],
   "source": [
    "emails2 = re.findall(email_regex2, s1)\n",
    "\n",
    "print(emails2)"
   ]
  },
  {
   "cell_type": "markdown",
   "id": "734c7644-7630-4789-89cf-12399f623a3a",
   "metadata": {},
   "source": [
    "## Хотим заменить все имейлы в тексте на ***"
   ]
  },
  {
   "cell_type": "code",
   "execution_count": 45,
   "id": "79e359b8-d65e-437c-9bd2-ac59d2524aaa",
   "metadata": {},
   "outputs": [
    {
     "name": "stdout",
     "output_type": "stream",
     "text": [
      "Добрый день!\n",
      "\n",
      "Ниже приведены пять адресов электронной почты, которые могут пригодиться для связи:\n",
      "\n",
      "1. ***\n",
      "2. ***\n",
      "3. ***\n",
      "4. ***\n",
      "5. ***\n",
      "\n",
      "Будьте уверены, что все эти адреса точны и действительны для использования.\n",
      "\n",
      "С наилучшими пожеланиями,\n",
      "Ваш Мерген\n"
     ]
    }
   ],
   "source": [
    "s3_censored = re.sub(email_regex1, '***', s1) # str.replace(), но с регулярками\n",
    "print(s3_censored)"
   ]
  },
  {
   "cell_type": "markdown",
   "id": "09106be3-b1a1-4adf-8fba-68ad7820d9a5",
   "metadata": {},
   "source": [
    "## Хотим разделить строку наподобие split, но не по конкретному символу"
   ]
  },
  {
   "cell_type": "code",
   "execution_count": 46,
   "id": "574cdd0f-c39d-4696-982c-80a56fa6b941",
   "metadata": {},
   "outputs": [
    {
     "name": "stdout",
     "output_type": "stream",
     "text": [
      "['123', 'name', '234566', '5567657.234', '5656']\n"
     ]
    }
   ],
   "source": [
    "s4 = '123|name;234566,5567657.234;5656'\n",
    "cells = re.split(r'[|,;]', s4)\n",
    "print(cells)"
   ]
  },
  {
   "cell_type": "markdown",
   "id": "c2e7ec23-a328-489e-8897-00cedd1193f7",
   "metadata": {},
   "source": [
    "## Про Флаги"
   ]
  },
  {
   "cell_type": "code",
   "execution_count": 52,
   "id": "b857d22b-5831-4453-8781-2ecf3c163b73",
   "metadata": {},
   "outputs": [],
   "source": [
    "s5 = \"\"\"Добрый день!\n",
    "\n",
    "Ниже приведены пять адресов электронной почты, которые могут пригодиться для связи:\n",
    "\n",
    "1. joindoe@example.com\n",
    "2. sarah_223@hotmail.com\n",
    "3. mike.smith@mail.RU\n",
    "4. anna.stefanova@gmail.com\n",
    "5. peter.eckhardt@outlook.com\n",
    "6. User@gmail.com\n",
    "7. менеджер@специалист.рф\n",
    "\n",
    "Будьте уверены, что все эти адреса точны и действительны для использования.\n",
    "\n",
    "С наилучшими пожеланиями,\n",
    "Ваш Мерген\"\"\"\n",
    "\n",
    "email_regex3 = r'[\\w\\.]+@[\\w\\.]+\\.[\\w]{2,20}'\n",
    "email_regex4 = r'([a-z_\\.]+)@([a-z_\\.]+)(\\.[a-z]{2,20})'"
   ]
  },
  {
   "cell_type": "code",
   "execution_count": 56,
   "id": "f04217c2-e12e-4783-be5e-6d87fdf8d3ac",
   "metadata": {},
   "outputs": [
    {
     "name": "stdout",
     "output_type": "stream",
     "text": [
      "['joindoe@example.com', 'sarah_223@hotmail.com', 'mike.smith@mail.RU', 'anna.stefanova@gmail.com', 'peter.eckhardt@outlook.com', 'User@gmail.com']\n",
      "['joindoe@example.com', 'sarah_223@hotmail.com', 'mike.smith@mail.RU', 'anna.stefanova@gmail.com', 'peter.eckhardt@outlook.com', 'User@gmail.com', 'менеджер@специалист.рф']\n",
      "[('joindoe', 'example', '.com'), ('anna.stefanova', 'gmail', '.com'), ('peter.eckhardt', 'outlook', '.com'), ('ser', 'gmail', '.com'), ('менеджер', 'специалист', '.рф')]\n"
     ]
    }
   ],
   "source": [
    "emails3 = re.findall(email_regex1, s5, flags=re.I) # re.IGNORECASE\n",
    "print(emails3)\n",
    "\n",
    "emails4 = re.findall(email_regex3, s5, flags=re.U) # re.UNICODE\n",
    "print(emails4)\n",
    "\n",
    "emails4 = re.findall(r'([a-zа-я_\\.]+)@([a-zа-я_\\.]+)(\\.[a-zа-я]{2,20})', s5, flags=re.U) # re.UNICODE\n",
    "print(emails4)"
   ]
  }
 ],
 "metadata": {
  "kernelspec": {
   "display_name": "Python 3 (ipykernel)",
   "language": "python",
   "name": "python3"
  },
  "language_info": {
   "codemirror_mode": {
    "name": "ipython",
    "version": 3
   },
   "file_extension": ".py",
   "mimetype": "text/x-python",
   "name": "python",
   "nbconvert_exporter": "python",
   "pygments_lexer": "ipython3",
   "version": "3.11.7"
  }
 },
 "nbformat": 4,
 "nbformat_minor": 5
}
