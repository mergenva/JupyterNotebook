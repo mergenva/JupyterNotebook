{
 "cells": [
  {
   "cell_type": "markdown",
   "id": "9e903021-b4c8-4826-ac3b-562e4cfdb761",
   "metadata": {},
   "source": [
    "Задание 1\n",
    "\n",
    "Разобрать (распарсить, parse) файл \"Валюта2.xml\" (UTF-8)\n",
    "\n",
    "Найти и вывести на экран:\n",
    "\n",
    "* Название валюты полное\n",
    "\n",
    "* Код валюты из трех букв\n",
    "\n",
    "* Стоимость одной единицы валюты в рублях.\n"
   ]
  },
  {
   "cell_type": "code",
   "execution_count": 1,
   "id": "cc4a1cb1-bee4-4d96-b3f9-0cdbafab30fc",
   "metadata": {},
   "outputs": [],
   "source": [
    "from xml.etree import ElementTree"
   ]
  },
  {
   "cell_type": "code",
   "execution_count": 15,
   "id": "e9810d40-a1b4-4b6e-9a33-5920005c7b38",
   "metadata": {},
   "outputs": [],
   "source": [
    "f = open('Валюта2.xml', 'rt', encoding=\"utf-8\")\n",
    "data = ElementTree.parse(f)\n",
    "valcurs = data.getroot()"
   ]
  },
  {
   "cell_type": "code",
   "execution_count": 7,
   "id": "83b348d3-464a-419b-a0e8-9b906eb3a5fb",
   "metadata": {},
   "outputs": [
    {
     "data": {
      "text/plain": [
       "<Element 'ValCurs' at 0x7f4d5c1acb80>"
      ]
     },
     "execution_count": 7,
     "metadata": {},
     "output_type": "execute_result"
    }
   ],
   "source": [
    "valcurs"
   ]
  },
  {
   "cell_type": "code",
   "execution_count": 18,
   "id": "130610bb-ae23-4cde-a286-69687571f1da",
   "metadata": {},
   "outputs": [
    {
     "name": "stdout",
     "output_type": "stream",
     "text": [
      "AUD Австралийский доллар 57.7736\n",
      "AZN Азербайджанский манат 43.8938\n",
      "GBP Фунт стерлингов Соединенного королевства 103.5481\n",
      "AMD Армянских драмов 0.14144199999999998\n",
      "BYN Белорусский рубль 28.5577\n",
      "BGN Болгарский лев 45.7827\n",
      "BRL Бразильский реал 13.2175\n",
      "HUF Венгерских форинтов 0.245807\n",
      "HKD Гонконгских долларов 9.612350000000001\n",
      "DKK Датская крона 12.0405\n",
      "USD Доллар США 74.5755\n",
      "EUR Евро 89.5652\n",
      "INR Индийских рупий 1.01547\n",
      "KZT Казахстанских тенге 0.177122\n",
      "CAD Канадский доллар 58.7903\n",
      "KGS Киргизских сомов 0.879317\n",
      "CNY Китайский юань 11.5271\n",
      "MDL Молдавских леев 4.24932\n",
      "NOK Норвежских крон 8.67742\n",
      "PLN Польский злотый 19.729\n",
      "RON Румынский лей 18.3647\n",
      "XDR СДР (специальные права заимствования) 107.1434\n",
      "SGD Сингапурский доллар 55.954\n",
      "TJS Таджикских сомони 6.544580000000001\n",
      "TRY Турецкая лира 10.2034\n",
      "TMT Новый туркменский манат 21.3378\n",
      "UZS Узбекских сумов 0.00709087\n",
      "UAH Украинских гривен 2.66736\n",
      "CZK Чешских крон 3.42058\n",
      "SEK Шведских крон 8.81007\n",
      "CHF Швейцарский франк 81.2369\n",
      "ZAR Южноафриканских рэндов 4.95538\n",
      "KRW Вон Республики Корея 0.06632819999999999\n",
      "JPY Японских иен 0.6979130000000001\n"
     ]
    }
   ],
   "source": [
    "for valute in valcurs:\n",
    "    charcode = valute.find('CharCode').text\n",
    "    name = valute.find('Name').text\n",
    "    value = float(valute\n",
    "                  .find('Value')\n",
    "                  .text\n",
    "                  .replace(',','.')\n",
    "                 )\n",
    "    nominal = int(valute.find('Nominal').text)\n",
    "    price = value / nominal\n",
    "    print(charcode, name, price)\n",
    "    "
   ]
  }
 ],
 "metadata": {
  "kernelspec": {
   "display_name": "Python 3 (ipykernel)",
   "language": "python",
   "name": "python3"
  },
  "language_info": {
   "codemirror_mode": {
    "name": "ipython",
    "version": 3
   },
   "file_extension": ".py",
   "mimetype": "text/x-python",
   "name": "python",
   "nbconvert_exporter": "python",
   "pygments_lexer": "ipython3",
   "version": "3.11.7"
  }
 },
 "nbformat": 4,
 "nbformat_minor": 5
}
