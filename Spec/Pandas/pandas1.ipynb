{
 "cells": [
  {
   "cell_type": "code",
   "execution_count": 13,
   "id": "18a5bf0f-ed6d-44ea-bbc4-72b5295936e4",
   "metadata": {},
   "outputs": [],
   "source": [
    "import numpy as np\n",
    "import pandas as pd"
   ]
  },
  {
   "cell_type": "code",
   "execution_count": 14,
   "id": "c83793d0-4187-4c5e-93bc-d772f4112f20",
   "metadata": {},
   "outputs": [
    {
     "data": {
      "text/html": [
       "<div>\n",
       "<style scoped>\n",
       "    .dataframe tbody tr th:only-of-type {\n",
       "        vertical-align: middle;\n",
       "    }\n",
       "\n",
       "    .dataframe tbody tr th {\n",
       "        vertical-align: top;\n",
       "    }\n",
       "\n",
       "    .dataframe thead th {\n",
       "        text-align: right;\n",
       "    }\n",
       "</style>\n",
       "<table border=\"1\" class=\"dataframe\">\n",
       "  <thead>\n",
       "    <tr style=\"text-align: right;\">\n",
       "      <th></th>\n",
       "      <th>Audi</th>\n",
       "      <th>BMV</th>\n",
       "    </tr>\n",
       "  </thead>\n",
       "  <tbody>\n",
       "    <tr>\n",
       "      <th>0</th>\n",
       "      <td>1</td>\n",
       "      <td>1</td>\n",
       "    </tr>\n",
       "    <tr>\n",
       "      <th>1</th>\n",
       "      <td>2</td>\n",
       "      <td>2</td>\n",
       "    </tr>\n",
       "    <tr>\n",
       "      <th>2</th>\n",
       "      <td>3</td>\n",
       "      <td>3</td>\n",
       "    </tr>\n",
       "    <tr>\n",
       "      <th>3</th>\n",
       "      <td>4</td>\n",
       "      <td>4</td>\n",
       "    </tr>\n",
       "    <tr>\n",
       "      <th>4</th>\n",
       "      <td>5</td>\n",
       "      <td>t</td>\n",
       "    </tr>\n",
       "  </tbody>\n",
       "</table>\n",
       "</div>"
      ],
      "text/plain": [
       "   Audi BMV\n",
       "0     1   1\n",
       "1     2   2\n",
       "2     3   3\n",
       "3     4   4\n",
       "4     5   t"
      ]
     },
     "execution_count": 14,
     "metadata": {},
     "output_type": "execute_result"
    }
   ],
   "source": [
    "pd.DataFrame({'Audi':[1, 2, 3, 4, 5], 'BMV': [1, 2, 3, 4, 't']})"
   ]
  },
  {
   "cell_type": "code",
   "execution_count": 17,
   "id": "020885f9-6a7c-427f-abc3-67127bceb9b9",
   "metadata": {},
   "outputs": [
    {
     "data": {
      "text/plain": [
       "0    1.0\n",
       "1    3.0\n",
       "2    5.0\n",
       "3    NaN\n",
       "4    6.0\n",
       "5    8.0\n",
       "dtype: float64"
      ]
     },
     "execution_count": 17,
     "metadata": {},
     "output_type": "execute_result"
    }
   ],
   "source": [
    "s = pd.Series([1, 3, 5, np.nan, 6, 8])\n",
    "s"
   ]
  },
  {
   "cell_type": "code",
   "execution_count": 20,
   "id": "b66b08d0-46f3-4b5c-a7c7-2c7e4f7e7caa",
   "metadata": {},
   "outputs": [
    {
     "data": {
      "text/plain": [
       "DatetimeIndex(['2024-09-07', '2024-09-08', '2024-09-09', '2024-09-10',\n",
       "               '2024-09-11', '2024-09-12'],\n",
       "              dtype='datetime64[ns]', freq='D')"
      ]
     },
     "execution_count": 20,
     "metadata": {},
     "output_type": "execute_result"
    }
   ],
   "source": [
    "dates = pd.date_range(\"20240907\", periods=6)\n",
    "dates"
   ]
  },
  {
   "cell_type": "code",
   "execution_count": 21,
   "id": "c6a851be-817e-4cf2-b12e-0c66c598f4a6",
   "metadata": {},
   "outputs": [
    {
     "data": {
      "text/html": [
       "<div>\n",
       "<style scoped>\n",
       "    .dataframe tbody tr th:only-of-type {\n",
       "        vertical-align: middle;\n",
       "    }\n",
       "\n",
       "    .dataframe tbody tr th {\n",
       "        vertical-align: top;\n",
       "    }\n",
       "\n",
       "    .dataframe thead th {\n",
       "        text-align: right;\n",
       "    }\n",
       "</style>\n",
       "<table border=\"1\" class=\"dataframe\">\n",
       "  <thead>\n",
       "    <tr style=\"text-align: right;\">\n",
       "      <th></th>\n",
       "      <th>A</th>\n",
       "      <th>B</th>\n",
       "      <th>C</th>\n",
       "      <th>D</th>\n",
       "    </tr>\n",
       "  </thead>\n",
       "  <tbody>\n",
       "    <tr>\n",
       "      <th>2024-09-07</th>\n",
       "      <td>0.242253</td>\n",
       "      <td>-0.307345</td>\n",
       "      <td>1.486004</td>\n",
       "      <td>-0.584846</td>\n",
       "    </tr>\n",
       "    <tr>\n",
       "      <th>2024-09-08</th>\n",
       "      <td>1.505415</td>\n",
       "      <td>-0.022909</td>\n",
       "      <td>-0.742329</td>\n",
       "      <td>-1.311255</td>\n",
       "    </tr>\n",
       "    <tr>\n",
       "      <th>2024-09-09</th>\n",
       "      <td>-0.586951</td>\n",
       "      <td>0.505458</td>\n",
       "      <td>1.138677</td>\n",
       "      <td>-0.718201</td>\n",
       "    </tr>\n",
       "    <tr>\n",
       "      <th>2024-09-10</th>\n",
       "      <td>0.225347</td>\n",
       "      <td>-0.253458</td>\n",
       "      <td>0.825109</td>\n",
       "      <td>-0.985684</td>\n",
       "    </tr>\n",
       "    <tr>\n",
       "      <th>2024-09-11</th>\n",
       "      <td>0.019186</td>\n",
       "      <td>2.148731</td>\n",
       "      <td>0.034548</td>\n",
       "      <td>0.287359</td>\n",
       "    </tr>\n",
       "    <tr>\n",
       "      <th>2024-09-12</th>\n",
       "      <td>-0.347888</td>\n",
       "      <td>-0.166753</td>\n",
       "      <td>0.064856</td>\n",
       "      <td>0.142888</td>\n",
       "    </tr>\n",
       "  </tbody>\n",
       "</table>\n",
       "</div>"
      ],
      "text/plain": [
       "                   A         B         C         D\n",
       "2024-09-07  0.242253 -0.307345  1.486004 -0.584846\n",
       "2024-09-08  1.505415 -0.022909 -0.742329 -1.311255\n",
       "2024-09-09 -0.586951  0.505458  1.138677 -0.718201\n",
       "2024-09-10  0.225347 -0.253458  0.825109 -0.985684\n",
       "2024-09-11  0.019186  2.148731  0.034548  0.287359\n",
       "2024-09-12 -0.347888 -0.166753  0.064856  0.142888"
      ]
     },
     "execution_count": 21,
     "metadata": {},
     "output_type": "execute_result"
    }
   ],
   "source": [
    "df = pd.DataFrame(np.random.randn(6, 4), index=dates, columns=list(\"ABCD\"))\n",
    "df"
   ]
  },
  {
   "cell_type": "code",
   "execution_count": 23,
   "id": "1063f95b-64e8-4bff-b105-4412ddb0baf8",
   "metadata": {},
   "outputs": [
    {
     "data": {
      "text/html": [
       "<div>\n",
       "<style scoped>\n",
       "    .dataframe tbody tr th:only-of-type {\n",
       "        vertical-align: middle;\n",
       "    }\n",
       "\n",
       "    .dataframe tbody tr th {\n",
       "        vertical-align: top;\n",
       "    }\n",
       "\n",
       "    .dataframe thead th {\n",
       "        text-align: right;\n",
       "    }\n",
       "</style>\n",
       "<table border=\"1\" class=\"dataframe\">\n",
       "  <thead>\n",
       "    <tr style=\"text-align: right;\">\n",
       "      <th></th>\n",
       "      <th>A</th>\n",
       "      <th>B</th>\n",
       "      <th>C</th>\n",
       "      <th>D</th>\n",
       "      <th>E</th>\n",
       "      <th>F</th>\n",
       "    </tr>\n",
       "  </thead>\n",
       "  <tbody>\n",
       "    <tr>\n",
       "      <th>0</th>\n",
       "      <td>1.0</td>\n",
       "      <td>2024-09-07</td>\n",
       "      <td>1.0</td>\n",
       "      <td>3</td>\n",
       "      <td>test</td>\n",
       "      <td>foo</td>\n",
       "    </tr>\n",
       "    <tr>\n",
       "      <th>1</th>\n",
       "      <td>1.0</td>\n",
       "      <td>2024-09-07</td>\n",
       "      <td>1.0</td>\n",
       "      <td>3</td>\n",
       "      <td>traim</td>\n",
       "      <td>foo</td>\n",
       "    </tr>\n",
       "    <tr>\n",
       "      <th>2</th>\n",
       "      <td>1.0</td>\n",
       "      <td>2024-09-07</td>\n",
       "      <td>1.0</td>\n",
       "      <td>3</td>\n",
       "      <td>test</td>\n",
       "      <td>foo</td>\n",
       "    </tr>\n",
       "    <tr>\n",
       "      <th>3</th>\n",
       "      <td>1.0</td>\n",
       "      <td>2024-09-07</td>\n",
       "      <td>1.0</td>\n",
       "      <td>3</td>\n",
       "      <td>train</td>\n",
       "      <td>foo</td>\n",
       "    </tr>\n",
       "  </tbody>\n",
       "</table>\n",
       "</div>"
      ],
      "text/plain": [
       "     A          B    C  D      E    F\n",
       "0  1.0 2024-09-07  1.0  3   test  foo\n",
       "1  1.0 2024-09-07  1.0  3  traim  foo\n",
       "2  1.0 2024-09-07  1.0  3   test  foo\n",
       "3  1.0 2024-09-07  1.0  3  train  foo"
      ]
     },
     "execution_count": 23,
     "metadata": {},
     "output_type": "execute_result"
    }
   ],
   "source": [
    "df2 = pd.DataFrame(\n",
    "    {\n",
    "        \"A\": 1.0,\n",
    "        \"B\": pd.Timestamp(\"20240907\"),\n",
    "        \"C\": pd.Series(1, index=list(range(4)), dtype=\"float32\"),\n",
    "        \"D\": np.array([3] * 4, dtype=\"int32\"),\n",
    "        \"E\": pd.Categorical([\"test\", \"traim\", \"test\", \"train\"]),\n",
    "        \"F\": \"foo\",\n",
    "    }\n",
    ")\n",
    "df2"
   ]
  },
  {
   "cell_type": "code",
   "execution_count": 24,
   "id": "aa42f949-24ee-4984-abab-404f286807c8",
   "metadata": {},
   "outputs": [
    {
     "data": {
      "text/plain": [
       "A          float64\n",
       "B    datetime64[s]\n",
       "C          float32\n",
       "D            int32\n",
       "E         category\n",
       "F           object\n",
       "dtype: object"
      ]
     },
     "execution_count": 24,
     "metadata": {},
     "output_type": "execute_result"
    }
   ],
   "source": [
    "df2.dtypes"
   ]
  },
  {
   "cell_type": "code",
   "execution_count": 30,
   "id": "3b57f961-ea78-45f2-a2b2-9c875d7df4d2",
   "metadata": {},
   "outputs": [
    {
     "data": {
      "text/html": [
       "<div>\n",
       "<style scoped>\n",
       "    .dataframe tbody tr th:only-of-type {\n",
       "        vertical-align: middle;\n",
       "    }\n",
       "\n",
       "    .dataframe tbody tr th {\n",
       "        vertical-align: top;\n",
       "    }\n",
       "\n",
       "    .dataframe thead th {\n",
       "        text-align: right;\n",
       "    }\n",
       "</style>\n",
       "<table border=\"1\" class=\"dataframe\">\n",
       "  <thead>\n",
       "    <tr style=\"text-align: right;\">\n",
       "      <th></th>\n",
       "      <th>A</th>\n",
       "      <th>B</th>\n",
       "      <th>C</th>\n",
       "      <th>D</th>\n",
       "    </tr>\n",
       "  </thead>\n",
       "  <tbody>\n",
       "    <tr>\n",
       "      <th>2024-09-07</th>\n",
       "      <td>0.242253</td>\n",
       "      <td>-0.307345</td>\n",
       "      <td>1.486004</td>\n",
       "      <td>-0.584846</td>\n",
       "    </tr>\n",
       "    <tr>\n",
       "      <th>2024-09-08</th>\n",
       "      <td>1.505415</td>\n",
       "      <td>-0.022909</td>\n",
       "      <td>-0.742329</td>\n",
       "      <td>-1.311255</td>\n",
       "    </tr>\n",
       "    <tr>\n",
       "      <th>2024-09-09</th>\n",
       "      <td>-0.586951</td>\n",
       "      <td>0.505458</td>\n",
       "      <td>1.138677</td>\n",
       "      <td>-0.718201</td>\n",
       "    </tr>\n",
       "  </tbody>\n",
       "</table>\n",
       "</div>"
      ],
      "text/plain": [
       "                   A         B         C         D\n",
       "2024-09-07  0.242253 -0.307345  1.486004 -0.584846\n",
       "2024-09-08  1.505415 -0.022909 -0.742329 -1.311255\n",
       "2024-09-09 -0.586951  0.505458  1.138677 -0.718201"
      ]
     },
     "execution_count": 30,
     "metadata": {},
     "output_type": "execute_result"
    }
   ],
   "source": [
    "df.head(3)"
   ]
  },
  {
   "cell_type": "code",
   "execution_count": 31,
   "id": "fb37a1ea-57a7-4c8c-afe9-404843f80cf6",
   "metadata": {},
   "outputs": [
    {
     "data": {
      "text/html": [
       "<div>\n",
       "<style scoped>\n",
       "    .dataframe tbody tr th:only-of-type {\n",
       "        vertical-align: middle;\n",
       "    }\n",
       "\n",
       "    .dataframe tbody tr th {\n",
       "        vertical-align: top;\n",
       "    }\n",
       "\n",
       "    .dataframe thead th {\n",
       "        text-align: right;\n",
       "    }\n",
       "</style>\n",
       "<table border=\"1\" class=\"dataframe\">\n",
       "  <thead>\n",
       "    <tr style=\"text-align: right;\">\n",
       "      <th></th>\n",
       "      <th>A</th>\n",
       "      <th>B</th>\n",
       "      <th>C</th>\n",
       "      <th>D</th>\n",
       "    </tr>\n",
       "  </thead>\n",
       "  <tbody>\n",
       "    <tr>\n",
       "      <th>2024-09-11</th>\n",
       "      <td>0.019186</td>\n",
       "      <td>2.148731</td>\n",
       "      <td>0.034548</td>\n",
       "      <td>0.287359</td>\n",
       "    </tr>\n",
       "    <tr>\n",
       "      <th>2024-09-12</th>\n",
       "      <td>-0.347888</td>\n",
       "      <td>-0.166753</td>\n",
       "      <td>0.064856</td>\n",
       "      <td>0.142888</td>\n",
       "    </tr>\n",
       "  </tbody>\n",
       "</table>\n",
       "</div>"
      ],
      "text/plain": [
       "                   A         B         C         D\n",
       "2024-09-11  0.019186  2.148731  0.034548  0.287359\n",
       "2024-09-12 -0.347888 -0.166753  0.064856  0.142888"
      ]
     },
     "execution_count": 31,
     "metadata": {},
     "output_type": "execute_result"
    }
   ],
   "source": [
    "df.tail(2)"
   ]
  },
  {
   "cell_type": "code",
   "execution_count": 34,
   "id": "7a2405f3-bc82-4c5e-855f-a24ec63a4ce6",
   "metadata": {},
   "outputs": [
    {
     "data": {
      "text/plain": [
       "DatetimeIndex(['2024-09-07', '2024-09-08', '2024-09-09', '2024-09-10',\n",
       "               '2024-09-11', '2024-09-12'],\n",
       "              dtype='datetime64[ns]', freq='D')"
      ]
     },
     "execution_count": 34,
     "metadata": {},
     "output_type": "execute_result"
    }
   ],
   "source": [
    "df.index"
   ]
  },
  {
   "cell_type": "code",
   "execution_count": 35,
   "id": "9f210ba7-7bb9-4087-a0a6-444492401cd6",
   "metadata": {},
   "outputs": [
    {
     "data": {
      "text/plain": [
       "array([[ 0.24225301, -0.30734487,  1.48600446, -0.58484584],\n",
       "       [ 1.50541477, -0.02290922, -0.74232926, -1.31125474],\n",
       "       [-0.58695114,  0.50545784,  1.13867718, -0.71820118],\n",
       "       [ 0.22534701, -0.25345815,  0.82510893, -0.98568368],\n",
       "       [ 0.01918601,  2.1487313 ,  0.03454769,  0.28735925],\n",
       "       [-0.34788779, -0.16675343,  0.06485564,  0.14288751]])"
      ]
     },
     "execution_count": 35,
     "metadata": {},
     "output_type": "execute_result"
    }
   ],
   "source": [
    "df.to_numpy()"
   ]
  },
  {
   "cell_type": "code",
   "execution_count": 36,
   "id": "0b852e51-54cf-4df2-bacc-2893b6f7bd53",
   "metadata": {},
   "outputs": [
    {
     "data": {
      "text/plain": [
       "A          float64\n",
       "B    datetime64[s]\n",
       "C          float32\n",
       "D            int32\n",
       "E         category\n",
       "F           object\n",
       "dtype: object"
      ]
     },
     "execution_count": 36,
     "metadata": {},
     "output_type": "execute_result"
    }
   ],
   "source": [
    "df2.dtypes"
   ]
  },
  {
   "cell_type": "code",
   "execution_count": 37,
   "id": "7ed41e56-da98-4af1-805f-b2c275ca41c8",
   "metadata": {},
   "outputs": [
    {
     "data": {
      "text/plain": [
       "array([[1.0, Timestamp('2024-09-07 00:00:00'), 1.0, 3, 'test', 'foo'],\n",
       "       [1.0, Timestamp('2024-09-07 00:00:00'), 1.0, 3, 'traim', 'foo'],\n",
       "       [1.0, Timestamp('2024-09-07 00:00:00'), 1.0, 3, 'test', 'foo'],\n",
       "       [1.0, Timestamp('2024-09-07 00:00:00'), 1.0, 3, 'train', 'foo']],\n",
       "      dtype=object)"
      ]
     },
     "execution_count": 37,
     "metadata": {},
     "output_type": "execute_result"
    }
   ],
   "source": [
    "df2.to_numpy()"
   ]
  },
  {
   "cell_type": "code",
   "execution_count": 38,
   "id": "0f2401bc-42f0-41f5-9074-1cd24db62758",
   "metadata": {},
   "outputs": [
    {
     "data": {
      "text/html": [
       "<div>\n",
       "<style scoped>\n",
       "    .dataframe tbody tr th:only-of-type {\n",
       "        vertical-align: middle;\n",
       "    }\n",
       "\n",
       "    .dataframe tbody tr th {\n",
       "        vertical-align: top;\n",
       "    }\n",
       "\n",
       "    .dataframe thead th {\n",
       "        text-align: right;\n",
       "    }\n",
       "</style>\n",
       "<table border=\"1\" class=\"dataframe\">\n",
       "  <thead>\n",
       "    <tr style=\"text-align: right;\">\n",
       "      <th></th>\n",
       "      <th>A</th>\n",
       "      <th>B</th>\n",
       "      <th>C</th>\n",
       "      <th>D</th>\n",
       "    </tr>\n",
       "  </thead>\n",
       "  <tbody>\n",
       "    <tr>\n",
       "      <th>count</th>\n",
       "      <td>6.000000</td>\n",
       "      <td>6.000000</td>\n",
       "      <td>6.000000</td>\n",
       "      <td>6.000000</td>\n",
       "    </tr>\n",
       "    <tr>\n",
       "      <th>mean</th>\n",
       "      <td>0.176227</td>\n",
       "      <td>0.317287</td>\n",
       "      <td>0.467811</td>\n",
       "      <td>-0.528290</td>\n",
       "    </tr>\n",
       "    <tr>\n",
       "      <th>std</th>\n",
       "      <td>0.728740</td>\n",
       "      <td>0.943985</td>\n",
       "      <td>0.828127</td>\n",
       "      <td>0.628851</td>\n",
       "    </tr>\n",
       "    <tr>\n",
       "      <th>min</th>\n",
       "      <td>-0.586951</td>\n",
       "      <td>-0.307345</td>\n",
       "      <td>-0.742329</td>\n",
       "      <td>-1.311255</td>\n",
       "    </tr>\n",
       "    <tr>\n",
       "      <th>25%</th>\n",
       "      <td>-0.256119</td>\n",
       "      <td>-0.231782</td>\n",
       "      <td>0.042125</td>\n",
       "      <td>-0.918813</td>\n",
       "    </tr>\n",
       "    <tr>\n",
       "      <th>50%</th>\n",
       "      <td>0.122267</td>\n",
       "      <td>-0.094831</td>\n",
       "      <td>0.444982</td>\n",
       "      <td>-0.651524</td>\n",
       "    </tr>\n",
       "    <tr>\n",
       "      <th>75%</th>\n",
       "      <td>0.238027</td>\n",
       "      <td>0.373366</td>\n",
       "      <td>1.060285</td>\n",
       "      <td>-0.039046</td>\n",
       "    </tr>\n",
       "    <tr>\n",
       "      <th>max</th>\n",
       "      <td>1.505415</td>\n",
       "      <td>2.148731</td>\n",
       "      <td>1.486004</td>\n",
       "      <td>0.287359</td>\n",
       "    </tr>\n",
       "  </tbody>\n",
       "</table>\n",
       "</div>"
      ],
      "text/plain": [
       "              A         B         C         D\n",
       "count  6.000000  6.000000  6.000000  6.000000\n",
       "mean   0.176227  0.317287  0.467811 -0.528290\n",
       "std    0.728740  0.943985  0.828127  0.628851\n",
       "min   -0.586951 -0.307345 -0.742329 -1.311255\n",
       "25%   -0.256119 -0.231782  0.042125 -0.918813\n",
       "50%    0.122267 -0.094831  0.444982 -0.651524\n",
       "75%    0.238027  0.373366  1.060285 -0.039046\n",
       "max    1.505415  2.148731  1.486004  0.287359"
      ]
     },
     "execution_count": 38,
     "metadata": {},
     "output_type": "execute_result"
    }
   ],
   "source": [
    "df.describe()"
   ]
  },
  {
   "cell_type": "code",
   "execution_count": 39,
   "id": "cbd65acd-7d5e-4271-b765-9d3f18fa886c",
   "metadata": {},
   "outputs": [
    {
     "data": {
      "text/html": [
       "<div>\n",
       "<style scoped>\n",
       "    .dataframe tbody tr th:only-of-type {\n",
       "        vertical-align: middle;\n",
       "    }\n",
       "\n",
       "    .dataframe tbody tr th {\n",
       "        vertical-align: top;\n",
       "    }\n",
       "\n",
       "    .dataframe thead th {\n",
       "        text-align: right;\n",
       "    }\n",
       "</style>\n",
       "<table border=\"1\" class=\"dataframe\">\n",
       "  <thead>\n",
       "    <tr style=\"text-align: right;\">\n",
       "      <th></th>\n",
       "      <th>2024-09-07</th>\n",
       "      <th>2024-09-08</th>\n",
       "      <th>2024-09-09</th>\n",
       "      <th>2024-09-10</th>\n",
       "      <th>2024-09-11</th>\n",
       "      <th>2024-09-12</th>\n",
       "    </tr>\n",
       "  </thead>\n",
       "  <tbody>\n",
       "    <tr>\n",
       "      <th>A</th>\n",
       "      <td>0.242253</td>\n",
       "      <td>1.505415</td>\n",
       "      <td>-0.586951</td>\n",
       "      <td>0.225347</td>\n",
       "      <td>0.019186</td>\n",
       "      <td>-0.347888</td>\n",
       "    </tr>\n",
       "    <tr>\n",
       "      <th>B</th>\n",
       "      <td>-0.307345</td>\n",
       "      <td>-0.022909</td>\n",
       "      <td>0.505458</td>\n",
       "      <td>-0.253458</td>\n",
       "      <td>2.148731</td>\n",
       "      <td>-0.166753</td>\n",
       "    </tr>\n",
       "    <tr>\n",
       "      <th>C</th>\n",
       "      <td>1.486004</td>\n",
       "      <td>-0.742329</td>\n",
       "      <td>1.138677</td>\n",
       "      <td>0.825109</td>\n",
       "      <td>0.034548</td>\n",
       "      <td>0.064856</td>\n",
       "    </tr>\n",
       "    <tr>\n",
       "      <th>D</th>\n",
       "      <td>-0.584846</td>\n",
       "      <td>-1.311255</td>\n",
       "      <td>-0.718201</td>\n",
       "      <td>-0.985684</td>\n",
       "      <td>0.287359</td>\n",
       "      <td>0.142888</td>\n",
       "    </tr>\n",
       "  </tbody>\n",
       "</table>\n",
       "</div>"
      ],
      "text/plain": [
       "   2024-09-07  2024-09-08  2024-09-09  2024-09-10  2024-09-11  2024-09-12\n",
       "A    0.242253    1.505415   -0.586951    0.225347    0.019186   -0.347888\n",
       "B   -0.307345   -0.022909    0.505458   -0.253458    2.148731   -0.166753\n",
       "C    1.486004   -0.742329    1.138677    0.825109    0.034548    0.064856\n",
       "D   -0.584846   -1.311255   -0.718201   -0.985684    0.287359    0.142888"
      ]
     },
     "execution_count": 39,
     "metadata": {},
     "output_type": "execute_result"
    }
   ],
   "source": [
    "df.T"
   ]
  },
  {
   "cell_type": "code",
   "execution_count": 40,
   "id": "a73f5f87-6866-4885-afff-d75f24f58c7f",
   "metadata": {},
   "outputs": [
    {
     "data": {
      "text/html": [
       "<div>\n",
       "<style scoped>\n",
       "    .dataframe tbody tr th:only-of-type {\n",
       "        vertical-align: middle;\n",
       "    }\n",
       "\n",
       "    .dataframe tbody tr th {\n",
       "        vertical-align: top;\n",
       "    }\n",
       "\n",
       "    .dataframe thead th {\n",
       "        text-align: right;\n",
       "    }\n",
       "</style>\n",
       "<table border=\"1\" class=\"dataframe\">\n",
       "  <thead>\n",
       "    <tr style=\"text-align: right;\">\n",
       "      <th></th>\n",
       "      <th>A</th>\n",
       "      <th>B</th>\n",
       "      <th>C</th>\n",
       "      <th>D</th>\n",
       "    </tr>\n",
       "  </thead>\n",
       "  <tbody>\n",
       "    <tr>\n",
       "      <th>2024-09-07</th>\n",
       "      <td>0.242253</td>\n",
       "      <td>-0.307345</td>\n",
       "      <td>1.486004</td>\n",
       "      <td>-0.584846</td>\n",
       "    </tr>\n",
       "    <tr>\n",
       "      <th>2024-09-08</th>\n",
       "      <td>1.505415</td>\n",
       "      <td>-0.022909</td>\n",
       "      <td>-0.742329</td>\n",
       "      <td>-1.311255</td>\n",
       "    </tr>\n",
       "    <tr>\n",
       "      <th>2024-09-09</th>\n",
       "      <td>-0.586951</td>\n",
       "      <td>0.505458</td>\n",
       "      <td>1.138677</td>\n",
       "      <td>-0.718201</td>\n",
       "    </tr>\n",
       "    <tr>\n",
       "      <th>2024-09-10</th>\n",
       "      <td>0.225347</td>\n",
       "      <td>-0.253458</td>\n",
       "      <td>0.825109</td>\n",
       "      <td>-0.985684</td>\n",
       "    </tr>\n",
       "    <tr>\n",
       "      <th>2024-09-11</th>\n",
       "      <td>0.019186</td>\n",
       "      <td>2.148731</td>\n",
       "      <td>0.034548</td>\n",
       "      <td>0.287359</td>\n",
       "    </tr>\n",
       "    <tr>\n",
       "      <th>2024-09-12</th>\n",
       "      <td>-0.347888</td>\n",
       "      <td>-0.166753</td>\n",
       "      <td>0.064856</td>\n",
       "      <td>0.142888</td>\n",
       "    </tr>\n",
       "  </tbody>\n",
       "</table>\n",
       "</div>"
      ],
      "text/plain": [
       "                   A         B         C         D\n",
       "2024-09-07  0.242253 -0.307345  1.486004 -0.584846\n",
       "2024-09-08  1.505415 -0.022909 -0.742329 -1.311255\n",
       "2024-09-09 -0.586951  0.505458  1.138677 -0.718201\n",
       "2024-09-10  0.225347 -0.253458  0.825109 -0.985684\n",
       "2024-09-11  0.019186  2.148731  0.034548  0.287359\n",
       "2024-09-12 -0.347888 -0.166753  0.064856  0.142888"
      ]
     },
     "execution_count": 40,
     "metadata": {},
     "output_type": "execute_result"
    }
   ],
   "source": [
    "df"
   ]
  },
  {
   "cell_type": "code",
   "execution_count": 47,
   "id": "e5d1c1d8-f70c-42ff-bf69-219ebe5d8b1c",
   "metadata": {},
   "outputs": [
    {
     "data": {
      "text/html": [
       "<div>\n",
       "<style scoped>\n",
       "    .dataframe tbody tr th:only-of-type {\n",
       "        vertical-align: middle;\n",
       "    }\n",
       "\n",
       "    .dataframe tbody tr th {\n",
       "        vertical-align: top;\n",
       "    }\n",
       "\n",
       "    .dataframe thead th {\n",
       "        text-align: right;\n",
       "    }\n",
       "</style>\n",
       "<table border=\"1\" class=\"dataframe\">\n",
       "  <thead>\n",
       "    <tr style=\"text-align: right;\">\n",
       "      <th></th>\n",
       "      <th>D</th>\n",
       "      <th>C</th>\n",
       "      <th>B</th>\n",
       "      <th>A</th>\n",
       "    </tr>\n",
       "  </thead>\n",
       "  <tbody>\n",
       "    <tr>\n",
       "      <th>2024-09-07</th>\n",
       "      <td>-0.584846</td>\n",
       "      <td>1.486004</td>\n",
       "      <td>-0.307345</td>\n",
       "      <td>0.242253</td>\n",
       "    </tr>\n",
       "    <tr>\n",
       "      <th>2024-09-08</th>\n",
       "      <td>-1.311255</td>\n",
       "      <td>-0.742329</td>\n",
       "      <td>-0.022909</td>\n",
       "      <td>1.505415</td>\n",
       "    </tr>\n",
       "    <tr>\n",
       "      <th>2024-09-09</th>\n",
       "      <td>-0.718201</td>\n",
       "      <td>1.138677</td>\n",
       "      <td>0.505458</td>\n",
       "      <td>-0.586951</td>\n",
       "    </tr>\n",
       "    <tr>\n",
       "      <th>2024-09-10</th>\n",
       "      <td>-0.985684</td>\n",
       "      <td>0.825109</td>\n",
       "      <td>-0.253458</td>\n",
       "      <td>0.225347</td>\n",
       "    </tr>\n",
       "    <tr>\n",
       "      <th>2024-09-11</th>\n",
       "      <td>0.287359</td>\n",
       "      <td>0.034548</td>\n",
       "      <td>2.148731</td>\n",
       "      <td>0.019186</td>\n",
       "    </tr>\n",
       "    <tr>\n",
       "      <th>2024-09-12</th>\n",
       "      <td>0.142888</td>\n",
       "      <td>0.064856</td>\n",
       "      <td>-0.166753</td>\n",
       "      <td>-0.347888</td>\n",
       "    </tr>\n",
       "  </tbody>\n",
       "</table>\n",
       "</div>"
      ],
      "text/plain": [
       "                   D         C         B         A\n",
       "2024-09-07 -0.584846  1.486004 -0.307345  0.242253\n",
       "2024-09-08 -1.311255 -0.742329 -0.022909  1.505415\n",
       "2024-09-09 -0.718201  1.138677  0.505458 -0.586951\n",
       "2024-09-10 -0.985684  0.825109 -0.253458  0.225347\n",
       "2024-09-11  0.287359  0.034548  2.148731  0.019186\n",
       "2024-09-12  0.142888  0.064856 -0.166753 -0.347888"
      ]
     },
     "execution_count": 47,
     "metadata": {},
     "output_type": "execute_result"
    }
   ],
   "source": [
    "df.sort_index(axis=1, ascending=False)"
   ]
  },
  {
   "cell_type": "code",
   "execution_count": 48,
   "id": "4961a4e1-956a-4844-966a-423016caf507",
   "metadata": {},
   "outputs": [
    {
     "data": {
      "text/html": [
       "<div>\n",
       "<style scoped>\n",
       "    .dataframe tbody tr th:only-of-type {\n",
       "        vertical-align: middle;\n",
       "    }\n",
       "\n",
       "    .dataframe tbody tr th {\n",
       "        vertical-align: top;\n",
       "    }\n",
       "\n",
       "    .dataframe thead th {\n",
       "        text-align: right;\n",
       "    }\n",
       "</style>\n",
       "<table border=\"1\" class=\"dataframe\">\n",
       "  <thead>\n",
       "    <tr style=\"text-align: right;\">\n",
       "      <th></th>\n",
       "      <th>A</th>\n",
       "      <th>B</th>\n",
       "      <th>C</th>\n",
       "      <th>D</th>\n",
       "    </tr>\n",
       "  </thead>\n",
       "  <tbody>\n",
       "    <tr>\n",
       "      <th>2024-09-08</th>\n",
       "      <td>1.505415</td>\n",
       "      <td>-0.022909</td>\n",
       "      <td>-0.742329</td>\n",
       "      <td>-1.311255</td>\n",
       "    </tr>\n",
       "    <tr>\n",
       "      <th>2024-09-10</th>\n",
       "      <td>0.225347</td>\n",
       "      <td>-0.253458</td>\n",
       "      <td>0.825109</td>\n",
       "      <td>-0.985684</td>\n",
       "    </tr>\n",
       "    <tr>\n",
       "      <th>2024-09-09</th>\n",
       "      <td>-0.586951</td>\n",
       "      <td>0.505458</td>\n",
       "      <td>1.138677</td>\n",
       "      <td>-0.718201</td>\n",
       "    </tr>\n",
       "    <tr>\n",
       "      <th>2024-09-07</th>\n",
       "      <td>0.242253</td>\n",
       "      <td>-0.307345</td>\n",
       "      <td>1.486004</td>\n",
       "      <td>-0.584846</td>\n",
       "    </tr>\n",
       "    <tr>\n",
       "      <th>2024-09-12</th>\n",
       "      <td>-0.347888</td>\n",
       "      <td>-0.166753</td>\n",
       "      <td>0.064856</td>\n",
       "      <td>0.142888</td>\n",
       "    </tr>\n",
       "    <tr>\n",
       "      <th>2024-09-11</th>\n",
       "      <td>0.019186</td>\n",
       "      <td>2.148731</td>\n",
       "      <td>0.034548</td>\n",
       "      <td>0.287359</td>\n",
       "    </tr>\n",
       "  </tbody>\n",
       "</table>\n",
       "</div>"
      ],
      "text/plain": [
       "                   A         B         C         D\n",
       "2024-09-08  1.505415 -0.022909 -0.742329 -1.311255\n",
       "2024-09-10  0.225347 -0.253458  0.825109 -0.985684\n",
       "2024-09-09 -0.586951  0.505458  1.138677 -0.718201\n",
       "2024-09-07  0.242253 -0.307345  1.486004 -0.584846\n",
       "2024-09-12 -0.347888 -0.166753  0.064856  0.142888\n",
       "2024-09-11  0.019186  2.148731  0.034548  0.287359"
      ]
     },
     "execution_count": 48,
     "metadata": {},
     "output_type": "execute_result"
    }
   ],
   "source": [
    "df.sort_values(by=\"D\")"
   ]
  },
  {
   "cell_type": "code",
   "execution_count": 49,
   "id": "17c28e32-e383-4050-9bba-8193695730b8",
   "metadata": {},
   "outputs": [
    {
     "data": {
      "text/plain": [
       "2024-09-07    0.242253\n",
       "2024-09-08    1.505415\n",
       "2024-09-09   -0.586951\n",
       "2024-09-10    0.225347\n",
       "2024-09-11    0.019186\n",
       "2024-09-12   -0.347888\n",
       "Freq: D, Name: A, dtype: float64"
      ]
     },
     "execution_count": 49,
     "metadata": {},
     "output_type": "execute_result"
    }
   ],
   "source": [
    "df[\"A\"]"
   ]
  },
  {
   "cell_type": "code",
   "execution_count": 50,
   "id": "0b9540a7-b07b-4432-9609-c9ac9bdbe1db",
   "metadata": {},
   "outputs": [
    {
     "data": {
      "text/html": [
       "<div>\n",
       "<style scoped>\n",
       "    .dataframe tbody tr th:only-of-type {\n",
       "        vertical-align: middle;\n",
       "    }\n",
       "\n",
       "    .dataframe tbody tr th {\n",
       "        vertical-align: top;\n",
       "    }\n",
       "\n",
       "    .dataframe thead th {\n",
       "        text-align: right;\n",
       "    }\n",
       "</style>\n",
       "<table border=\"1\" class=\"dataframe\">\n",
       "  <thead>\n",
       "    <tr style=\"text-align: right;\">\n",
       "      <th></th>\n",
       "      <th>A</th>\n",
       "      <th>B</th>\n",
       "      <th>C</th>\n",
       "      <th>D</th>\n",
       "    </tr>\n",
       "  </thead>\n",
       "  <tbody>\n",
       "    <tr>\n",
       "      <th>2024-09-07</th>\n",
       "      <td>0.242253</td>\n",
       "      <td>-0.307345</td>\n",
       "      <td>1.486004</td>\n",
       "      <td>-0.584846</td>\n",
       "    </tr>\n",
       "    <tr>\n",
       "      <th>2024-09-08</th>\n",
       "      <td>1.505415</td>\n",
       "      <td>-0.022909</td>\n",
       "      <td>-0.742329</td>\n",
       "      <td>-1.311255</td>\n",
       "    </tr>\n",
       "  </tbody>\n",
       "</table>\n",
       "</div>"
      ],
      "text/plain": [
       "                   A         B         C         D\n",
       "2024-09-07  0.242253 -0.307345  1.486004 -0.584846\n",
       "2024-09-08  1.505415 -0.022909 -0.742329 -1.311255"
      ]
     },
     "execution_count": 50,
     "metadata": {},
     "output_type": "execute_result"
    }
   ],
   "source": [
    "df[0:2]"
   ]
  },
  {
   "cell_type": "code",
   "execution_count": 51,
   "id": "f0349f28-b50c-4818-a63c-664dc24ebd52",
   "metadata": {},
   "outputs": [
    {
     "data": {
      "text/plain": [
       "A    0.242253\n",
       "B   -0.307345\n",
       "C    1.486004\n",
       "D   -0.584846\n",
       "Name: 2024-09-07 00:00:00, dtype: float64"
      ]
     },
     "execution_count": 51,
     "metadata": {},
     "output_type": "execute_result"
    }
   ],
   "source": [
    "df.loc[dates[0]]"
   ]
  },
  {
   "cell_type": "code",
   "execution_count": 53,
   "id": "da68a7a7-74ba-4f47-bd51-a26b9191ff05",
   "metadata": {},
   "outputs": [
    {
     "data": {
      "text/html": [
       "<div>\n",
       "<style scoped>\n",
       "    .dataframe tbody tr th:only-of-type {\n",
       "        vertical-align: middle;\n",
       "    }\n",
       "\n",
       "    .dataframe tbody tr th {\n",
       "        vertical-align: top;\n",
       "    }\n",
       "\n",
       "    .dataframe thead th {\n",
       "        text-align: right;\n",
       "    }\n",
       "</style>\n",
       "<table border=\"1\" class=\"dataframe\">\n",
       "  <thead>\n",
       "    <tr style=\"text-align: right;\">\n",
       "      <th></th>\n",
       "      <th>A</th>\n",
       "      <th>B</th>\n",
       "    </tr>\n",
       "  </thead>\n",
       "  <tbody>\n",
       "    <tr>\n",
       "      <th>2024-09-07</th>\n",
       "      <td>0.242253</td>\n",
       "      <td>-0.307345</td>\n",
       "    </tr>\n",
       "    <tr>\n",
       "      <th>2024-09-08</th>\n",
       "      <td>1.505415</td>\n",
       "      <td>-0.022909</td>\n",
       "    </tr>\n",
       "    <tr>\n",
       "      <th>2024-09-09</th>\n",
       "      <td>-0.586951</td>\n",
       "      <td>0.505458</td>\n",
       "    </tr>\n",
       "    <tr>\n",
       "      <th>2024-09-10</th>\n",
       "      <td>0.225347</td>\n",
       "      <td>-0.253458</td>\n",
       "    </tr>\n",
       "    <tr>\n",
       "      <th>2024-09-11</th>\n",
       "      <td>0.019186</td>\n",
       "      <td>2.148731</td>\n",
       "    </tr>\n",
       "    <tr>\n",
       "      <th>2024-09-12</th>\n",
       "      <td>-0.347888</td>\n",
       "      <td>-0.166753</td>\n",
       "    </tr>\n",
       "  </tbody>\n",
       "</table>\n",
       "</div>"
      ],
      "text/plain": [
       "                   A         B\n",
       "2024-09-07  0.242253 -0.307345\n",
       "2024-09-08  1.505415 -0.022909\n",
       "2024-09-09 -0.586951  0.505458\n",
       "2024-09-10  0.225347 -0.253458\n",
       "2024-09-11  0.019186  2.148731\n",
       "2024-09-12 -0.347888 -0.166753"
      ]
     },
     "execution_count": 53,
     "metadata": {},
     "output_type": "execute_result"
    }
   ],
   "source": [
    "df.loc[:, [\"A\", \"B\"]]"
   ]
  }
 ],
 "metadata": {
  "kernelspec": {
   "display_name": "Python 3 (ipykernel)",
   "language": "python",
   "name": "python3"
  },
  "language_info": {
   "codemirror_mode": {
    "name": "ipython",
    "version": 3
   },
   "file_extension": ".py",
   "mimetype": "text/x-python",
   "name": "python",
   "nbconvert_exporter": "python",
   "pygments_lexer": "ipython3",
   "version": "3.11.7"
  }
 },
 "nbformat": 4,
 "nbformat_minor": 5
}
