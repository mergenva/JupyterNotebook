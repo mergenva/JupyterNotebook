{
 "cells": [
  {
   "cell_type": "code",
   "execution_count": 12,
   "id": "64413f2d-7733-48a9-ae6e-7a6e9a0aa3b0",
   "metadata": {},
   "outputs": [],
   "source": [
    "import numpy as np\n",
    "import pandas as pd"
   ]
  },
  {
   "cell_type": "code",
   "execution_count": 24,
   "id": "0cb8ffeb-cd71-47f5-aa8e-772cdff77cb8",
   "metadata": {},
   "outputs": [],
   "source": [
    "df = pd.read_excel(\"APCall.xlsx\", sheet_name=\"Sheet\")"
   ]
  },
  {
   "cell_type": "code",
   "execution_count": 25,
   "id": "ec0e7ac4-e1eb-499f-b0d8-d8a829cd4a1b",
   "metadata": {},
   "outputs": [
    {
     "data": {
      "text/html": [
       "<div>\n",
       "<style scoped>\n",
       "    .dataframe tbody tr th:only-of-type {\n",
       "        vertical-align: middle;\n",
       "    }\n",
       "\n",
       "    .dataframe tbody tr th {\n",
       "        vertical-align: top;\n",
       "    }\n",
       "\n",
       "    .dataframe thead th {\n",
       "        text-align: right;\n",
       "    }\n",
       "</style>\n",
       "<table border=\"1\" class=\"dataframe\">\n",
       "  <thead>\n",
       "    <tr style=\"text-align: right;\">\n",
       "      <th></th>\n",
       "      <th>Объект</th>\n",
       "      <th>Оборудование</th>\n",
       "      <th>Транслитерация обрудования</th>\n",
       "      <th>IP адрес оборудования</th>\n",
       "      <th>Найденный результат</th>\n",
       "    </tr>\n",
       "  </thead>\n",
       "  <tbody>\n",
       "    <tr>\n",
       "      <th>0</th>\n",
       "      <td>МО, г. Балашиха, Энтузиастов шоссе, д. 2</td>\n",
       "      <td>APC Smart-UPS 2200</td>\n",
       "      <td>TEL-ENTUZIASTOV2BAKM-UPS/01</td>\n",
       "      <td>10.192.71.75</td>\n",
       "      <td>APC Smart-UPS 2200</td>\n",
       "    </tr>\n",
       "    <tr>\n",
       "      <th>1</th>\n",
       "      <td>МО, г. Балашиха, Энтузиастов шоссе, д. 2</td>\n",
       "      <td>APC AP9617</td>\n",
       "      <td>TEL-ENTUZIASTOV2BAKM-UPS/01-AP9617/01</td>\n",
       "      <td>NaN</td>\n",
       "      <td>APC AP9617</td>\n",
       "    </tr>\n",
       "    <tr>\n",
       "      <th>2</th>\n",
       "      <td>МО, г. Балашиха, Энтузиастов шоссе, д. 4</td>\n",
       "      <td>APC Smart-UPS 750 (SUA750I)</td>\n",
       "      <td>TEL-ENTUZIASTOV4ASTPRESS-UPS/01</td>\n",
       "      <td>10.192.71.76</td>\n",
       "      <td>APC Smart-UPS 750 (SUA750I)</td>\n",
       "    </tr>\n",
       "    <tr>\n",
       "      <th>3</th>\n",
       "      <td>МО, г. Балашиха, Энтузиастов шоссе, д. 4</td>\n",
       "      <td>APC AP9617</td>\n",
       "      <td>TEL-ENTUZIASTOV4ASTPRESS-UPS/01-AP9617</td>\n",
       "      <td>NaN</td>\n",
       "      <td>APC AP9617</td>\n",
       "    </tr>\n",
       "    <tr>\n",
       "      <th>4</th>\n",
       "      <td>МО, г. Балашиха, Энтузиастов шоссе, д. 4</td>\n",
       "      <td>APC Smart-UPS 750 (SUA750I)</td>\n",
       "      <td>TEL-ENTUZIASTOV4BLMZ78AK-UPS/01</td>\n",
       "      <td>10.192.3.29</td>\n",
       "      <td>APC Smart-UPS 750 (SUA750I)</td>\n",
       "    </tr>\n",
       "    <tr>\n",
       "      <th>...</th>\n",
       "      <td>...</td>\n",
       "      <td>...</td>\n",
       "      <td>...</td>\n",
       "      <td>...</td>\n",
       "      <td>...</td>\n",
       "    </tr>\n",
       "    <tr>\n",
       "      <th>884</th>\n",
       "      <td>Москва, Ярцевская улица, д. 27, корп. 1</td>\n",
       "      <td>APC Smart-UPS 750 (SUA750I)</td>\n",
       "      <td>TEL-YARTSEVSKAYA27K1POD1UP-UPS/EFIRKA</td>\n",
       "      <td>NaN</td>\n",
       "      <td>APC Smart-UPS 750 (SUA750I)</td>\n",
       "    </tr>\n",
       "    <tr>\n",
       "      <th>885</th>\n",
       "      <td>Москва, Ярцевская улица, д. 27, корп. 1</td>\n",
       "      <td>APC Smart-UPS VT 10kVa</td>\n",
       "      <td>TEL-YARTSEVSKAYA27K1POD2UZEL-UPS/01</td>\n",
       "      <td>10.192.35.185</td>\n",
       "      <td>APC Smart-UPS VT 10kVa</td>\n",
       "    </tr>\n",
       "    <tr>\n",
       "      <th>886</th>\n",
       "      <td>Москва, Ярцевская улица, д. 27, корп. 1</td>\n",
       "      <td>APC AP9630</td>\n",
       "      <td>TEL-YARTSEVSKAYA27K1POD2UZEL-UPS/01-AP9630</td>\n",
       "      <td>NaN</td>\n",
       "      <td>APC AP9630</td>\n",
       "    </tr>\n",
       "    <tr>\n",
       "      <th>887</th>\n",
       "      <td>Москва, Ярцевская улица, д. 32</td>\n",
       "      <td>APC Smart-UPS 750 (SUA750I)</td>\n",
       "      <td>TEL-YARTSEVSKAYA32POD3-UPS/01</td>\n",
       "      <td>NaN</td>\n",
       "      <td>APC Smart-UPS 750 (SUA750I)</td>\n",
       "    </tr>\n",
       "    <tr>\n",
       "      <th>888</th>\n",
       "      <td>888 шт.</td>\n",
       "      <td>NaN</td>\n",
       "      <td>NaN</td>\n",
       "      <td>NaN</td>\n",
       "      <td>NaN</td>\n",
       "    </tr>\n",
       "  </tbody>\n",
       "</table>\n",
       "<p>889 rows × 5 columns</p>\n",
       "</div>"
      ],
      "text/plain": [
       "                                       Объект                 Оборудование  \\\n",
       "0    МО, г. Балашиха, Энтузиастов шоссе, д. 2           APC Smart-UPS 2200   \n",
       "1    МО, г. Балашиха, Энтузиастов шоссе, д. 2                   APC AP9617   \n",
       "2    МО, г. Балашиха, Энтузиастов шоссе, д. 4  APC Smart-UPS 750 (SUA750I)   \n",
       "3    МО, г. Балашиха, Энтузиастов шоссе, д. 4                   APC AP9617   \n",
       "4    МО, г. Балашиха, Энтузиастов шоссе, д. 4  APC Smart-UPS 750 (SUA750I)   \n",
       "..                                        ...                          ...   \n",
       "884   Москва, Ярцевская улица, д. 27, корп. 1  APC Smart-UPS 750 (SUA750I)   \n",
       "885   Москва, Ярцевская улица, д. 27, корп. 1       APC Smart-UPS VT 10kVa   \n",
       "886   Москва, Ярцевская улица, д. 27, корп. 1                   APC AP9630   \n",
       "887            Москва, Ярцевская улица, д. 32  APC Smart-UPS 750 (SUA750I)   \n",
       "888                                   888 шт.                          NaN   \n",
       "\n",
       "                     Транслитерация обрудования IP адрес оборудования  \\\n",
       "0                   TEL-ENTUZIASTOV2BAKM-UPS/01          10.192.71.75   \n",
       "1         TEL-ENTUZIASTOV2BAKM-UPS/01-AP9617/01                   NaN   \n",
       "2               TEL-ENTUZIASTOV4ASTPRESS-UPS/01          10.192.71.76   \n",
       "3        TEL-ENTUZIASTOV4ASTPRESS-UPS/01-AP9617                   NaN   \n",
       "4               TEL-ENTUZIASTOV4BLMZ78AK-UPS/01           10.192.3.29   \n",
       "..                                          ...                   ...   \n",
       "884       TEL-YARTSEVSKAYA27K1POD1UP-UPS/EFIRKA                   NaN   \n",
       "885         TEL-YARTSEVSKAYA27K1POD2UZEL-UPS/01         10.192.35.185   \n",
       "886  TEL-YARTSEVSKAYA27K1POD2UZEL-UPS/01-AP9630                   NaN   \n",
       "887               TEL-YARTSEVSKAYA32POD3-UPS/01                   NaN   \n",
       "888                                         NaN                   NaN   \n",
       "\n",
       "             Найденный результат  \n",
       "0             APC Smart-UPS 2200  \n",
       "1                     APC AP9617  \n",
       "2    APC Smart-UPS 750 (SUA750I)  \n",
       "3                     APC AP9617  \n",
       "4    APC Smart-UPS 750 (SUA750I)  \n",
       "..                           ...  \n",
       "884  APC Smart-UPS 750 (SUA750I)  \n",
       "885       APC Smart-UPS VT 10kVa  \n",
       "886                   APC AP9630  \n",
       "887  APC Smart-UPS 750 (SUA750I)  \n",
       "888                          NaN  \n",
       "\n",
       "[889 rows x 5 columns]"
      ]
     },
     "execution_count": 25,
     "metadata": {},
     "output_type": "execute_result"
    }
   ],
   "source": [
    "df"
   ]
  },
  {
   "cell_type": "code",
   "execution_count": 28,
   "id": "59b1b566-5ca7-4c84-a5d8-2c2418ed9588",
   "metadata": {},
   "outputs": [
    {
     "data": {
      "text/plain": [
       "889"
      ]
     },
     "execution_count": 28,
     "metadata": {},
     "output_type": "execute_result"
    }
   ],
   "source": [
    "len(df)"
   ]
  },
  {
   "cell_type": "code",
   "execution_count": 29,
   "id": "9c093194-f16d-4896-8ee2-7627de21e742",
   "metadata": {},
   "outputs": [
    {
     "name": "stdout",
     "output_type": "stream",
     "text": [
      "<class 'pandas.core.frame.DataFrame'>\n",
      "RangeIndex: 889 entries, 0 to 888\n",
      "Data columns (total 5 columns):\n",
      " #   Column                      Non-Null Count  Dtype \n",
      "---  ------                      --------------  ----- \n",
      " 0   Объект                      889 non-null    object\n",
      " 1   Оборудование                888 non-null    object\n",
      " 2   Транслитерация обрудования  888 non-null    object\n",
      " 3   IP адрес оборудования       282 non-null    object\n",
      " 4   Найденный результат         888 non-null    object\n",
      "dtypes: object(5)\n",
      "memory usage: 34.9+ KB\n"
     ]
    }
   ],
   "source": [
    "df.info()"
   ]
  },
  {
   "cell_type": "code",
   "execution_count": 43,
   "id": "1db85525-7193-4a85-b599-720a1f493936",
   "metadata": {},
   "outputs": [],
   "source": [
    "df = df.dropna(subset=['IP адрес оборудования']) # убрать в столбце все строки с None\n",
    "df.to_excel('newAPCall.xlsx', sheet_name=\"Sheet\")"
   ]
  }
 ],
 "metadata": {
  "kernelspec": {
   "display_name": "Python 3 (ipykernel)",
   "language": "python",
   "name": "python3"
  },
  "language_info": {
   "codemirror_mode": {
    "name": "ipython",
    "version": 3
   },
   "file_extension": ".py",
   "mimetype": "text/x-python",
   "name": "python",
   "nbconvert_exporter": "python",
   "pygments_lexer": "ipython3",
   "version": "3.11.7"
  }
 },
 "nbformat": 4,
 "nbformat_minor": 5
}
