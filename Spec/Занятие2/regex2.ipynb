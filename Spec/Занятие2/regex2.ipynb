{
 "cells": [
  {
   "cell_type": "markdown",
   "id": "59aade38-0ef3-4044-9095-7e7dfd8b2491",
   "metadata": {},
   "source": [
    "Задача 2\n",
    "Составить регулярные выражения для:\n",
    "\n",
    "а) Номера банковской карты\n",
    "1234 5678 5467 2134\n",
    "3435 6767 8955 2334\n",
    "3435 6767 7898 3455\n",
    "1231234325456456\n",
    "3464-6575-6757-2342\n",
    "\\d{4}[ \\-]?\n",
    "\n",
    "б) электронной почты\n",
    "\n",
    "* user@gmail.com\n",
    "* user_name2344@econ.msu.ru\n",
    "* mergenva@yandex.ru\n",
    "* mergenva@specialist.academy\n",
    "[a-zA-Z0-9._%+-]+@[a-zA-Z0-9.-]+\\.[a-zA-Z]{2,}\n",
    "\n",
    "но при этом не должно определяться\n",
    "@specialist\n",
    "admin@localhost\n",
    "www.specialist.ru\n",
    "\n",
    "в) URL (разберем вместе)\n",
    "  \n"
   ]
  }
 ],
 "metadata": {
  "kernelspec": {
   "display_name": "Python 3 (ipykernel)",
   "language": "python",
   "name": "python3"
  },
  "language_info": {
   "codemirror_mode": {
    "name": "ipython",
    "version": 3
   },
   "file_extension": ".py",
   "mimetype": "text/x-python",
   "name": "python",
   "nbconvert_exporter": "python",
   "pygments_lexer": "ipython3",
   "version": "3.11.7"
  }
 },
 "nbformat": 4,
 "nbformat_minor": 5
}
