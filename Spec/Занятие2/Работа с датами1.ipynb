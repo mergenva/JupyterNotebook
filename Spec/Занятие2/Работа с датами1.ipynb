{
 "cells": [
  {
   "cell_type": "code",
   "execution_count": 1,
   "id": "096a1f33-a7ee-4264-9ab6-57b1c9abd148",
   "metadata": {},
   "outputs": [],
   "source": [
    "import datetime"
   ]
  },
  {
   "cell_type": "code",
   "execution_count": 5,
   "id": "85814c2e-b7ff-4568-b84f-a3e0275c67df",
   "metadata": {},
   "outputs": [
    {
     "name": "stdout",
     "output_type": "stream",
     "text": [
      "2024-07-31 2024-08-31\n"
     ]
    }
   ],
   "source": [
    "d1 = datetime.date.today()\n",
    "d2 = datetime.date(2024,8, 31) # 31 июля\n",
    "print(d1, d2)"
   ]
  },
  {
   "cell_type": "code",
   "execution_count": 8,
   "id": "ac7c3a2d-7f8b-49e4-9f5b-a1f1d808124e",
   "metadata": {},
   "outputs": [
    {
     "data": {
      "text/plain": [
       "datetime.datetime(2024, 7, 31, 8, 4, 19, 30985)"
      ]
     },
     "execution_count": 8,
     "metadata": {},
     "output_type": "execute_result"
    }
   ],
   "source": [
    "t1 = datetime.datetime.now()\n",
    "t1"
   ]
  },
  {
   "cell_type": "code",
   "execution_count": 6,
   "id": "cdcf54d8-ed2e-4aa6-91de-4a6423ba4e1c",
   "metadata": {},
   "outputs": [
    {
     "name": "stdout",
     "output_type": "stream",
     "text": [
      "True\n",
      "0:00:00\n",
      "2024-08-15\n"
     ]
    }
   ],
   "source": [
    "print(d1 < d2)\n",
    "print(d2 - d2)\n",
    "print(d1 + datetime.timedelta(days=15))"
   ]
  },
  {
   "cell_type": "code",
   "execution_count": 7,
   "id": "1e08082d-ff93-497b-9063-47d4c5ed536e",
   "metadata": {},
   "outputs": [
    {
     "name": "stdout",
     "output_type": "stream",
     "text": [
      "2024-07-31\n",
      "07.31.2024\n",
      "31/07/24\n"
     ]
    }
   ],
   "source": [
    "print(d1)\n",
    "print(d1.strftime(\"%m.%d.%Y\"))\n",
    "print(d1.strftime(\"%d/%m/%y\"))"
   ]
  }
 ],
 "metadata": {
  "kernelspec": {
   "display_name": "Python 3 (ipykernel)",
   "language": "python",
   "name": "python3"
  },
  "language_info": {
   "codemirror_mode": {
    "name": "ipython",
    "version": 3
   },
   "file_extension": ".py",
   "mimetype": "text/x-python",
   "name": "python",
   "nbconvert_exporter": "python",
   "pygments_lexer": "ipython3",
   "version": "3.10.12"
  }
 },
 "nbformat": 4,
 "nbformat_minor": 5
}
