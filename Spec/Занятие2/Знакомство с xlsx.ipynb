{
 "cells": [
  {
   "cell_type": "code",
   "execution_count": 8,
   "id": "157fd06e-c81f-4986-bd8c-781ad8f8d7f6",
   "metadata": {},
   "outputs": [],
   "source": [
    "import openpyxl\n",
    "import datetime"
   ]
  },
  {
   "cell_type": "code",
   "execution_count": 24,
   "id": "65a7a8c6-ff8c-4216-a4b6-b560faf4b84e",
   "metadata": {},
   "outputs": [],
   "source": [
    "wb = openpyxl.Workbook()\n",
    "ws = wb.active\n",
    "\n",
    "ws['D5'] = 'Привет'\n",
    "ws['D6'] = 123\n",
    "ws['D7'] = 456.123\n",
    "ws['D8'] = 300 + 100\n",
    "ws['D9'] = '=D7+$D$8'\n",
    "ws['D10'] = '=SUM(D7:D9)'\n",
    "\n",
    "ws['D11'] = '2024-07-31' # это просто строка\n",
    "ws['E11'] = datetime.datetime.now()\n",
    "ws['F11'] = datetime.date(2024, 7, 30)\n",
    "\n",
    "for i in range(1, 5):\n",
    "    for j in range(1, 10):\n",
    "        ws.cell(i, j).value = 2 * i\n",
    "\n",
    "wb.save('Книга1.xlsx')"
   ]
  }
 ],
 "metadata": {
  "kernelspec": {
   "display_name": "Python 3 (ipykernel)",
   "language": "python",
   "name": "python3"
  },
  "language_info": {
   "codemirror_mode": {
    "name": "ipython",
    "version": 3
   },
   "file_extension": ".py",
   "mimetype": "text/x-python",
   "name": "python",
   "nbconvert_exporter": "python",
   "pygments_lexer": "ipython3",
   "version": "3.10.12"
  }
 },
 "nbformat": 4,
 "nbformat_minor": 5
}
