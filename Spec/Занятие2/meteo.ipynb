{
 "cells": [
  {
   "cell_type": "code",
   "execution_count": 35,
   "id": "55aec65c-754b-426d-8cf3-2db7894683a7",
   "metadata": {},
   "outputs": [],
   "source": [
    "import openpyxl\n",
    "import math\n",
    "from openpyxl.styles import Font, Alignment\n",
    "\n",
    "f = open(\"Метеостанции.txt\")\n",
    "rows = []\n",
    "for line in f:\n",
    "    latitude = float(line[11:20])\n",
    "    longitude = float(line[21:30])\n",
    "    altitude = float(line[31:38])\n",
    "    name = line[41:72].rstrip()\n",
    "\n",
    "    if altitude == -999.9:\n",
    "        altitude = math.nan\n",
    "\n",
    "    if altitude < 0:\n",
    "        rows.append((latitude, longitude, altitude, name))\n",
    "\n",
    "#print(rows)\n",
    "\n",
    "wb = openpyxl.Workbook()\n",
    "ws = wb.active\n",
    "\n",
    "ws.column_dimensions['D'].width = 40 # это управление шириной колонки\n",
    "\n",
    "ws['A1'] = 'Широта'\n",
    "ws['B1'] = 'Долгота'\n",
    "ws['C1'] = 'Высота над уровнем моря'\n",
    "ws['D1'] = 'Название'\n",
    "\n",
    "title_font = Font(color='000088', bold=True)\n",
    "title_alignment = Alignment(horizontal='center', vertical='center')\n",
    "for col_n in range(1, 5):\n",
    "    ws.cell(1, col_n).font = title_font\n",
    "    ws.cell(1, col_n).alignment = title_alignment\n",
    "\n",
    "# rows_n = 2\n",
    "# for latitude, longitude, altitude, name in rows:\n",
    "#     ws.cell(rows_n, 1).value = latitude\n",
    "#     ws.cell(rows_n, 2).value = longitude\n",
    "#     ws.cell(rows_n, 3).value = altitude\n",
    "#     ws.cell(rows_n, 4).value = name\n",
    "#     rows_n += 1\n",
    "\n",
    "for row_n, row in enumerate(rows, start=2):\n",
    "    latitude, longitude, altitude, name = row\n",
    "    ws.cell(row_n, 1).value = latitude\n",
    "    ws.cell(row_n, 2).value = longitude\n",
    "    ws.cell(row_n, 3).value = altitude\n",
    "    ws.cell(row_n, 4).value = name\n",
    "    \n",
    "\n",
    "wb.save('meteostan.xlsx')\n"
   ]
  }
 ],
 "metadata": {
  "kernelspec": {
   "display_name": "Python 3 (ipykernel)",
   "language": "python",
   "name": "python3"
  },
  "language_info": {
   "codemirror_mode": {
    "name": "ipython",
    "version": 3
   },
   "file_extension": ".py",
   "mimetype": "text/x-python",
   "name": "python",
   "nbconvert_exporter": "python",
   "pygments_lexer": "ipython3",
   "version": "3.11.7"
  }
 },
 "nbformat": 4,
 "nbformat_minor": 5
}
