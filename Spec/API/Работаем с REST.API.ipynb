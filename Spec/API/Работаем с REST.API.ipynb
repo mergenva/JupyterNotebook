{
 "cells": [
  {
   "cell_type": "code",
   "execution_count": 1,
   "id": "01f587d5-5bf5-4448-9ca1-0c8430329ab5",
   "metadata": {},
   "outputs": [],
   "source": [
    "import requests"
   ]
  },
  {
   "cell_type": "code",
   "execution_count": 2,
   "id": "5f48f951-8960-4d8d-a5e1-174d339aa050",
   "metadata": {},
   "outputs": [
    {
     "data": {
      "text/plain": [
       "<Response [200]>"
      ]
     },
     "execution_count": 2,
     "metadata": {},
     "output_type": "execute_result"
    }
   ],
   "source": [
    "response = requests.get('https://cbr.ru/scripts/XML_dynamic.asp?date_req1=02/03/2001&date_req2=14/03/2001&VAL_NM_RQ=R01235')\n",
    "response"
   ]
  },
  {
   "cell_type": "code",
   "execution_count": 3,
   "id": "54bbf86c-14f0-4096-9374-3db475c67696",
   "metadata": {},
   "outputs": [
    {
     "data": {
      "text/plain": [
       "200"
      ]
     },
     "execution_count": 3,
     "metadata": {},
     "output_type": "execute_result"
    }
   ],
   "source": [
    "response.status_code"
   ]
  },
  {
   "cell_type": "code",
   "execution_count": 4,
   "id": "72b7d3b6-333f-40f9-b5f1-f68b9d214eb9",
   "metadata": {
    "scrolled": true
   },
   "outputs": [
    {
     "data": {
      "text/plain": [
       "'<?xml version=\"1.0\" encoding=\"windows-1251\"?><ValCurs ID=\"R01235\" DateRange1=\"02.03.2001\" DateRange2=\"14.03.2001\" name=\"Foreign Currency Market Dynamic\"><Record Date=\"02.03.2001\" Id=\"R01235\"><Nominal>1</Nominal><Value>28,6200</Value><VunitRate>28,62</VunitRate></Record><Record Date=\"03.03.2001\" Id=\"R01235\"><Nominal>1</Nominal><Value>28,6500</Value><VunitRate>28,65</VunitRate></Record><Record Date=\"06.03.2001\" Id=\"R01235\"><Nominal>1</Nominal><Value>28,6600</Value><VunitRate>28,66</VunitRate></Record><Record Date=\"07.03.2001\" Id=\"R01235\"><Nominal>1</Nominal><Value>28,6300</Value><VunitRate>28,63</VunitRate></Record><Record Date=\"08.03.2001\" Id=\"R01235\"><Nominal>1</Nominal><Value>28,6200</Value><VunitRate>28,62</VunitRate></Record><Record Date=\"12.03.2001\" Id=\"R01235\"><Nominal>1</Nominal><Value>28,6200</Value><VunitRate>28,62</VunitRate></Record><Record Date=\"13.03.2001\" Id=\"R01235\"><Nominal>1</Nominal><Value>28,6700</Value><VunitRate>28,67</VunitRate></Record><Record Date=\"14.03.2001\" Id=\"R01235\"><Nominal>1</Nominal><Value>28,6500</Value><VunitRate>28,65</VunitRate></Record></ValCurs>'"
      ]
     },
     "execution_count": 4,
     "metadata": {},
     "output_type": "execute_result"
    }
   ],
   "source": [
    "response.text"
   ]
  },
  {
   "cell_type": "code",
   "execution_count": 5,
   "id": "b4d32d26-7087-4177-8cc9-b05e2f456fd7",
   "metadata": {},
   "outputs": [
    {
     "data": {
      "text/plain": [
       "b'<?xml version=\"1.0\" encoding=\"windows-1251\"?><ValCurs ID=\"R01235\" DateRange1=\"02.03.2001\" DateRange2=\"14.03.2001\" name=\"Foreign Currency Market Dynamic\"><Record Date=\"02.03.2001\" Id=\"R01235\"><Nominal>1</Nominal><Value>28,6200</Value><VunitRate>28,62</VunitRate></Record><Record Date=\"03.03.2001\" Id=\"R01235\"><Nominal>1</Nominal><Value>28,6500</Value><VunitRate>28,65</VunitRate></Record><Record Date=\"06.03.2001\" Id=\"R01235\"><Nominal>1</Nominal><Value>28,6600</Value><VunitRate>28,66</VunitRate></Record><Record Date=\"07.03.2001\" Id=\"R01235\"><Nominal>1</Nominal><Value>28,6300</Value><VunitRate>28,63</VunitRate></Record><Record Date=\"08.03.2001\" Id=\"R01235\"><Nominal>1</Nominal><Value>28,6200</Value><VunitRate>28,62</VunitRate></Record><Record Date=\"12.03.2001\" Id=\"R01235\"><Nominal>1</Nominal><Value>28,6200</Value><VunitRate>28,62</VunitRate></Record><Record Date=\"13.03.2001\" Id=\"R01235\"><Nominal>1</Nominal><Value>28,6700</Value><VunitRate>28,67</VunitRate></Record><Record Date=\"14.03.2001\" Id=\"R01235\"><Nominal>1</Nominal><Value>28,6500</Value><VunitRate>28,65</VunitRate></Record></ValCurs>'"
      ]
     },
     "execution_count": 5,
     "metadata": {},
     "output_type": "execute_result"
    }
   ],
   "source": [
    "response.content # Если получаем не текст, либо если проблеммы с кодировкой, можно получить байты"
   ]
  },
  {
   "cell_type": "code",
   "execution_count": 6,
   "id": "bdaa926e-9a34-47b4-9064-f08fd72fe964",
   "metadata": {},
   "outputs": [
    {
     "data": {
      "text/plain": [
       "bytes"
      ]
     },
     "execution_count": 6,
     "metadata": {},
     "output_type": "execute_result"
    }
   ],
   "source": [
    "type(response.content)"
   ]
  },
  {
   "cell_type": "code",
   "execution_count": 7,
   "id": "dfadc026-806d-497b-93d5-eb2c32e67f37",
   "metadata": {},
   "outputs": [
    {
     "data": {
      "text/plain": [
       "61"
      ]
     },
     "execution_count": 7,
     "metadata": {},
     "output_type": "execute_result"
    }
   ],
   "source": [
    "response.content[56]"
   ]
  }
 ],
 "metadata": {
  "kernelspec": {
   "display_name": "Python 3 (ipykernel)",
   "language": "python",
   "name": "python3"
  },
  "language_info": {
   "codemirror_mode": {
    "name": "ipython",
    "version": 3
   },
   "file_extension": ".py",
   "mimetype": "text/x-python",
   "name": "python",
   "nbconvert_exporter": "python",
   "pygments_lexer": "ipython3",
   "version": "3.11.7"
  }
 },
 "nbformat": 4,
 "nbformat_minor": 5
}
