{
 "cells": [
  {
   "cell_type": "code",
   "execution_count": 1,
   "id": "3d3b27da-1648-4737-82fa-8de446a4b776",
   "metadata": {},
   "outputs": [],
   "source": [
    "import datetime\n",
    "import locale"
   ]
  },
  {
   "cell_type": "code",
   "execution_count": 2,
   "id": "e2dc028a-f028-4d6f-9d4e-29246fc3fb74",
   "metadata": {},
   "outputs": [
    {
     "data": {
      "text/plain": [
       "datetime.date(2024, 9, 4)"
      ]
     },
     "execution_count": 2,
     "metadata": {},
     "output_type": "execute_result"
    }
   ],
   "source": [
    "d1 = datetime.date.today()\n",
    "d1"
   ]
  },
  {
   "cell_type": "code",
   "execution_count": 3,
   "id": "7ad4e335-9441-42ee-b063-ba42d0beda12",
   "metadata": {},
   "outputs": [
    {
     "data": {
      "text/plain": [
       "datetime.date(2024, 9, 11)"
      ]
     },
     "execution_count": 3,
     "metadata": {},
     "output_type": "execute_result"
    }
   ],
   "source": [
    "d2 = d1 + datetime.timedelta(days=7)\n",
    "d2"
   ]
  },
  {
   "cell_type": "markdown",
   "id": "e6a503a0-8a31-43d4-a7a4-bdc2d57aff5f",
   "metadata": {},
   "source": [
    "Макросы для формата дат: https://docs.python.org/3/library/datetime.html#strftime-strptime-behavior"
   ]
  },
  {
   "cell_type": "code",
   "execution_count": 5,
   "id": "8131fa5e-c0f3-48d6-a176-043e9de72a97",
   "metadata": {},
   "outputs": [
    {
     "name": "stdout",
     "output_type": "stream",
     "text": [
      "2024-09-11\n",
      "04/09/2024\n",
      "04.09.24\n",
      "Wednesday, 04 September 24\n",
      "Wed, 04 Sep 24\n",
      "Wed Sep  4 00:00:00 2024\n"
     ]
    }
   ],
   "source": [
    "print(str(d2))\n",
    "print(d1.strftime('%d/%m/%Y'))\n",
    "print(d1.strftime('%d.%m.%y'))\n",
    "print(d1.strftime('%A, %d %B %y'))\n",
    "print(d1.strftime('%a, %d %b %y'))\n",
    "print(d1.strftime('%c'))"
   ]
  },
  {
   "cell_type": "markdown",
   "id": "c44a1b0b-2ea9-4cc9-91d4-ee329344fe24",
   "metadata": {},
   "source": [
    "Если нужен русский язык, нужно поменять локаль в рамках программы"
   ]
  },
  {
   "cell_type": "code",
   "execution_count": 6,
   "id": "08db57a1-b0ed-42fd-ac60-b6819d260390",
   "metadata": {},
   "outputs": [
    {
     "name": "stdout",
     "output_type": "stream",
     "text": [
      "Среда, 04 сентября 24\n",
      "Ср, 04 сен 24\n",
      "Ср 04 сен 2024 00:00:00\n"
     ]
    }
   ],
   "source": [
    "# https://docs.python.org/3/library/locale.html#module-locale\n",
    "\n",
    "locale.setlocale(locale.LC_ALL, ('ru_RU', 'UTF-8'))\n",
    "print(d1.strftime('%A, %d %B %y'))\n",
    "print(d1.strftime('%a, %d %b %y'))\n",
    "print(d1.strftime('%c'))"
   ]
  },
  {
   "cell_type": "markdown",
   "id": "1bd5ea9b-6e35-46ba-92e7-a95030a6d547",
   "metadata": {},
   "source": [
    "Что, если хотим преобразовать строку в datetime?"
   ]
  },
  {
   "cell_type": "code",
   "execution_count": 21,
   "id": "a4899aff-4f4b-4c34-8372-553d82d59451",
   "metadata": {},
   "outputs": [],
   "source": [
    "date1 = '28.06.2023'\n",
    "date2 = '01.06.2023'\n",
    "date3 = '2023-06-28' # Это дата в формате ISO\n",
    "date4 = 'June 28, 2023'"
   ]
  },
  {
   "cell_type": "markdown",
   "id": "1f0cce2a-7eb9-4df8-8b0e-175ac241de4a",
   "metadata": {},
   "source": [
    "способ 1 - с помощью той библиотеки datetime"
   ]
  },
  {
   "cell_type": "code",
   "execution_count": 22,
   "id": "2d2d090b-4cc1-46bc-adf7-7206f2f8430f",
   "metadata": {},
   "outputs": [
    {
     "name": "stdout",
     "output_type": "stream",
     "text": [
      "Wednesday, 04 September 24\n",
      "Wed, 04 Sep 24\n",
      "Wed 04 Sep 2024 12:00:00 AM \n"
     ]
    }
   ],
   "source": [
    "locale.setlocale(locale.LC_ALL, ('en_US', 'UTF-8'))\n",
    "print(d1.strftime('%A, %d %B %y'))\n",
    "print(d1.strftime('%a, %d %b %y'))\n",
    "print(d1.strftime('%c'))"
   ]
  },
  {
   "cell_type": "code",
   "execution_count": 23,
   "id": "fe129933-3cb4-4c4b-a6e9-02339b890e06",
   "metadata": {},
   "outputs": [
    {
     "data": {
      "text/plain": [
       "datetime.datetime(2023, 6, 28, 0, 0)"
      ]
     },
     "execution_count": 23,
     "metadata": {},
     "output_type": "execute_result"
    }
   ],
   "source": [
    "date_dt = datetime.datetime.strptime(date1, '%d.%m.%Y')\n",
    "date_dt"
   ]
  },
  {
   "cell_type": "code",
   "execution_count": 24,
   "id": "4489e950-c0af-41f6-ac2e-9c6f659f8eb1",
   "metadata": {},
   "outputs": [
    {
     "data": {
      "text/plain": [
       "datetime.date(2023, 6, 28)"
      ]
     },
     "execution_count": 24,
     "metadata": {},
     "output_type": "execute_result"
    }
   ],
   "source": [
    "date_dt.date() # без миинут и секунд"
   ]
  },
  {
   "cell_type": "code",
   "execution_count": 26,
   "id": "28873761-cf35-4501-945c-eeb7f2dbdb1c",
   "metadata": {},
   "outputs": [
    {
     "name": "stdout",
     "output_type": "stream",
     "text": [
      "2023-06-01 00:00:00\n",
      "2023-06-28 00:00:00\n",
      "2023-06-28\n",
      "2023-06-28 00:00:00\n"
     ]
    }
   ],
   "source": [
    "print(datetime.datetime.strptime(date2, '%d.%m.%Y'))\n",
    "print(datetime.datetime.strptime(date3, '%Y-%m-%d'))\n",
    "print(datetime.date.fromisoformat(date3)) # только для гггг-мм-дд\n",
    "print(datetime.datetime.strptime(date4, '%B %d, %Y'))"
   ]
  },
  {
   "cell_type": "markdown",
   "id": "4a25de12-0df0-4a62-8045-5032a2b1df22",
   "metadata": {},
   "source": [
    "способ 2 - с помощью сторонней библиотеки dateutil"
   ]
  },
  {
   "cell_type": "code",
   "execution_count": 29,
   "id": "7b067d62-acc9-4fad-8118-8a1d2565e917",
   "metadata": {},
   "outputs": [],
   "source": [
    "from dateutil.parser import parse # pip install python-dateutil"
   ]
  },
  {
   "cell_type": "code",
   "execution_count": 33,
   "id": "db31554f-03c6-40e5-b279-3e206373d9ba",
   "metadata": {},
   "outputs": [
    {
     "name": "stdout",
     "output_type": "stream",
     "text": [
      "2023-06-28 00:00:00\n",
      "2023-08-06 00:00:00\n",
      "2023-01-06 00:00:00\n",
      "2023-06-01 00:00:00\n",
      "2023-06-01 00:00:00\n"
     ]
    }
   ],
   "source": [
    "date5_dt = parse('June 28, 2023')\n",
    "date6_dt = parse('08.06.2023')\n",
    "date7_dt = parse('01.06.2023') # по умолчанию американский порядок даты мм.дд.гггг\n",
    "date8_dt = parse('01.06.2023', dayfirst=True) # нужно подсказать, что стоит на первом месте\n",
    "date9_dt = parse('2023-06-01')\n",
    "print(date5_dt)\n",
    "print(date6_dt)\n",
    "print(date7_dt)\n",
    "print(date8_dt)\n",
    "print(date9_dt)"
   ]
  }
 ],
 "metadata": {
  "kernelspec": {
   "display_name": "Python 3 (ipykernel)",
   "language": "python",
   "name": "python3"
  },
  "language_info": {
   "codemirror_mode": {
    "name": "ipython",
    "version": 3
   },
   "file_extension": ".py",
   "mimetype": "text/x-python",
   "name": "python",
   "nbconvert_exporter": "python",
   "pygments_lexer": "ipython3",
   "version": "3.11.7"
  }
 },
 "nbformat": 4,
 "nbformat_minor": 5
}
