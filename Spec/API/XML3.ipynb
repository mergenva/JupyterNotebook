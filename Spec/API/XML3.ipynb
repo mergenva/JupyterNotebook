{
 "cells": [
  {
   "cell_type": "markdown",
   "id": "c39f1313-0f09-49b1-a494-319d9843ddb7",
   "metadata": {},
   "source": [
    "Задача\n",
    "\n",
    "a) Узнать курсы доллара, евро и юаня за 100 последних календарных дней\n",
    "R01335 - доллар, R01239 - евро, R01375 - юань\n",
    "\n",
    "Даты должны отсчитываться от даты запуска програмы (формат даты %d/%m/%Y)\n",
    "date_req1 - дата начала, date_req2 - дата конца\n",
    "\n",
    "б) Выгрузить курсы валют в виде таблицы с 4 колонками: дата, доллар, евро, юань (В любом формате)\n",
    "\n",
    "в) (сделаем вместе) Изменить в таблице формат дат на дату вида \"08 агуста 2024\""
   ]
  },
  {
   "cell_type": "code",
   "execution_count": 2,
   "id": "997b19db-004e-4389-9ac3-e9843c319733",
   "metadata": {},
   "outputs": [
    {
     "data": {
      "text/plain": [
       "'https://cbr.ru/scripts/XML_dynamic.asp?date_req1=02/03/2001&date_req2=14/03/2001&VAL_NM_RQ=R01235'"
      ]
     },
     "execution_count": 2,
     "metadata": {},
     "output_type": "execute_result"
    }
   ],
   "source": [
    "'https://cbr.ru/scripts/XML_dynamic.asp?date_req1=02/03/2001&date_req2=14/03/2001&VAL_NM_RQ=R01235'"
   ]
  },
  {
   "cell_type": "code",
   "execution_count": 3,
   "id": "c520d546-ae19-4889-bf4f-325155905708",
   "metadata": {},
   "outputs": [],
   "source": [
    "from xml.etree import ElementTree\n",
    "import datetime\n",
    "import requests"
   ]
  },
  {
   "cell_type": "code",
   "execution_count": 4,
   "id": "f3994535-ee94-40d6-923f-dae63cfa422d",
   "metadata": {},
   "outputs": [
    {
     "name": "stdout",
     "output_type": "stream",
     "text": [
      "26/05/2024\n"
     ]
    }
   ],
   "source": [
    "d2 = datetime.date.today()\n",
    "d2_ddmmyyyy = d2.strftime('%d/%m/%Y')\n",
    "\n",
    "d1 = d2 - datetime.timedelta(days=100)\n",
    "d1_ddmmyyyy = d1.strftime('%d/%m/%Y')\n",
    "\n",
    "print(d1_ddmmyyyy)"
   ]
  },
  {
   "cell_type": "code",
   "execution_count": 5,
   "id": "b3e2efbc-dbfa-4c84-b6c8-1e5b9eaa4eea",
   "metadata": {},
   "outputs": [],
   "source": [
    "currencies = {\n",
    "    \"доллар\": \"R01335\",\n",
    "    \"евро\": \"R01239\",\n",
    "    \"юань\": \"R01375\"\n",
    "}"
   ]
  },
  {
   "cell_type": "markdown",
   "id": "84fbe8a7-6439-46cd-b870-472a144ea885",
   "metadata": {},
   "source": [
    "Запрос - 1-й способ: вписываем переменные в строку"
   ]
  },
  {
   "cell_type": "code",
   "execution_count": 6,
   "id": "020ed1f5-e54a-461a-b2ad-7fedb39dc7a4",
   "metadata": {
    "scrolled": true
   },
   "outputs": [
    {
     "data": {
      "text/plain": [
       "'<?xml version=\"1.0\" encoding=\"windows-1251\"?><ValCurs ID=\"R01375\" DateRange1=\"26.05.2024\" DateRange2=\"03.09.2024\" name=\"Foreign Currency Market Dynamic\"><Record Date=\"28.05.2024\" Id=\"R01375\"><Nominal>1</Nominal><Value>12,1903</Value><VunitRate>12,1903</VunitRate></Record><Record Date=\"29.05.2024\" Id=\"R01375\"><Nominal>1</Nominal><Value>12,1628</Value><VunitRate>12,1628</VunitRate></Record><Record Date=\"30.05.2024\" Id=\"R01375\"><Nominal>1</Nominal><Value>12,2752</Value><VunitRate>12,2752</VunitRate></Record><Record Date=\"31.05.2024\" Id=\"R01375\"><Nominal>1</Nominal><Value>12,3650</Value><VunitRate>12,365</VunitRate></Record><Record Date=\"01.06.2024\" Id=\"R01375\"><Nominal>1</Nominal><Value>12,4028</Value><VunitRate>12,4028</VunitRate></Record><Record Date=\"04.06.2024\" Id=\"R01375\"><Nominal>1</Nominal><Value>12,3011</Value><VunitRate>12,3011</VunitRate></Record><Record Date=\"05.06.2024\" Id=\"R01375\"><Nominal>1</Nominal><Value>12,2248</Value><VunitRate>12,2248</VunitRate></Record><Record Date=\"06.06.2024\" Id=\"R01375\"><Nominal>1</Nominal><Value>12,2244</Value><VunitRate>12,2244</VunitRate></Record><Record Date=\"07.06.2024\" Id=\"R01375\"><Nominal>1</Nominal><Value>12,2251</Value><VunitRate>12,2251</VunitRate></Record><Record Date=\"08.06.2024\" Id=\"R01375\"><Nominal>1</Nominal><Value>12,2290</Value><VunitRate>12,229</VunitRate></Record><Record Date=\"11.06.2024\" Id=\"R01375\"><Nominal>1</Nominal><Value>12,2213</Value><VunitRate>12,2213</VunitRate></Record><Record Date=\"12.06.2024\" Id=\"R01375\"><Nominal>1</Nominal><Value>12,2310</Value><VunitRate>12,231</VunitRate></Record><Record Date=\"14.06.2024\" Id=\"R01375\"><Nominal>1</Nominal><Value>12,0408</Value><VunitRate>12,0408</VunitRate></Record><Record Date=\"15.06.2024\" Id=\"R01375\"><Nominal>1</Nominal><Value>12,1629</Value><VunitRate>12,1629</VunitRate></Record><Record Date=\"18.06.2024\" Id=\"R01375\"><Nominal>1</Nominal><Value>12,1267</Value><VunitRate>12,1267</VunitRate></Record><Record Date=\"19.06.2024\" Id=\"R01375\"><Nominal>1</Nominal><Value>11,7964</Value><VunitRate>11,7964</VunitRate></Record><Record Date=\"20.06.2024\" Id=\"R01375\"><Nominal>1</Nominal><Value>11,1652</Value><VunitRate>11,1652</VunitRate></Record><Record Date=\"21.06.2024\" Id=\"R01375\"><Nominal>1</Nominal><Value>11,5185</Value><VunitRate>11,5185</VunitRate></Record><Record Date=\"22.06.2024\" Id=\"R01375\"><Nominal>1</Nominal><Value>12,0455</Value><VunitRate>12,0455</VunitRate></Record><Record Date=\"25.06.2024\" Id=\"R01375\"><Nominal>1</Nominal><Value>11,8582</Value><VunitRate>11,8582</VunitRate></Record><Record Date=\"26.06.2024\" Id=\"R01375\"><Nominal>1</Nominal><Value>11,8105</Value><VunitRate>11,8105</VunitRate></Record><Record Date=\"27.06.2024\" Id=\"R01375\"><Nominal>1</Nominal><Value>11,8748</Value><VunitRate>11,8748</VunitRate></Record><Record Date=\"28.06.2024\" Id=\"R01375\"><Nominal>1</Nominal><Value>11,4753</Value><VunitRate>11,4753</VunitRate></Record><Record Date=\"29.06.2024\" Id=\"R01375\"><Nominal>1</Nominal><Value>11,5756</Value><VunitRate>11,5756</VunitRate></Record><Record Date=\"02.07.2024\" Id=\"R01375\"><Nominal>1</Nominal><Value>11,8019</Value><VunitRate>11,8019</VunitRate></Record><Record Date=\"03.07.2024\" Id=\"R01375\"><Nominal>1</Nominal><Value>11,9017</Value><VunitRate>11,9017</VunitRate></Record><Record Date=\"04.07.2024\" Id=\"R01375\"><Nominal>1</Nominal><Value>11,8936</Value><VunitRate>11,8936</VunitRate></Record><Record Date=\"05.07.2024\" Id=\"R01375\"><Nominal>1</Nominal><Value>11,9896</Value><VunitRate>11,9896</VunitRate></Record><Record Date=\"06.07.2024\" Id=\"R01375\"><Nominal>1</Nominal><Value>12,0058</Value><VunitRate>12,0058</VunitRate></Record><Record Date=\"09.07.2024\" Id=\"R01375\"><Nominal>1</Nominal><Value>11,9804</Value><VunitRate>11,9804</VunitRate></Record><Record Date=\"10.07.2024\" Id=\"R01375\"><Nominal>1</Nominal><Value>11,9469</Value><VunitRate>11,9469</VunitRate></Record><Record Date=\"11.07.2024\" Id=\"R01375\"><Nominal>1</Nominal><Value>11,9596</Value><VunitRate>11,9596</VunitRate></Record><Record Date=\"12.07.2024\" Id=\"R01375\"><Nominal>1</Nominal><Value>11,9987</Value><VunitRate>11,9987</VunitRate></Record><Record Date=\"13.07.2024\" Id=\"R01375\"><Nominal>1</Nominal><Value>11,9766</Value><VunitRate>11,9766</VunitRate></Record><Record Date=\"16.07.2024\" Id=\"R01375\"><Nominal>1</Nominal><Value>11,9791</Value><VunitRate>11,9791</VunitRate></Record><Record Date=\"17.07.2024\" Id=\"R01375\"><Nominal>1</Nominal><Value>12,0492</Value><VunitRate>12,0492</VunitRate></Record><Record Date=\"18.07.2024\" Id=\"R01375\"><Nominal>1</Nominal><Value>12,0537</Value><VunitRate>12,0537</VunitRate></Record><Record Date=\"19.07.2024\" Id=\"R01375\"><Nominal>1</Nominal><Value>12,0227</Value><VunitRate>12,0227</VunitRate></Record><Record Date=\"20.07.2024\" Id=\"R01375\"><Nominal>1</Nominal><Value>12,0335</Value><VunitRate>12,0335</VunitRate></Record><Record Date=\"23.07.2024\" Id=\"R01375\"><Nominal>1</Nominal><Value>11,9740</Value><VunitRate>11,974</VunitRate></Record><Record Date=\"24.07.2024\" Id=\"R01375\"><Nominal>1</Nominal><Value>11,9062</Value><VunitRate>11,9062</VunitRate></Record><Record Date=\"25.07.2024\" Id=\"R01375\"><Nominal>1</Nominal><Value>11,8263</Value><VunitRate>11,8263</VunitRate></Record><Record Date=\"26.07.2024\" Id=\"R01375\"><Nominal>1</Nominal><Value>11,7408</Value><VunitRate>11,7408</VunitRate></Record><Record Date=\"27.07.2024\" Id=\"R01375\"><Nominal>1</Nominal><Value>11,7296</Value><VunitRate>11,7296</VunitRate></Record><Record Date=\"30.07.2024\" Id=\"R01375\"><Nominal>1</Nominal><Value>11,8567</Value><VunitRate>11,8567</VunitRate></Record><Record Date=\"31.07.2024\" Id=\"R01375\"><Nominal>1</Nominal><Value>11,8368</Value><VunitRate>11,8368</VunitRate></Record><Record Date=\"01.08.2024\" Id=\"R01375\"><Nominal>1</Nominal><Value>11,8747</Value><VunitRate>11,8747</VunitRate></Record><Record Date=\"02.08.2024\" Id=\"R01375\"><Nominal>1</Nominal><Value>11,7918</Value><VunitRate>11,7918</VunitRate></Record><Record Date=\"03.08.2024\" Id=\"R01375\"><Nominal>1</Nominal><Value>11,8307</Value><VunitRate>11,8307</VunitRate></Record><Record Date=\"06.08.2024\" Id=\"R01375\"><Nominal>1</Nominal><Value>11,8289</Value><VunitRate>11,8289</VunitRate></Record><Record Date=\"07.08.2024\" Id=\"R01375\"><Nominal>1</Nominal><Value>11,7890</Value><VunitRate>11,789</VunitRate></Record><Record Date=\"08.08.2024\" Id=\"R01375\"><Nominal>1</Nominal><Value>11,8074</Value><VunitRate>11,8074</VunitRate></Record><Record Date=\"09.08.2024\" Id=\"R01375\"><Nominal>1</Nominal><Value>11,8664</Value><VunitRate>11,8664</VunitRate></Record><Record Date=\"10.08.2024\" Id=\"R01375\"><Nominal>1</Nominal><Value>11,8911</Value><VunitRate>11,8911</VunitRate></Record><Record Date=\"13.08.2024\" Id=\"R01375\"><Nominal>1</Nominal><Value>11,8576</Value><VunitRate>11,8576</VunitRate></Record><Record Date=\"14.08.2024\" Id=\"R01375\"><Nominal>1</Nominal><Value>12,0233</Value><VunitRate>12,0233</VunitRate></Record><Record Date=\"15.08.2024\" Id=\"R01375\"><Nominal>1</Nominal><Value>12,0672</Value><VunitRate>12,0672</VunitRate></Record><Record Date=\"16.08.2024\" Id=\"R01375\"><Nominal>1</Nominal><Value>11,9319</Value><VunitRate>11,9319</VunitRate></Record><Record Date=\"17.08.2024\" Id=\"R01375\"><Nominal>1</Nominal><Value>12,0542</Value><VunitRate>12,0542</VunitRate></Record><Record Date=\"20.08.2024\" Id=\"R01375\"><Nominal>1</Nominal><Value>12,1204</Value><VunitRate>12,1204</VunitRate></Record><Record Date=\"21.08.2024\" Id=\"R01375\"><Nominal>1</Nominal><Value>12,1161</Value><VunitRate>12,1161</VunitRate></Record><Record Date=\"22.08.2024\" Id=\"R01375\"><Nominal>1</Nominal><Value>12,2114</Value><VunitRate>12,2114</VunitRate></Record><Record Date=\"23.08.2024\" Id=\"R01375\"><Nominal>1</Nominal><Value>11,9567</Value><VunitRate>11,9567</VunitRate></Record><Record Date=\"24.08.2024\" Id=\"R01375\"><Nominal>1</Nominal><Value>11,7747</Value><VunitRate>11,7747</VunitRate></Record><Record Date=\"27.08.2024\" Id=\"R01375\"><Nominal>1</Nominal><Value>11,6863</Value><VunitRate>11,6863</VunitRate></Record><Record Date=\"28.08.2024\" Id=\"R01375\"><Nominal>1</Nominal><Value>11,7513</Value><VunitRate>11,7513</VunitRate></Record><Record Date=\"29.08.2024\" Id=\"R01375\"><Nominal>1</Nominal><Value>11,8357</Value><VunitRate>11,8357</VunitRate></Record><Record Date=\"30.08.2024\" Id=\"R01375\"><Nominal>1</Nominal><Value>11,9057</Value><VunitRate>11,9057</VunitRate></Record><Record Date=\"31.08.2024\" Id=\"R01375\"><Nominal>1</Nominal><Value>12,0151</Value><VunitRate>12,0151</VunitRate></Record><Record Date=\"03.09.2024\" Id=\"R01375\"><Nominal>1</Nominal><Value>12,0532</Value><VunitRate>12,0532</VunitRate></Record></ValCurs>'"
      ]
     },
     "execution_count": 6,
     "metadata": {},
     "output_type": "execute_result"
    }
   ],
   "source": [
    "url = f'https://cbr.ru/scripts/XML_dynamic.asp?date_req1={d1_ddmmyyyy}&date_req2={d2_ddmmyyyy}&VAL_NM_RQ={currencies[\"юань\"]}'\n",
    "resp = requests.get(url)\n",
    "resp.text"
   ]
  },
  {
   "cell_type": "markdown",
   "id": "923b1b80-2d89-4757-8489-b4911269d597",
   "metadata": {},
   "source": [
    "Запрос - 2-й способ - через словарь с параметрами"
   ]
  },
  {
   "cell_type": "code",
   "execution_count": 7,
   "id": "59f89720-e8f3-4cd7-8ca6-588bb94473a7",
   "metadata": {
    "scrolled": true
   },
   "outputs": [
    {
     "data": {
      "text/plain": [
       "'<?xml version=\"1.0\" encoding=\"windows-1251\"?><ValCurs ID=\"R01239\" DateRange1=\"26.05.2024\" DateRange2=\"03.09.2024\" name=\"Foreign Currency Market Dynamic\"><Record Date=\"28.05.2024\" Id=\"R01239\"><Nominal>1</Nominal><Value>96,3034</Value><VunitRate>96,3034</VunitRate></Record><Record Date=\"29.05.2024\" Id=\"R01239\"><Nominal>1</Nominal><Value>96,2383</Value><VunitRate>96,2383</VunitRate></Record><Record Date=\"30.05.2024\" Id=\"R01239\"><Nominal>1</Nominal><Value>96,8910</Value><VunitRate>96,891</VunitRate></Record><Record Date=\"31.05.2024\" Id=\"R01239\"><Nominal>1</Nominal><Value>97,1347</Value><VunitRate>97,1347</VunitRate></Record><Record Date=\"01.06.2024\" Id=\"R01239\"><Nominal>1</Nominal><Value>97,7908</Value><VunitRate>97,7908</VunitRate></Record><Record Date=\"04.06.2024\" Id=\"R01239\"><Nominal>1</Nominal><Value>96,8721</Value><VunitRate>96,8721</VunitRate></Record><Record Date=\"05.06.2024\" Id=\"R01239\"><Nominal>1</Nominal><Value>96,5630</Value><VunitRate>96,563</VunitRate></Record><Record Date=\"06.06.2024\" Id=\"R01239\"><Nominal>1</Nominal><Value>96,4443</Value><VunitRate>96,4443</VunitRate></Record><Record Date=\"07.06.2024\" Id=\"R01239\"><Nominal>1</Nominal><Value>96,5698</Value><VunitRate>96,5698</VunitRate></Record><Record Date=\"08.06.2024\" Id=\"R01239\"><Nominal>1</Nominal><Value>96,6916</Value><VunitRate>96,6916</VunitRate></Record><Record Date=\"11.06.2024\" Id=\"R01239\"><Nominal>1</Nominal><Value>95,6367</Value><VunitRate>95,6367</VunitRate></Record><Record Date=\"12.06.2024\" Id=\"R01239\"><Nominal>1</Nominal><Value>95,7391</Value><VunitRate>95,7391</VunitRate></Record><Record Date=\"14.06.2024\" Id=\"R01239\"><Nominal>1</Nominal><Value>94,8324</Value><VunitRate>94,8324</VunitRate></Record><Record Date=\"15.06.2024\" Id=\"R01239\"><Nominal>1</Nominal><Value>95,1514</Value><VunitRate>95,1514</VunitRate></Record><Record Date=\"18.06.2024\" Id=\"R01239\"><Nominal>1</Nominal><Value>95,3906</Value><VunitRate>95,3906</VunitRate></Record><Record Date=\"19.06.2024\" Id=\"R01239\"><Nominal>1</Nominal><Value>93,2994</Value><VunitRate>93,2994</VunitRate></Record><Record Date=\"20.06.2024\" Id=\"R01239\"><Nominal>1</Nominal><Value>89,0914</Value><VunitRate>89,0914</VunitRate></Record><Record Date=\"21.06.2024\" Id=\"R01239\"><Nominal>1</Nominal><Value>91,4543</Value><VunitRate>91,4543</VunitRate></Record><Record Date=\"22.06.2024\" Id=\"R01239\"><Nominal>1</Nominal><Value>94,2606</Value><VunitRate>94,2606</VunitRate></Record><Record Date=\"25.06.2024\" Id=\"R01239\"><Nominal>1</Nominal><Value>94,0759</Value><VunitRate>94,0759</VunitRate></Record><Record Date=\"26.06.2024\" Id=\"R01239\"><Nominal>1</Nominal><Value>93,7347</Value><VunitRate>93,7347</VunitRate></Record><Record Date=\"27.06.2024\" Id=\"R01239\"><Nominal>1</Nominal><Value>94,1131</Value><VunitRate>94,1131</VunitRate></Record><Record Date=\"28.06.2024\" Id=\"R01239\"><Nominal>1</Nominal><Value>90,9874</Value><VunitRate>90,9874</VunitRate></Record><Record Date=\"29.06.2024\" Id=\"R01239\"><Nominal>1</Nominal><Value>92,4184</Value><VunitRate>92,4184</VunitRate></Record><Record Date=\"02.07.2024\" Id=\"R01239\"><Nominal>1</Nominal><Value>93,9582</Value><VunitRate>93,9582</VunitRate></Record><Record Date=\"03.07.2024\" Id=\"R01239\"><Nominal>1</Nominal><Value>93,6950</Value><VunitRate>93,695</VunitRate></Record><Record Date=\"04.07.2024\" Id=\"R01239\"><Nominal>1</Nominal><Value>94,5829</Value><VunitRate>94,5829</VunitRate></Record><Record Date=\"05.07.2024\" Id=\"R01239\"><Nominal>1</Nominal><Value>94,9836</Value><VunitRate>94,9836</VunitRate></Record><Record Date=\"06.07.2024\" Id=\"R01239\"><Nominal>1</Nominal><Value>95,5700</Value><VunitRate>95,57</VunitRate></Record><Record Date=\"09.07.2024\" Id=\"R01239\"><Nominal>1</Nominal><Value>95,6624</Value><VunitRate>95,6624</VunitRate></Record><Record Date=\"10.07.2024\" Id=\"R01239\"><Nominal>1</Nominal><Value>95,3447</Value><VunitRate>95,3447</VunitRate></Record><Record Date=\"11.07.2024\" Id=\"R01239\"><Nominal>1</Nominal><Value>95,3206</Value><VunitRate>95,3206</VunitRate></Record><Record Date=\"12.07.2024\" Id=\"R01239\"><Nominal>1</Nominal><Value>95,6817</Value><VunitRate>95,6817</VunitRate></Record><Record Date=\"13.07.2024\" Id=\"R01239\"><Nominal>1</Nominal><Value>95,7588</Value><VunitRate>95,7588</VunitRate></Record><Record Date=\"16.07.2024\" Id=\"R01239\"><Nominal>1</Nominal><Value>95,7849</Value><VunitRate>95,7849</VunitRate></Record><Record Date=\"17.07.2024\" Id=\"R01239\"><Nominal>1</Nominal><Value>96,2637</Value><VunitRate>96,2637</VunitRate></Record><Record Date=\"18.07.2024\" Id=\"R01239\"><Nominal>1</Nominal><Value>96,3046</Value><VunitRate>96,3046</VunitRate></Record><Record Date=\"19.07.2024\" Id=\"R01239\"><Nominal>1</Nominal><Value>96,1018</Value><VunitRate>96,1018</VunitRate></Record><Record Date=\"20.07.2024\" Id=\"R01239\"><Nominal>1</Nominal><Value>96,0371</Value><VunitRate>96,0371</VunitRate></Record><Record Date=\"23.07.2024\" Id=\"R01239\"><Nominal>1</Nominal><Value>95,7591</Value><VunitRate>95,7591</VunitRate></Record><Record Date=\"24.07.2024\" Id=\"R01239\"><Nominal>1</Nominal><Value>95,4598</Value><VunitRate>95,4598</VunitRate></Record><Record Date=\"25.07.2024\" Id=\"R01239\"><Nominal>1</Nominal><Value>94,3758</Value><VunitRate>94,3758</VunitRate></Record><Record Date=\"26.07.2024\" Id=\"R01239\"><Nominal>1</Nominal><Value>93,1711</Value><VunitRate>93,1711</VunitRate></Record><Record Date=\"27.07.2024\" Id=\"R01239\"><Nominal>1</Nominal><Value>93,2641</Value><VunitRate>93,2641</VunitRate></Record><Record Date=\"30.07.2024\" Id=\"R01239\"><Nominal>1</Nominal><Value>94,1381</Value><VunitRate>94,1381</VunitRate></Record><Record Date=\"31.07.2024\" Id=\"R01239\"><Nominal>1</Nominal><Value>93,2947</Value><VunitRate>93,2947</VunitRate></Record><Record Date=\"01.08.2024\" Id=\"R01239\"><Nominal>1</Nominal><Value>93,5149</Value><VunitRate>93,5149</VunitRate></Record><Record Date=\"02.08.2024\" Id=\"R01239\"><Nominal>1</Nominal><Value>92,8499</Value><VunitRate>92,8499</VunitRate></Record><Record Date=\"03.08.2024\" Id=\"R01239\"><Nominal>1</Nominal><Value>92,8291</Value><VunitRate>92,8291</VunitRate></Record><Record Date=\"06.08.2024\" Id=\"R01239\"><Nominal>1</Nominal><Value>93,0409</Value><VunitRate>93,0409</VunitRate></Record><Record Date=\"07.08.2024\" Id=\"R01239\"><Nominal>1</Nominal><Value>93,0265</Value><VunitRate>93,0265</VunitRate></Record><Record Date=\"08.08.2024\" Id=\"R01239\"><Nominal>1</Nominal><Value>93,8419</Value><VunitRate>93,8419</VunitRate></Record><Record Date=\"09.08.2024\" Id=\"R01239\"><Nominal>1</Nominal><Value>94,1333</Value><VunitRate>94,1333</VunitRate></Record><Record Date=\"10.08.2024\" Id=\"R01239\"><Nominal>1</Nominal><Value>95,1844</Value><VunitRate>95,1844</VunitRate></Record><Record Date=\"13.08.2024\" Id=\"R01239\"><Nominal>1</Nominal><Value>96,6852</Value><VunitRate>96,6852</VunitRate></Record><Record Date=\"14.08.2024\" Id=\"R01239\"><Nominal>1</Nominal><Value>100,5590</Value><VunitRate>100,559</VunitRate></Record><Record Date=\"15.08.2024\" Id=\"R01239\"><Nominal>1</Nominal><Value>100,3139</Value><VunitRate>100,3139</VunitRate></Record><Record Date=\"16.08.2024\" Id=\"R01239\"><Nominal>1</Nominal><Value>98,3232</Value><VunitRate>98,3232</VunitRate></Record><Record Date=\"17.08.2024\" Id=\"R01239\"><Nominal>1</Nominal><Value>97,8390</Value><VunitRate>97,839</VunitRate></Record><Record Date=\"20.08.2024\" Id=\"R01239\"><Nominal>1</Nominal><Value>98,9355</Value><VunitRate>98,9355</VunitRate></Record><Record Date=\"21.08.2024\" Id=\"R01239\"><Nominal>1</Nominal><Value>100,2040</Value><VunitRate>100,204</VunitRate></Record><Record Date=\"22.08.2024\" Id=\"R01239\"><Nominal>1</Nominal><Value>101,9508</Value><VunitRate>101,9508</VunitRate></Record><Record Date=\"23.08.2024\" Id=\"R01239\"><Nominal>1</Nominal><Value>101,6207</Value><VunitRate>101,6207</VunitRate></Record><Record Date=\"24.08.2024\" Id=\"R01239\"><Nominal>1</Nominal><Value>101,6125</Value><VunitRate>101,6125</VunitRate></Record><Record Date=\"27.08.2024\" Id=\"R01239\"><Nominal>1</Nominal><Value>102,4927</Value><VunitRate>102,4927</VunitRate></Record><Record Date=\"28.08.2024\" Id=\"R01239\"><Nominal>1</Nominal><Value>102,2911</Value><VunitRate>102,2911</VunitRate></Record><Record Date=\"29.08.2024\" Id=\"R01239\"><Nominal>1</Nominal><Value>102,0798</Value><VunitRate>102,0798</VunitRate></Record><Record Date=\"30.08.2024\" Id=\"R01239\"><Nominal>1</Nominal><Value>101,7714</Value><VunitRate>101,7714</VunitRate></Record><Record Date=\"31.08.2024\" Id=\"R01239\"><Nominal>1</Nominal><Value>100,7622</Value><VunitRate>100,7622</VunitRate></Record><Record Date=\"03.09.2024\" Id=\"R01239\"><Nominal>1</Nominal><Value>99,2613</Value><VunitRate>99,2613</VunitRate></Record></ValCurs>'"
      ]
     },
     "execution_count": 7,
     "metadata": {},
     "output_type": "execute_result"
    }
   ],
   "source": [
    "p = {\n",
    "    'date_req1': d1_ddmmyyyy,\n",
    "    'date_req2': d2_ddmmyyyy,\n",
    "    'VAL_NM_RQ': currencies[\"евро\"]\n",
    "}\n",
    "\n",
    "endpoint = 'https://www.cbr.ru/scripts/XML_dynamic.asp'\n",
    "\n",
    "resp = requests.get(endpoint, params=p)\n",
    "resp.text"
   ]
  },
  {
   "cell_type": "markdown",
   "id": "5189cba7-c554-42f5-8243-418444de7760",
   "metadata": {},
   "source": [
    "Про аутентификацию\n",
    "1. Анонимные запросы (редко бывает)\n",
    "2. Нужно передавать вместе с запросами ваш ключ (API key)\n",
    "   * либо как еще параметр в запросе, например: https://cbr.ru/scripts/XML_dynamic.asp?date_req1=02/03/2001&date_req2=14/03/2001&VAL_NM_RQ=R01235&api_key=12432525thjuhfg4597234u312u34234r2\n",
    "   * либо в заголовке (параметр headers в библиотеке requests), например:\n",
    "   \n",
    "   requests.get('https://meteostat.p.rapidapi.com/stations/meta?id=10637', headers={'x-rapidapi-key': '12432525thjuhfg4597234u312u34234r2'\n",
    "\n",
    "})\n",
    "3. Нужно передать токен, который сначала надо получить на сервере аутентификации (например, если используете OAuth2)"
   ]
  },
  {
   "cell_type": "code",
   "execution_count": 8,
   "id": "50a7086f-ea10-48a6-adec-27dd53405ef6",
   "metadata": {},
   "outputs": [
    {
     "data": {
      "text/plain": [
       "dict_items([('доллар', 'R01335'), ('евро', 'R01239'), ('юань', 'R01375')])"
      ]
     },
     "execution_count": 8,
     "metadata": {},
     "output_type": "execute_result"
    }
   ],
   "source": [
    "currencies.items()"
   ]
  },
  {
   "cell_type": "code",
   "execution_count": 15,
   "id": "5b6a8364-82a1-499c-8783-08b636ebfd0c",
   "metadata": {},
   "outputs": [
    {
     "name": "stdout",
     "output_type": "stream",
     "text": [
      "доллар\n"
     ]
    },
    {
     "ename": "TypeError",
     "evalue": "'builtin_function_or_method' object is not subscriptable",
     "output_type": "error",
     "traceback": [
      "\u001b[0;31m---------------------------------------------------------------------------\u001b[0m",
      "\u001b[0;31mTypeError\u001b[0m                                 Traceback (most recent call last)",
      "Cell \u001b[0;32mIn[15], line 22\u001b[0m\n\u001b[1;32m     20\u001b[0m \u001b[38;5;28;01mfor\u001b[39;00m record \u001b[38;5;129;01min\u001b[39;00m valcurs:\n\u001b[1;32m     21\u001b[0m     date \u001b[38;5;241m=\u001b[39m record\u001b[38;5;241m.\u001b[39mattrib[\u001b[38;5;124m'\u001b[39m\u001b[38;5;124mDate\u001b[39m\u001b[38;5;124m'\u001b[39m]\n\u001b[0;32m---> 22\u001b[0m     price \u001b[38;5;241m=\u001b[39m \u001b[38;5;28mfloat\u001b[39m(record\u001b[38;5;241m.\u001b[39mfind[\u001b[38;5;124m'\u001b[39m\u001b[38;5;124mValue\u001b[39m\u001b[38;5;124m'\u001b[39m]\u001b[38;5;241m.\u001b[39mtext\u001b[38;5;241m.\u001b[39mreplace(\u001b[38;5;124m'\u001b[39m\u001b[38;5;124m,\u001b[39m\u001b[38;5;124m'\u001b[39m, \u001b[38;5;124m'\u001b[39m\u001b[38;5;124m.\u001b[39m\u001b[38;5;124m'\u001b[39m))\n\u001b[1;32m     23\u001b[0m     \u001b[38;5;66;03m#print(date, price)\u001b[39;00m\n\u001b[1;32m     24\u001b[0m     tmp[date] \u001b[38;5;241m=\u001b[39m price\n",
      "\u001b[0;31mTypeError\u001b[0m: 'builtin_function_or_method' object is not subscriptable"
     ]
    }
   ],
   "source": [
    "endpoint = 'https://www.cbr.ru/scripts/XML_dynamic.asp'\n",
    "\n",
    "data = {}\n",
    "\n",
    "for currency_name, currency_code in currencies.items():\n",
    "    p = {\n",
    "        'date_req1': d1_ddmmyyyy,\n",
    "        'date_req2': d2_ddmmyyyy,\n",
    "        'VAL_NM_RQ': currency_code\n",
    "    }\n",
    "    resp = requests.get(endpoint, params=p)\n",
    "    #resp.text\n",
    "    print(currency_name)\n",
    "\n",
    "    # В этот раз передаем не файл, а переменную с текстом\n",
    "    valcurs = ElementTree.fromstring(resp.text)\n",
    "    #print(type(valcurs))\n",
    "\n",
    "    tmp = {}\n",
    "    for record in valcurs:\n",
    "        date = record.attrib['Date']\n",
    "        price = float(record.find['Value'].text.replace(',', '.'))\n",
    "        #print(date, price)\n",
    "        tmp[date] = price\n",
    "    data[currency_name] = tmp\n",
    "print(data)"
   ]
  },
  {
   "cell_type": "markdown",
   "id": "58449617-8e48-4ac5-8564-5b9b6705b308",
   "metadata": {},
   "source": [
    "Теперь пункт б) задачи"
   ]
  },
  {
   "cell_type": "markdown",
   "id": "c9dfb9f7-2bf2-4565-9e70-5ddcc23b40de",
   "metadata": {},
   "source": [
    "Составляем таблицу"
   ]
  },
  {
   "cell_type": "code",
   "execution_count": 16,
   "id": "f70b96b2-70d2-4aad-810e-4d64ace15f2e",
   "metadata": {},
   "outputs": [
    {
     "ename": "KeyError",
     "evalue": "'доллар'",
     "output_type": "error",
     "traceback": [
      "\u001b[0;31m---------------------------------------------------------------------------\u001b[0m",
      "\u001b[0;31mKeyError\u001b[0m                                  Traceback (most recent call last)",
      "Cell \u001b[0;32mIn[16], line 1\u001b[0m\n\u001b[0;32m----> 1\u001b[0m data[\u001b[38;5;124m'\u001b[39m\u001b[38;5;124mдоллар\u001b[39m\u001b[38;5;124m'\u001b[39m]\u001b[38;5;241m.\u001b[39mkeys()\n",
      "\u001b[0;31mKeyError\u001b[0m: 'доллар'"
     ]
    }
   ],
   "source": [
    "data['доллар'].keys()"
   ]
  }
 ],
 "metadata": {
  "kernelspec": {
   "display_name": "Python 3 (ipykernel)",
   "language": "python",
   "name": "python3"
  },
  "language_info": {
   "codemirror_mode": {
    "name": "ipython",
    "version": 3
   },
   "file_extension": ".py",
   "mimetype": "text/x-python",
   "name": "python",
   "nbconvert_exporter": "python",
   "pygments_lexer": "ipython3",
   "version": "3.11.7"
  }
 },
 "nbformat": 4,
 "nbformat_minor": 5
}
