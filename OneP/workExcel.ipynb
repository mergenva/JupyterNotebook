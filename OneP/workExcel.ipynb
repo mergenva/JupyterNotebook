{
 "cells": [
  {
   "cell_type": "code",
   "execution_count": 1,
   "id": "1b08bd3c-a430-4cc8-b5f2-d2ad6fc4c108",
   "metadata": {},
   "outputs": [],
   "source": [
    "import openpyxl"
   ]
  },
  {
   "cell_type": "code",
   "execution_count": 42,
   "id": "47587c6a-11e8-46c2-833a-b09d2d2b9e2b",
   "metadata": {},
   "outputs": [],
   "source": [
    "wb = openpyxl.load_workbook(r\"listX.xlsx\")"
   ]
  },
  {
   "cell_type": "code",
   "execution_count": 43,
   "id": "d538723d-190d-4e26-86d7-3e41a63c69df",
   "metadata": {},
   "outputs": [],
   "source": [
    "ws = wb['Шаблон']"
   ]
  },
  {
   "cell_type": "code",
   "execution_count": 48,
   "id": "3aa8f977-1354-4d9b-bd6b-93bcec417cbf",
   "metadata": {},
   "outputs": [
    {
     "name": "stdout",
     "output_type": "stream",
     "text": [
      "Код поставщика: К000059438\n",
      "None\n",
      "None\n",
      "None\n",
      "None\n",
      "None\n",
      "None\n",
      "None\n",
      "None\n",
      "None\n",
      "None\n",
      "None\n",
      "None\n",
      "=#REF!\n"
     ]
    }
   ],
   "source": [
    "for cell in ws[2]:\n",
    "    print(cell.value)"
   ]
  },
  {
   "cell_type": "code",
   "execution_count": 50,
   "id": "38328ecd-5a6d-4e72-96ca-8468349e888a",
   "metadata": {},
   "outputs": [],
   "source": [
    "import jinja2"
   ]
  },
  {
   "cell_type": "code",
   "execution_count": 53,
   "id": "bb45d930-02ac-4b2d-b6fb-960bbfb2252d",
   "metadata": {},
   "outputs": [],
   "source": [
    "name = \"Мерген\"\n",
    "\n",
    "tm = jinja2.Template(\"Привет, {{ name }}\")\n",
    "msg = tm.render(name=name)\n"
   ]
  },
  {
   "cell_type": "code",
   "execution_count": 54,
   "id": "0a389149-df6a-4fd0-b966-c598e4ff9743",
   "metadata": {},
   "outputs": [
    {
     "name": "stdout",
     "output_type": "stream",
     "text": [
      "Привет, Мерген\n"
     ]
    }
   ],
   "source": [
    "print(msg)"
   ]
  },
  {
   "cell_type": "code",
   "execution_count": null,
   "id": "17de67dc-a22c-470e-bc4e-0bafcc41f335",
   "metadata": {},
   "outputs": [],
   "source": []
  }
 ],
 "metadata": {
  "kernelspec": {
   "display_name": "Python 3 (ipykernel)",
   "language": "python",
   "name": "python3"
  },
  "language_info": {
   "codemirror_mode": {
    "name": "ipython",
    "version": 3
   },
   "file_extension": ".py",
   "mimetype": "text/x-python",
   "name": "python",
   "nbconvert_exporter": "python",
   "pygments_lexer": "ipython3",
   "version": "3.10.12"
  }
 },
 "nbformat": 4,
 "nbformat_minor": 5
}
